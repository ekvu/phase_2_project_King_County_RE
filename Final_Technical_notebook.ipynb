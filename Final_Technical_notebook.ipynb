{
 "cells": [
  {
   "cell_type": "markdown",
   "metadata": {},
   "source": [
    "## Analysis and Modelling of King County, WA Home Sale Prices\n"
   ]
  },
  {
   "cell_type": "markdown",
   "metadata": {},
   "source": [
    "Authors: Erin Vu and Brian Matsiko"
   ]
  },
  {
   "cell_type": "markdown",
   "metadata": {},
   "source": [
    "### Overview"
   ]
  },
  {
   "cell_type": "markdown",
   "metadata": {},
   "source": [
    "This project analyzes the factors that determine housing prices in King County, WA, Seattle. The anlalysis then forms the basis of the model is directed towards assisting the Seattle real estate and housing company with the understanding and structuring their business model with the goal of maximising home sales to the community needs."
   ]
  },
  {
   "cell_type": "markdown",
   "metadata": {},
   "source": [
    "## Business Problems"
   ]
  },
  {
   "cell_type": "markdown",
   "metadata": {},
   "source": [
    "Seattle Rental Group seeks to it's increase porfolio in King County Seattle and wants to accurately predict the sales price of a property. Having an accurate sales prediction will aid in strategizing the investment options to maximize their profit. A multiple linaer regression model will be built base on provided property data for this task."
   ]
  },
  {
   "cell_type": "markdown",
   "metadata": {},
   "source": [
    "## Aims:"
   ]
  },
  {
   "cell_type": "markdown",
   "metadata": {},
   "source": [
    "This project aims to:"
   ]
  },
  {
   "cell_type": "markdown",
   "metadata": {},
   "source": [
    "- Highlight feature that has the greatest correlation with the property sales prices within King County Seattle\n",
    "- Identify what aspects of the real estate features bring value \n",
    "- Understand whether recently revonated and built houses more valueable.\n",
    "           "
   ]
  },
  {
   "cell_type": "markdown",
   "metadata": {},
   "source": [
    "## Definitions:"
   ]
  },
  {
   "cell_type": "markdown",
   "metadata": {},
   "source": [
    "- Model:\n",
    "      The term model referred to through this project is in reference to the linear regression model which we build to explain the variance in home sale prices\n",
    "- Features:\n",
    "      Features refer to the independent variables we choose for our model to help predict sale prices\n",
    "- Target:\n",
    "      Sale Price is our target variable which our model aims to predict"
   ]
  },
  {
   "cell_type": "markdown",
   "metadata": {},
   "source": [
    "## Data:"
   ]
  },
  {
   "cell_type": "markdown",
   "metadata": {},
   "source": [
    "The data used in this project is from the King County Department of Assessments website and can be found here. From this link, you can find the files/tables that were used in this project:"
   ]
  },
  {
   "cell_type": "markdown",
   "metadata": {},
   "source": [
    "Our analysis was only looking at data from years 2014 and 2015. "
   ]
  },
  {
   "cell_type": "markdown",
   "metadata": {},
   "source": [
    "## Table of contents:"
   ]
  },
  {
   "cell_type": "markdown",
   "metadata": {},
   "source": [
    "- Data Cleaning and Exploratory Data Analysis (EDA)\n",
    "- Investigate Target Variable: Sales Price\n",
    "- First Simple Linear Regression Model\n",
    "- Model Iterations 1 - 6\n",
    "- Model interpretation\n",
    "- Claim Validation\n",
    "- Conclusion"
   ]
  },
  {
   "cell_type": "markdown",
   "metadata": {},
   "source": [
    "## Analysis Takeaways, Future Investigations and Recommendations:\n"
   ]
  },
  {
   "cell_type": "code",
   "execution_count": null,
   "metadata": {},
   "outputs": [],
   "source": []
  },
  {
   "cell_type": "code",
   "execution_count": null,
   "metadata": {},
   "outputs": [],
   "source": []
  },
  {
   "cell_type": "code",
   "execution_count": null,
   "metadata": {},
   "outputs": [],
   "source": []
  },
  {
   "cell_type": "code",
   "execution_count": null,
   "metadata": {},
   "outputs": [],
   "source": []
  },
  {
   "cell_type": "markdown",
   "metadata": {},
   "source": [
    "## Libraries "
   ]
  },
  {
   "cell_type": "code",
   "execution_count": 1,
   "metadata": {},
   "outputs": [],
   "source": [
    "from sklearn.preprocessing import PowerTransformer\n",
    "import os\n",
    "import pandas as pd\n",
    "import numpy as np\n",
    "import scipy.stats as stats\n",
    "import matplotlib.pyplot as plt\n",
    "import seaborn as sns\n",
    "import plotly.express as px\n",
    "import statsmodels.api as sm\n",
    "import statsmodels.formula.api as smf\n",
    "from sklearn.model_selection import train_test_split\n",
    "from sklearn.linear_model import LinearRegression\n",
    "from sklearn.feature_selection import RFE, RFECV\n",
    "from sklearn import metrics\n",
    "import pickle\n",
    "import statsmodels\n",
    "from statsmodels.formula.api import ols\n",
    "from sklearn.preprocessing import OneHotEncoder\n",
    "%matplotlib inline\n",
    "pd.options.display.max_columns = 500\n",
    "pd.options.display.max_rows = 500"
   ]
  },
  {
   "cell_type": "markdown",
   "metadata": {},
   "source": [
    "## Data Extraction"
   ]
  },
  {
   "cell_type": "code",
   "execution_count": 2,
   "metadata": {},
   "outputs": [
    {
     "data": {
      "text/html": [
       "<div>\n",
       "<style scoped>\n",
       "    .dataframe tbody tr th:only-of-type {\n",
       "        vertical-align: middle;\n",
       "    }\n",
       "\n",
       "    .dataframe tbody tr th {\n",
       "        vertical-align: top;\n",
       "    }\n",
       "\n",
       "    .dataframe thead th {\n",
       "        text-align: right;\n",
       "    }\n",
       "</style>\n",
       "<table border=\"1\" class=\"dataframe\">\n",
       "  <thead>\n",
       "    <tr style=\"text-align: right;\">\n",
       "      <th></th>\n",
       "      <th>id</th>\n",
       "      <th>date</th>\n",
       "      <th>price</th>\n",
       "      <th>bedrooms</th>\n",
       "      <th>bathrooms</th>\n",
       "      <th>sqft_living</th>\n",
       "      <th>sqft_lot</th>\n",
       "      <th>floors</th>\n",
       "      <th>waterfront</th>\n",
       "      <th>view</th>\n",
       "      <th>condition</th>\n",
       "      <th>grade</th>\n",
       "      <th>sqft_above</th>\n",
       "      <th>sqft_basement</th>\n",
       "      <th>yr_built</th>\n",
       "      <th>yr_renovated</th>\n",
       "      <th>zipcode</th>\n",
       "      <th>lat</th>\n",
       "      <th>long</th>\n",
       "      <th>sqft_living15</th>\n",
       "      <th>sqft_lot15</th>\n",
       "    </tr>\n",
       "  </thead>\n",
       "  <tbody>\n",
       "    <tr>\n",
       "      <th>0</th>\n",
       "      <td>7129300520</td>\n",
       "      <td>10/13/2014</td>\n",
       "      <td>221900.0</td>\n",
       "      <td>3</td>\n",
       "      <td>1.00</td>\n",
       "      <td>1180</td>\n",
       "      <td>5650</td>\n",
       "      <td>1.0</td>\n",
       "      <td>NaN</td>\n",
       "      <td>0.0</td>\n",
       "      <td>3</td>\n",
       "      <td>7</td>\n",
       "      <td>1180</td>\n",
       "      <td>0.0</td>\n",
       "      <td>1955</td>\n",
       "      <td>0.0</td>\n",
       "      <td>98178</td>\n",
       "      <td>47.5112</td>\n",
       "      <td>-122.257</td>\n",
       "      <td>1340</td>\n",
       "      <td>5650</td>\n",
       "    </tr>\n",
       "    <tr>\n",
       "      <th>1</th>\n",
       "      <td>6414100192</td>\n",
       "      <td>12/9/2014</td>\n",
       "      <td>538000.0</td>\n",
       "      <td>3</td>\n",
       "      <td>2.25</td>\n",
       "      <td>2570</td>\n",
       "      <td>7242</td>\n",
       "      <td>2.0</td>\n",
       "      <td>0.0</td>\n",
       "      <td>0.0</td>\n",
       "      <td>3</td>\n",
       "      <td>7</td>\n",
       "      <td>2170</td>\n",
       "      <td>400.0</td>\n",
       "      <td>1951</td>\n",
       "      <td>1991.0</td>\n",
       "      <td>98125</td>\n",
       "      <td>47.7210</td>\n",
       "      <td>-122.319</td>\n",
       "      <td>1690</td>\n",
       "      <td>7639</td>\n",
       "    </tr>\n",
       "    <tr>\n",
       "      <th>2</th>\n",
       "      <td>5631500400</td>\n",
       "      <td>2/25/2015</td>\n",
       "      <td>180000.0</td>\n",
       "      <td>2</td>\n",
       "      <td>1.00</td>\n",
       "      <td>770</td>\n",
       "      <td>10000</td>\n",
       "      <td>1.0</td>\n",
       "      <td>0.0</td>\n",
       "      <td>0.0</td>\n",
       "      <td>3</td>\n",
       "      <td>6</td>\n",
       "      <td>770</td>\n",
       "      <td>0.0</td>\n",
       "      <td>1933</td>\n",
       "      <td>NaN</td>\n",
       "      <td>98028</td>\n",
       "      <td>47.7379</td>\n",
       "      <td>-122.233</td>\n",
       "      <td>2720</td>\n",
       "      <td>8062</td>\n",
       "    </tr>\n",
       "    <tr>\n",
       "      <th>3</th>\n",
       "      <td>2487200875</td>\n",
       "      <td>12/9/2014</td>\n",
       "      <td>604000.0</td>\n",
       "      <td>4</td>\n",
       "      <td>3.00</td>\n",
       "      <td>1960</td>\n",
       "      <td>5000</td>\n",
       "      <td>1.0</td>\n",
       "      <td>0.0</td>\n",
       "      <td>0.0</td>\n",
       "      <td>5</td>\n",
       "      <td>7</td>\n",
       "      <td>1050</td>\n",
       "      <td>910.0</td>\n",
       "      <td>1965</td>\n",
       "      <td>0.0</td>\n",
       "      <td>98136</td>\n",
       "      <td>47.5208</td>\n",
       "      <td>-122.393</td>\n",
       "      <td>1360</td>\n",
       "      <td>5000</td>\n",
       "    </tr>\n",
       "    <tr>\n",
       "      <th>4</th>\n",
       "      <td>1954400510</td>\n",
       "      <td>2/18/2015</td>\n",
       "      <td>510000.0</td>\n",
       "      <td>3</td>\n",
       "      <td>2.00</td>\n",
       "      <td>1680</td>\n",
       "      <td>8080</td>\n",
       "      <td>1.0</td>\n",
       "      <td>0.0</td>\n",
       "      <td>0.0</td>\n",
       "      <td>3</td>\n",
       "      <td>8</td>\n",
       "      <td>1680</td>\n",
       "      <td>0.0</td>\n",
       "      <td>1987</td>\n",
       "      <td>0.0</td>\n",
       "      <td>98074</td>\n",
       "      <td>47.6168</td>\n",
       "      <td>-122.045</td>\n",
       "      <td>1800</td>\n",
       "      <td>7503</td>\n",
       "    </tr>\n",
       "  </tbody>\n",
       "</table>\n",
       "</div>"
      ],
      "text/plain": [
       "           id        date     price  bedrooms  bathrooms  sqft_living  \\\n",
       "0  7129300520  10/13/2014  221900.0         3       1.00         1180   \n",
       "1  6414100192   12/9/2014  538000.0         3       2.25         2570   \n",
       "2  5631500400   2/25/2015  180000.0         2       1.00          770   \n",
       "3  2487200875   12/9/2014  604000.0         4       3.00         1960   \n",
       "4  1954400510   2/18/2015  510000.0         3       2.00         1680   \n",
       "\n",
       "   sqft_lot  floors  waterfront  view  condition  grade  sqft_above  \\\n",
       "0      5650     1.0         NaN   0.0          3      7        1180   \n",
       "1      7242     2.0         0.0   0.0          3      7        2170   \n",
       "2     10000     1.0         0.0   0.0          3      6         770   \n",
       "3      5000     1.0         0.0   0.0          5      7        1050   \n",
       "4      8080     1.0         0.0   0.0          3      8        1680   \n",
       "\n",
       "  sqft_basement  yr_built  yr_renovated  zipcode      lat     long  \\\n",
       "0           0.0      1955           0.0    98178  47.5112 -122.257   \n",
       "1         400.0      1951        1991.0    98125  47.7210 -122.319   \n",
       "2           0.0      1933           NaN    98028  47.7379 -122.233   \n",
       "3         910.0      1965           0.0    98136  47.5208 -122.393   \n",
       "4           0.0      1987           0.0    98074  47.6168 -122.045   \n",
       "\n",
       "   sqft_living15  sqft_lot15  \n",
       "0           1340        5650  \n",
       "1           1690        7639  \n",
       "2           2720        8062  \n",
       "3           1360        5000  \n",
       "4           1800        7503  "
      ]
     },
     "execution_count": 2,
     "metadata": {},
     "output_type": "execute_result"
    }
   ],
   "source": [
    "kc = pd.read_csv(\"data/kc_house_data.csv\")\n",
    "kc.head()"
   ]
  },
  {
   "cell_type": "markdown",
   "metadata": {},
   "source": [
    "## Exploratory Data Analysis"
   ]
  },
  {
   "cell_type": "markdown",
   "metadata": {},
   "source": [
    "This section will seek to answer the questions listed in business problems. The data will be visualized for easy understanding and followed with appropriate statistical analysis for empirical findings within data. Following are the summaries of the questions answered in this section: What neighborhood contains most valuable properties? Does condition of the property affect the value? Are the property age and condition related? What features add value to the house? Do renovations increase property value? Do basements increase property value?"
   ]
  },
  {
   "cell_type": "markdown",
   "metadata": {},
   "source": [
    "## Data Structure"
   ]
  },
  {
   "cell_type": "markdown",
   "metadata": {},
   "source": [
    "The data set contains mix of continuous and categorical values. They are separated by columns and below is a brief summary of each columns. Further details can be found in King County website."
   ]
  },
  {
   "cell_type": "markdown",
   "metadata": {},
   "source": [
    "### Column Description"
   ]
  },
  {
   "cell_type": "markdown",
   "metadata": {},
   "source": [
    "- id - unique ID for a house\n",
    "- date - Date day house was sold\n",
    "- price - Price is prediction target\n",
    "- bedrooms - Number of bedrooms\n",
    "- bathrooms - Number of bathrooms\n",
    "- sqft_living - square footage of the home\n",
    "- sqft_lot - square footage of the lot\n",
    "- floors - Total floors (levels) in house\n",
    "- waterfront - Whether house has a view to a waterfront\n",
    "- view - Number of times house has been viewed\n",
    "- condition - How good the condition is (overall)\n",
    "- grade - overall grade given to the housing unit, based on King County grading system\n",
    "- sqft_above - square footage of house (apart from basement)\n",
    "- sqft_basement - square footage of the basement\n",
    "- yr_built - Year when house was built\n",
    "- yr_renovated - Year when house was renovated\n",
    "- zipcode - zip code in which house is located\n",
    "- lat - Latitude coordinate\n",
    "- long - Longitude coordinate\n",
    "- sqft_living15 - The square footage of interior housing living space for the nearest 15 neighbors\n",
    "- sqft_lot15 - The square footage of the land lots of the nearest 15 neighbors"
   ]
  },
  {
   "cell_type": "markdown",
   "metadata": {},
   "source": [
    "### Data Integrity and Description"
   ]
  },
  {
   "cell_type": "code",
   "execution_count": 3,
   "metadata": {},
   "outputs": [
    {
     "data": {
      "text/plain": [
       "id                  0\n",
       "date                0\n",
       "price               0\n",
       "bedrooms            0\n",
       "bathrooms           0\n",
       "sqft_living         0\n",
       "sqft_lot            0\n",
       "floors              0\n",
       "waterfront       2376\n",
       "view               63\n",
       "condition           0\n",
       "grade               0\n",
       "sqft_above          0\n",
       "sqft_basement       0\n",
       "yr_built            0\n",
       "yr_renovated     3842\n",
       "zipcode             0\n",
       "lat                 0\n",
       "long                0\n",
       "sqft_living15       0\n",
       "sqft_lot15          0\n",
       "dtype: int64"
      ]
     },
     "execution_count": 3,
     "metadata": {},
     "output_type": "execute_result"
    }
   ],
   "source": [
    "kc.isna().sum()"
   ]
  },
  {
   "cell_type": "markdown",
   "metadata": {},
   "source": [
    "For waterfront, view, and yr_renovated, we see that up to 75% of the distribution still remains at a value of 0. As a result, we have decided to fill the NA values in these columns with 0."
   ]
  },
  {
   "cell_type": "code",
   "execution_count": 4,
   "metadata": {},
   "outputs": [],
   "source": [
    "#Replace null values and \"nan\" with 0\n",
    "\n",
    "kc = kc.replace(\"nan\",\"0\")\n",
    "\n",
    "col = ['waterfront', 'view', 'yr_renovated']\n",
    "\n",
    "for val in col:\n",
    "    kc[val] = kc[val].fillna(value=0)"
   ]
  },
  {
   "cell_type": "code",
   "execution_count": 5,
   "metadata": {},
   "outputs": [
    {
     "name": "stdout",
     "output_type": "stream",
     "text": [
      "There are total 0 null values in the data\n"
     ]
    }
   ],
   "source": [
    "total_null = 0 \n",
    "for null_count in kc.isna().sum():\n",
    "    total_null += null_count\n",
    "print(f\"There are total {total_null} null values in the data\")"
   ]
  },
  {
   "cell_type": "markdown",
   "metadata": {},
   "source": [
    "Checking for duplicate datase"
   ]
  },
  {
   "cell_type": "code",
   "execution_count": 6,
   "metadata": {},
   "outputs": [
    {
     "name": "stdout",
     "output_type": "stream",
     "text": [
      "0\n"
     ]
    },
    {
     "data": {
      "text/html": [
       "<div>\n",
       "<style scoped>\n",
       "    .dataframe tbody tr th:only-of-type {\n",
       "        vertical-align: middle;\n",
       "    }\n",
       "\n",
       "    .dataframe tbody tr th {\n",
       "        vertical-align: top;\n",
       "    }\n",
       "\n",
       "    .dataframe thead th {\n",
       "        text-align: right;\n",
       "    }\n",
       "</style>\n",
       "<table border=\"1\" class=\"dataframe\">\n",
       "  <thead>\n",
       "    <tr style=\"text-align: right;\">\n",
       "      <th></th>\n",
       "      <th>id</th>\n",
       "      <th>date</th>\n",
       "      <th>price</th>\n",
       "      <th>bedrooms</th>\n",
       "      <th>bathrooms</th>\n",
       "      <th>sqft_living</th>\n",
       "      <th>sqft_lot</th>\n",
       "      <th>floors</th>\n",
       "      <th>waterfront</th>\n",
       "      <th>view</th>\n",
       "      <th>condition</th>\n",
       "      <th>grade</th>\n",
       "      <th>sqft_above</th>\n",
       "      <th>sqft_basement</th>\n",
       "      <th>yr_built</th>\n",
       "      <th>yr_renovated</th>\n",
       "      <th>zipcode</th>\n",
       "      <th>lat</th>\n",
       "      <th>long</th>\n",
       "      <th>sqft_living15</th>\n",
       "      <th>sqft_lot15</th>\n",
       "    </tr>\n",
       "  </thead>\n",
       "  <tbody>\n",
       "  </tbody>\n",
       "</table>\n",
       "</div>"
      ],
      "text/plain": [
       "Empty DataFrame\n",
       "Columns: [id, date, price, bedrooms, bathrooms, sqft_living, sqft_lot, floors, waterfront, view, condition, grade, sqft_above, sqft_basement, yr_built, yr_renovated, zipcode, lat, long, sqft_living15, sqft_lot15]\n",
       "Index: []"
      ]
     },
     "metadata": {},
     "output_type": "display_data"
    }
   ],
   "source": [
    "#Check for duplicates\n",
    "kc_duplicates = kc[kc.duplicated()]\n",
    "print(len(kc_duplicates))\n",
    "display(kc_duplicates)"
   ]
  },
  {
   "cell_type": "code",
   "execution_count": 7,
   "metadata": {},
   "outputs": [
    {
     "data": {
      "text/plain": [
       "False    21244\n",
       "True       353\n",
       "dtype: int64"
      ]
     },
     "execution_count": 7,
     "metadata": {},
     "output_type": "execute_result"
    }
   ],
   "source": [
    "#Check for duplicated IDs \n",
    "duplicated_ids = kc.duplicated(subset=['id'], keep=False)\n",
    "duplicated_ids.value_counts()"
   ]
  },
  {
   "cell_type": "code",
   "execution_count": 8,
   "metadata": {},
   "outputs": [
    {
     "data": {
      "text/html": [
       "<div>\n",
       "<style scoped>\n",
       "    .dataframe tbody tr th:only-of-type {\n",
       "        vertical-align: middle;\n",
       "    }\n",
       "\n",
       "    .dataframe tbody tr th {\n",
       "        vertical-align: top;\n",
       "    }\n",
       "\n",
       "    .dataframe thead th {\n",
       "        text-align: right;\n",
       "    }\n",
       "</style>\n",
       "<table border=\"1\" class=\"dataframe\">\n",
       "  <thead>\n",
       "    <tr style=\"text-align: right;\">\n",
       "      <th></th>\n",
       "      <th>id</th>\n",
       "      <th>date</th>\n",
       "      <th>price</th>\n",
       "      <th>bedrooms</th>\n",
       "      <th>bathrooms</th>\n",
       "      <th>sqft_living</th>\n",
       "      <th>sqft_lot</th>\n",
       "      <th>floors</th>\n",
       "      <th>waterfront</th>\n",
       "      <th>view</th>\n",
       "      <th>condition</th>\n",
       "      <th>grade</th>\n",
       "      <th>sqft_above</th>\n",
       "      <th>sqft_basement</th>\n",
       "      <th>yr_built</th>\n",
       "      <th>yr_renovated</th>\n",
       "      <th>zipcode</th>\n",
       "      <th>lat</th>\n",
       "      <th>long</th>\n",
       "      <th>sqft_living15</th>\n",
       "      <th>sqft_lot15</th>\n",
       "    </tr>\n",
       "  </thead>\n",
       "  <tbody>\n",
       "    <tr>\n",
       "      <th>93</th>\n",
       "      <td>6021501535</td>\n",
       "      <td>7/25/2014</td>\n",
       "      <td>430000.0</td>\n",
       "      <td>3</td>\n",
       "      <td>1.50</td>\n",
       "      <td>1580</td>\n",
       "      <td>5000</td>\n",
       "      <td>1.0</td>\n",
       "      <td>0.0</td>\n",
       "      <td>0.0</td>\n",
       "      <td>3</td>\n",
       "      <td>8</td>\n",
       "      <td>1290</td>\n",
       "      <td>290.0</td>\n",
       "      <td>1939</td>\n",
       "      <td>0.0</td>\n",
       "      <td>98117</td>\n",
       "      <td>47.6870</td>\n",
       "      <td>-122.386</td>\n",
       "      <td>1570</td>\n",
       "      <td>4500</td>\n",
       "    </tr>\n",
       "    <tr>\n",
       "      <th>94</th>\n",
       "      <td>6021501535</td>\n",
       "      <td>12/23/2014</td>\n",
       "      <td>700000.0</td>\n",
       "      <td>3</td>\n",
       "      <td>1.50</td>\n",
       "      <td>1580</td>\n",
       "      <td>5000</td>\n",
       "      <td>1.0</td>\n",
       "      <td>0.0</td>\n",
       "      <td>0.0</td>\n",
       "      <td>3</td>\n",
       "      <td>8</td>\n",
       "      <td>1290</td>\n",
       "      <td>290.0</td>\n",
       "      <td>1939</td>\n",
       "      <td>0.0</td>\n",
       "      <td>98117</td>\n",
       "      <td>47.6870</td>\n",
       "      <td>-122.386</td>\n",
       "      <td>1570</td>\n",
       "      <td>4500</td>\n",
       "    </tr>\n",
       "    <tr>\n",
       "      <th>313</th>\n",
       "      <td>4139480200</td>\n",
       "      <td>6/18/2014</td>\n",
       "      <td>1380000.0</td>\n",
       "      <td>4</td>\n",
       "      <td>3.25</td>\n",
       "      <td>4290</td>\n",
       "      <td>12103</td>\n",
       "      <td>1.0</td>\n",
       "      <td>0.0</td>\n",
       "      <td>3.0</td>\n",
       "      <td>3</td>\n",
       "      <td>11</td>\n",
       "      <td>2690</td>\n",
       "      <td>1600.0</td>\n",
       "      <td>1997</td>\n",
       "      <td>0.0</td>\n",
       "      <td>98006</td>\n",
       "      <td>47.5503</td>\n",
       "      <td>-122.102</td>\n",
       "      <td>3860</td>\n",
       "      <td>11244</td>\n",
       "    </tr>\n",
       "    <tr>\n",
       "      <th>314</th>\n",
       "      <td>4139480200</td>\n",
       "      <td>12/9/2014</td>\n",
       "      <td>1400000.0</td>\n",
       "      <td>4</td>\n",
       "      <td>3.25</td>\n",
       "      <td>4290</td>\n",
       "      <td>12103</td>\n",
       "      <td>1.0</td>\n",
       "      <td>0.0</td>\n",
       "      <td>3.0</td>\n",
       "      <td>3</td>\n",
       "      <td>11</td>\n",
       "      <td>2690</td>\n",
       "      <td>1600.0</td>\n",
       "      <td>1997</td>\n",
       "      <td>0.0</td>\n",
       "      <td>98006</td>\n",
       "      <td>47.5503</td>\n",
       "      <td>-122.102</td>\n",
       "      <td>3860</td>\n",
       "      <td>11244</td>\n",
       "    </tr>\n",
       "    <tr>\n",
       "      <th>324</th>\n",
       "      <td>7520000520</td>\n",
       "      <td>9/5/2014</td>\n",
       "      <td>232000.0</td>\n",
       "      <td>2</td>\n",
       "      <td>1.00</td>\n",
       "      <td>1240</td>\n",
       "      <td>12092</td>\n",
       "      <td>1.0</td>\n",
       "      <td>0.0</td>\n",
       "      <td>0.0</td>\n",
       "      <td>3</td>\n",
       "      <td>6</td>\n",
       "      <td>960</td>\n",
       "      <td>280.0</td>\n",
       "      <td>1922</td>\n",
       "      <td>1984.0</td>\n",
       "      <td>98146</td>\n",
       "      <td>47.4957</td>\n",
       "      <td>-122.352</td>\n",
       "      <td>1820</td>\n",
       "      <td>7460</td>\n",
       "    </tr>\n",
       "  </tbody>\n",
       "</table>\n",
       "</div>"
      ],
      "text/plain": [
       "             id        date      price  bedrooms  bathrooms  sqft_living  \\\n",
       "93   6021501535   7/25/2014   430000.0         3       1.50         1580   \n",
       "94   6021501535  12/23/2014   700000.0         3       1.50         1580   \n",
       "313  4139480200   6/18/2014  1380000.0         4       3.25         4290   \n",
       "314  4139480200   12/9/2014  1400000.0         4       3.25         4290   \n",
       "324  7520000520    9/5/2014   232000.0         2       1.00         1240   \n",
       "\n",
       "     sqft_lot  floors  waterfront  view  condition  grade  sqft_above  \\\n",
       "93       5000     1.0         0.0   0.0          3      8        1290   \n",
       "94       5000     1.0         0.0   0.0          3      8        1290   \n",
       "313     12103     1.0         0.0   3.0          3     11        2690   \n",
       "314     12103     1.0         0.0   3.0          3     11        2690   \n",
       "324     12092     1.0         0.0   0.0          3      6         960   \n",
       "\n",
       "    sqft_basement  yr_built  yr_renovated  zipcode      lat     long  \\\n",
       "93          290.0      1939           0.0    98117  47.6870 -122.386   \n",
       "94          290.0      1939           0.0    98117  47.6870 -122.386   \n",
       "313        1600.0      1997           0.0    98006  47.5503 -122.102   \n",
       "314        1600.0      1997           0.0    98006  47.5503 -122.102   \n",
       "324         280.0      1922        1984.0    98146  47.4957 -122.352   \n",
       "\n",
       "     sqft_living15  sqft_lot15  \n",
       "93            1570        4500  \n",
       "94            1570        4500  \n",
       "313           3860       11244  \n",
       "314           3860       11244  \n",
       "324           1820        7460  "
      ]
     },
     "execution_count": 8,
     "metadata": {},
     "output_type": "execute_result"
    }
   ],
   "source": [
    "#Explore duplicated IDs\n",
    "kc_duplicated_ids = kc[duplicated_ids]\n",
    "kc_duplicated_ids.head()"
   ]
  },
  {
   "cell_type": "markdown",
   "metadata": {},
   "source": [
    "A home's latitude and longitude will not be particularly relevant for prospective homebuyers. Neither will its id,as other data, such as yr_built, will be of much more interest. As a result, we will drop these variables, as they do not make much sense in the context of our business problem."
   ]
  },
  {
   "cell_type": "code",
   "execution_count": 9,
   "metadata": {},
   "outputs": [],
   "source": [
    "#Remove features/columns that are of no interest for this analysis \n",
    "kc.drop(['id','lat','long'], axis=1, inplace=True)"
   ]
  },
  {
   "cell_type": "code",
   "execution_count": 10,
   "metadata": {},
   "outputs": [
    {
     "name": "stdout",
     "output_type": "stream",
     "text": [
      "<class 'pandas.core.frame.DataFrame'>\n",
      "RangeIndex: 21597 entries, 0 to 21596\n",
      "Data columns (total 18 columns):\n",
      " #   Column         Non-Null Count  Dtype  \n",
      "---  ------         --------------  -----  \n",
      " 0   date           21597 non-null  object \n",
      " 1   price          21597 non-null  float64\n",
      " 2   bedrooms       21597 non-null  int64  \n",
      " 3   bathrooms      21597 non-null  float64\n",
      " 4   sqft_living    21597 non-null  int64  \n",
      " 5   sqft_lot       21597 non-null  int64  \n",
      " 6   floors         21597 non-null  float64\n",
      " 7   waterfront     21597 non-null  float64\n",
      " 8   view           21597 non-null  float64\n",
      " 9   condition      21597 non-null  int64  \n",
      " 10  grade          21597 non-null  int64  \n",
      " 11  sqft_above     21597 non-null  int64  \n",
      " 12  sqft_basement  21597 non-null  object \n",
      " 13  yr_built       21597 non-null  int64  \n",
      " 14  yr_renovated   21597 non-null  float64\n",
      " 15  zipcode        21597 non-null  int64  \n",
      " 16  sqft_living15  21597 non-null  int64  \n",
      " 17  sqft_lot15     21597 non-null  int64  \n",
      "dtypes: float64(6), int64(10), object(2)\n",
      "memory usage: 3.0+ MB\n"
     ]
    }
   ],
   "source": [
    "kc.info()"
   ]
  },
  {
   "cell_type": "code",
   "execution_count": 11,
   "metadata": {},
   "outputs": [],
   "source": [
    "#Replacing the question mark values with 0 because majority of the values are 0's and also convert it to integers.\n",
    "kc['sqft_basement'] = kc['sqft_basement'].replace(to_replace = '?', value = 0.0)\n",
    "kc['sqft_basement'] = kc['sqft_basement'].astype(str).astype(float)"
   ]
  },
  {
   "cell_type": "markdown",
   "metadata": {},
   "source": [
    "## Preview Distribution of Each Column"
   ]
  },
  {
   "cell_type": "markdown",
   "metadata": {},
   "source": [
    "Before we conduct any transformations, we need to check the distributions in order to identify categorical variables and see if/which features are normally distributed."
   ]
  },
  {
   "cell_type": "code",
   "execution_count": 12,
   "metadata": {},
   "outputs": [
    {
     "data": {
      "image/png": "[encoded data removed]",
      "text/plain": [
       "<Figure size 1296x1080 with 20 Axes>"
      ]
     },
     "metadata": {
      "needs_background": "light"
     },
     "output_type": "display_data"
    }
   ],
   "source": [
    "#First, let's plot a histogram for each column\n",
    "kc.hist(figsize=(18,15), bins='auto');"
   ]
  },
  {
   "cell_type": "markdown",
   "metadata": {},
   "source": [
    "Bathrooms, bedrooms, condition, floors, grade, view, waterfront, and yr_renovated are categorical. The remaining variables seem to be continuous. Let's explore this further by creating some scatter plots."
   ]
  },
  {
   "cell_type": "code",
   "execution_count": 13,
   "metadata": {},
   "outputs": [
    {
     "data": {
      "image/png": "[encoded data removed]",
      "text/plain": [
       "<Figure size 1152x1080 with 20 Axes>"
      ]
     },
     "metadata": {
      "needs_background": "light"
     },
     "output_type": "display_data"
    }
   ],
   "source": [
    "#Next, let's plot scatter plots that will further help us identify outliers and categorical variables \n",
    "fig, axes = plt.subplots(nrows=5, ncols=4, figsize=(16,15), sharey=True)\n",
    "\n",
    "for ax, column in zip(axes.flatten(), kc.columns):\n",
    "    ax.scatter(kc[column], kc['price'] / 100_000, label=column, alpha=.1)\n",
    "    ax.set_title(f'Price vs {column}')\n",
    "    ax.set_xlabel(column)\n",
    "    ax.set_ylabel('Price in $100,000')\n",
    "\n",
    "fig.tight_layout()"
   ]
  },
  {
   "cell_type": "markdown",
   "metadata": {},
   "source": [
    "These scatter plots helped confirm which variables are categorical and which are continuous. We have identified our continuous variables, sqft_living, sqft_lot, sqft_above, sqft_basement, yr_built, sqft_living15 and sqft_lot15, and later we will look to transform some of these variables, since many of them currently do not appear to follow a normal distribution."
   ]
  },
  {
   "cell_type": "markdown",
   "metadata": {},
   "source": [
    "### Data Cleaning & Engineering."
   ]
  },
  {
   "cell_type": "code",
   "execution_count": 14,
   "metadata": {},
   "outputs": [
    {
     "data": {
      "image/png": "[encoded data removed]",
      "text/plain": [
       "<Figure size 432x288 with 1 Axes>"
      ]
     },
     "metadata": {
      "needs_background": "light"
     },
     "output_type": "display_data"
    }
   ],
   "source": [
    "kc.drop(kc[kc['bedrooms'] == 33].index, inplace=True)\n",
    "plt.scatter(kc['bedrooms'], kc['price'])\n",
    "plt.show()"
   ]
  },
  {
   "cell_type": "code",
   "execution_count": 15,
   "metadata": {},
   "outputs": [
    {
     "data": {
      "text/html": [
       "<div>\n",
       "<style scoped>\n",
       "    .dataframe tbody tr th:only-of-type {\n",
       "        vertical-align: middle;\n",
       "    }\n",
       "\n",
       "    .dataframe tbody tr th {\n",
       "        vertical-align: top;\n",
       "    }\n",
       "\n",
       "    .dataframe thead th {\n",
       "        text-align: right;\n",
       "    }\n",
       "</style>\n",
       "<table border=\"1\" class=\"dataframe\">\n",
       "  <thead>\n",
       "    <tr style=\"text-align: right;\">\n",
       "      <th></th>\n",
       "      <th>date</th>\n",
       "      <th>price</th>\n",
       "      <th>bedrooms</th>\n",
       "      <th>bathrooms</th>\n",
       "      <th>sqft_living</th>\n",
       "      <th>sqft_lot</th>\n",
       "      <th>floors</th>\n",
       "      <th>waterfront</th>\n",
       "      <th>view</th>\n",
       "      <th>condition</th>\n",
       "      <th>grade</th>\n",
       "      <th>sqft_above</th>\n",
       "      <th>sqft_basement</th>\n",
       "      <th>yr_built</th>\n",
       "      <th>yr_renovated</th>\n",
       "      <th>zipcode</th>\n",
       "      <th>sqft_living15</th>\n",
       "      <th>sqft_lot15</th>\n",
       "    </tr>\n",
       "  </thead>\n",
       "  <tbody>\n",
       "    <tr>\n",
       "      <th>0</th>\n",
       "      <td>10/13/2014</td>\n",
       "      <td>221900.0</td>\n",
       "      <td>3</td>\n",
       "      <td>1.00</td>\n",
       "      <td>1180</td>\n",
       "      <td>5650</td>\n",
       "      <td>1.0</td>\n",
       "      <td>0.0</td>\n",
       "      <td>0.0</td>\n",
       "      <td>3</td>\n",
       "      <td>7</td>\n",
       "      <td>1180</td>\n",
       "      <td>0.0</td>\n",
       "      <td>1955</td>\n",
       "      <td>0.0</td>\n",
       "      <td>98178</td>\n",
       "      <td>1340</td>\n",
       "      <td>5650</td>\n",
       "    </tr>\n",
       "    <tr>\n",
       "      <th>1</th>\n",
       "      <td>12/9/2014</td>\n",
       "      <td>538000.0</td>\n",
       "      <td>3</td>\n",
       "      <td>2.25</td>\n",
       "      <td>2570</td>\n",
       "      <td>7242</td>\n",
       "      <td>2.0</td>\n",
       "      <td>0.0</td>\n",
       "      <td>0.0</td>\n",
       "      <td>3</td>\n",
       "      <td>7</td>\n",
       "      <td>2170</td>\n",
       "      <td>400.0</td>\n",
       "      <td>1951</td>\n",
       "      <td>1991.0</td>\n",
       "      <td>98125</td>\n",
       "      <td>1690</td>\n",
       "      <td>7639</td>\n",
       "    </tr>\n",
       "    <tr>\n",
       "      <th>2</th>\n",
       "      <td>2/25/2015</td>\n",
       "      <td>180000.0</td>\n",
       "      <td>2</td>\n",
       "      <td>1.00</td>\n",
       "      <td>770</td>\n",
       "      <td>10000</td>\n",
       "      <td>1.0</td>\n",
       "      <td>0.0</td>\n",
       "      <td>0.0</td>\n",
       "      <td>3</td>\n",
       "      <td>6</td>\n",
       "      <td>770</td>\n",
       "      <td>0.0</td>\n",
       "      <td>1933</td>\n",
       "      <td>0.0</td>\n",
       "      <td>98028</td>\n",
       "      <td>2720</td>\n",
       "      <td>8062</td>\n",
       "    </tr>\n",
       "    <tr>\n",
       "      <th>3</th>\n",
       "      <td>12/9/2014</td>\n",
       "      <td>604000.0</td>\n",
       "      <td>4</td>\n",
       "      <td>3.00</td>\n",
       "      <td>1960</td>\n",
       "      <td>5000</td>\n",
       "      <td>1.0</td>\n",
       "      <td>0.0</td>\n",
       "      <td>0.0</td>\n",
       "      <td>5</td>\n",
       "      <td>7</td>\n",
       "      <td>1050</td>\n",
       "      <td>910.0</td>\n",
       "      <td>1965</td>\n",
       "      <td>0.0</td>\n",
       "      <td>98136</td>\n",
       "      <td>1360</td>\n",
       "      <td>5000</td>\n",
       "    </tr>\n",
       "    <tr>\n",
       "      <th>4</th>\n",
       "      <td>2/18/2015</td>\n",
       "      <td>510000.0</td>\n",
       "      <td>3</td>\n",
       "      <td>2.00</td>\n",
       "      <td>1680</td>\n",
       "      <td>8080</td>\n",
       "      <td>1.0</td>\n",
       "      <td>0.0</td>\n",
       "      <td>0.0</td>\n",
       "      <td>3</td>\n",
       "      <td>8</td>\n",
       "      <td>1680</td>\n",
       "      <td>0.0</td>\n",
       "      <td>1987</td>\n",
       "      <td>0.0</td>\n",
       "      <td>98074</td>\n",
       "      <td>1800</td>\n",
       "      <td>7503</td>\n",
       "    </tr>\n",
       "    <tr>\n",
       "      <th>...</th>\n",
       "      <td>...</td>\n",
       "      <td>...</td>\n",
       "      <td>...</td>\n",
       "      <td>...</td>\n",
       "      <td>...</td>\n",
       "      <td>...</td>\n",
       "      <td>...</td>\n",
       "      <td>...</td>\n",
       "      <td>...</td>\n",
       "      <td>...</td>\n",
       "      <td>...</td>\n",
       "      <td>...</td>\n",
       "      <td>...</td>\n",
       "      <td>...</td>\n",
       "      <td>...</td>\n",
       "      <td>...</td>\n",
       "      <td>...</td>\n",
       "      <td>...</td>\n",
       "    </tr>\n",
       "    <tr>\n",
       "      <th>21592</th>\n",
       "      <td>5/21/2014</td>\n",
       "      <td>360000.0</td>\n",
       "      <td>3</td>\n",
       "      <td>2.50</td>\n",
       "      <td>1530</td>\n",
       "      <td>1131</td>\n",
       "      <td>3.0</td>\n",
       "      <td>0.0</td>\n",
       "      <td>0.0</td>\n",
       "      <td>3</td>\n",
       "      <td>8</td>\n",
       "      <td>1530</td>\n",
       "      <td>0.0</td>\n",
       "      <td>2009</td>\n",
       "      <td>0.0</td>\n",
       "      <td>98103</td>\n",
       "      <td>1530</td>\n",
       "      <td>1509</td>\n",
       "    </tr>\n",
       "    <tr>\n",
       "      <th>21593</th>\n",
       "      <td>2/23/2015</td>\n",
       "      <td>400000.0</td>\n",
       "      <td>4</td>\n",
       "      <td>2.50</td>\n",
       "      <td>2310</td>\n",
       "      <td>5813</td>\n",
       "      <td>2.0</td>\n",
       "      <td>0.0</td>\n",
       "      <td>0.0</td>\n",
       "      <td>3</td>\n",
       "      <td>8</td>\n",
       "      <td>2310</td>\n",
       "      <td>0.0</td>\n",
       "      <td>2014</td>\n",
       "      <td>0.0</td>\n",
       "      <td>98146</td>\n",
       "      <td>1830</td>\n",
       "      <td>7200</td>\n",
       "    </tr>\n",
       "    <tr>\n",
       "      <th>21594</th>\n",
       "      <td>6/23/2014</td>\n",
       "      <td>402101.0</td>\n",
       "      <td>2</td>\n",
       "      <td>0.75</td>\n",
       "      <td>1020</td>\n",
       "      <td>1350</td>\n",
       "      <td>2.0</td>\n",
       "      <td>0.0</td>\n",
       "      <td>0.0</td>\n",
       "      <td>3</td>\n",
       "      <td>7</td>\n",
       "      <td>1020</td>\n",
       "      <td>0.0</td>\n",
       "      <td>2009</td>\n",
       "      <td>0.0</td>\n",
       "      <td>98144</td>\n",
       "      <td>1020</td>\n",
       "      <td>2007</td>\n",
       "    </tr>\n",
       "    <tr>\n",
       "      <th>21595</th>\n",
       "      <td>1/16/2015</td>\n",
       "      <td>400000.0</td>\n",
       "      <td>3</td>\n",
       "      <td>2.50</td>\n",
       "      <td>1600</td>\n",
       "      <td>2388</td>\n",
       "      <td>2.0</td>\n",
       "      <td>0.0</td>\n",
       "      <td>0.0</td>\n",
       "      <td>3</td>\n",
       "      <td>8</td>\n",
       "      <td>1600</td>\n",
       "      <td>0.0</td>\n",
       "      <td>2004</td>\n",
       "      <td>0.0</td>\n",
       "      <td>98027</td>\n",
       "      <td>1410</td>\n",
       "      <td>1287</td>\n",
       "    </tr>\n",
       "    <tr>\n",
       "      <th>21596</th>\n",
       "      <td>10/15/2014</td>\n",
       "      <td>325000.0</td>\n",
       "      <td>2</td>\n",
       "      <td>0.75</td>\n",
       "      <td>1020</td>\n",
       "      <td>1076</td>\n",
       "      <td>2.0</td>\n",
       "      <td>0.0</td>\n",
       "      <td>0.0</td>\n",
       "      <td>3</td>\n",
       "      <td>7</td>\n",
       "      <td>1020</td>\n",
       "      <td>0.0</td>\n",
       "      <td>2008</td>\n",
       "      <td>0.0</td>\n",
       "      <td>98144</td>\n",
       "      <td>1020</td>\n",
       "      <td>1357</td>\n",
       "    </tr>\n",
       "  </tbody>\n",
       "</table>\n",
       "<p>21596 rows × 18 columns</p>\n",
       "</div>"
      ],
      "text/plain": [
       "             date     price  bedrooms  bathrooms  sqft_living  sqft_lot  \\\n",
       "0      10/13/2014  221900.0         3       1.00         1180      5650   \n",
       "1       12/9/2014  538000.0         3       2.25         2570      7242   \n",
       "2       2/25/2015  180000.0         2       1.00          770     10000   \n",
       "3       12/9/2014  604000.0         4       3.00         1960      5000   \n",
       "4       2/18/2015  510000.0         3       2.00         1680      8080   \n",
       "...           ...       ...       ...        ...          ...       ...   \n",
       "21592   5/21/2014  360000.0         3       2.50         1530      1131   \n",
       "21593   2/23/2015  400000.0         4       2.50         2310      5813   \n",
       "21594   6/23/2014  402101.0         2       0.75         1020      1350   \n",
       "21595   1/16/2015  400000.0         3       2.50         1600      2388   \n",
       "21596  10/15/2014  325000.0         2       0.75         1020      1076   \n",
       "\n",
       "       floors  waterfront  view  condition  grade  sqft_above  sqft_basement  \\\n",
       "0         1.0         0.0   0.0          3      7        1180            0.0   \n",
       "1         2.0         0.0   0.0          3      7        2170          400.0   \n",
       "2         1.0         0.0   0.0          3      6         770            0.0   \n",
       "3         1.0         0.0   0.0          5      7        1050          910.0   \n",
       "4         1.0         0.0   0.0          3      8        1680            0.0   \n",
       "...       ...         ...   ...        ...    ...         ...            ...   \n",
       "21592     3.0         0.0   0.0          3      8        1530            0.0   \n",
       "21593     2.0         0.0   0.0          3      8        2310            0.0   \n",
       "21594     2.0         0.0   0.0          3      7        1020            0.0   \n",
       "21595     2.0         0.0   0.0          3      8        1600            0.0   \n",
       "21596     2.0         0.0   0.0          3      7        1020            0.0   \n",
       "\n",
       "       yr_built  yr_renovated  zipcode  sqft_living15  sqft_lot15  \n",
       "0          1955           0.0    98178           1340        5650  \n",
       "1          1951        1991.0    98125           1690        7639  \n",
       "2          1933           0.0    98028           2720        8062  \n",
       "3          1965           0.0    98136           1360        5000  \n",
       "4          1987           0.0    98074           1800        7503  \n",
       "...         ...           ...      ...            ...         ...  \n",
       "21592      2009           0.0    98103           1530        1509  \n",
       "21593      2014           0.0    98146           1830        7200  \n",
       "21594      2009           0.0    98144           1020        2007  \n",
       "21595      2004           0.0    98027           1410        1287  \n",
       "21596      2008           0.0    98144           1020        1357  \n",
       "\n",
       "[21596 rows x 18 columns]"
      ]
     },
     "execution_count": 15,
     "metadata": {},
     "output_type": "execute_result"
    }
   ],
   "source": [
    "kc1 = kc\n",
    "kc1"
   ]
  },
  {
   "cell_type": "code",
   "execution_count": 16,
   "metadata": {},
   "outputs": [
    {
     "data": {
      "text/plain": [
       "0    13280\n",
       "1     8316\n",
       "Name: basement, dtype: int64"
      ]
     },
     "execution_count": 16,
     "metadata": {},
     "output_type": "execute_result"
    }
   ],
   "source": [
    "# Creating ['basement'] to replace 'sqft_basement'\n",
    "kc1['basement'] = kc1['sqft_basement'].apply(lambda x: 0 if x == 0  else 1)\n",
    "kc1['basement'].value_counts()"
   ]
  },
  {
   "cell_type": "code",
   "execution_count": 17,
   "metadata": {},
   "outputs": [
    {
     "data": {
      "text/plain": [
       "vintage    16840\n",
       "recent      3515\n",
       "new         1241\n",
       "Name: Age, dtype: int64"
      ]
     },
     "execution_count": 17,
     "metadata": {},
     "output_type": "execute_result"
    }
   ],
   "source": [
    "# Creating 'Age' to replace 'yr_built' \n",
    "# \n",
    "kc1['Age'] = kc['yr_built'].apply(lambda x: \"vintage\" if x <= 1999 else \"recent\" if x >= 2000 and x < 2010 else \"new\")\n",
    "kc1['Age'].value_counts()"
   ]
  },
  {
   "cell_type": "code",
   "execution_count": 18,
   "metadata": {},
   "outputs": [
    {
     "data": {
      "text/plain": [
       "not_recent/never    21217\n",
       "within_15yrs          229\n",
       "within_5yrs           150\n",
       "Name: renovated, dtype: int64"
      ]
     },
     "execution_count": 18,
     "metadata": {},
     "output_type": "execute_result"
    }
   ],
   "source": [
    "# Creating 'renovated' so sa to replace the 'yr_renovated'\n",
    "kc1['renovated'] = kc['yr_renovated'].apply(lambda x: \"not_recent/never\" if x <= 1999 else \"within_15yrs\" if x >= 2000 and x < 2010 else 'within_5yrs')\n",
    "kc1['renovated'].value_counts()"
   ]
  },
  {
   "cell_type": "code",
   "execution_count": 19,
   "metadata": {},
   "outputs": [
    {
     "data": {
      "text/plain": [
       "3    9824\n",
       "4    6882\n",
       "2    2760\n",
       "5    1601\n",
       "6     333\n",
       "1     196\n",
       "Name: bedrooms, dtype: int64"
      ]
     },
     "execution_count": 19,
     "metadata": {},
     "output_type": "execute_result"
    }
   ],
   "source": [
    "# To reduce the number of classes of bedrooms and increase variability \n",
    "kc1['bedrooms'] = kc['bedrooms'].apply(lambda x: x if x <= 6 else 6)\n",
    "kc1['bedrooms'].value_counts()"
   ]
  },
  {
   "cell_type": "code",
   "execution_count": 20,
   "metadata": {},
   "outputs": [],
   "source": [
    "def getSeason(date):\n",
    "    month = int(date.split(\"/\")[0])\n",
    "    if (month > 11 or month <= 3):\n",
    "       return \"Winter\"\n",
    "    elif (month == 4 or month == 5):\n",
    "       return \"Spring\"\n",
    "    elif (month >=6 and month <= 9):\n",
    "       return \"Summer\"\n",
    "    else:\n",
    "       return \"Fall\""
   ]
  },
  {
   "cell_type": "code",
   "execution_count": 21,
   "metadata": {},
   "outputs": [
    {
     "data": {
      "text/plain": [
       "Summer    8098\n",
       "Winter    5570\n",
       "Spring    4643\n",
       "Fall      3285\n",
       "Name: season, dtype: int64"
      ]
     },
     "execution_count": 21,
     "metadata": {},
     "output_type": "execute_result"
    }
   ],
   "source": [
    "kc1['season'] = kc1.date.map(getSeason)\n",
    "kc1['season'].value_counts()"
   ]
  },
  {
   "cell_type": "code",
   "execution_count": 22,
   "metadata": {},
   "outputs": [],
   "source": [
    "kc1['price_zipcode'] = kc1.groupby(\"zipcode\")[\"price\"].transform('mean')\n",
    "quantiles = pd.qcut(kc1['price_zipcode'], 5, labels=range(1,6))\n",
    "kc1= kc1.assign(p_zipcode_Q=quantiles.values)"
   ]
  },
  {
   "cell_type": "code",
   "execution_count": 23,
   "metadata": {},
   "outputs": [],
   "source": [
    "kc1['bathrooms_lg'] =np.log(kc1['bathrooms'])\n",
    "kc1['sqftlot_lg'] =np.log(kc1['sqft_lot'])\n",
    "kc1['sqft15_lg'] =np.log(kc1['sqft_living15'])\n",
    "kc1['sqftabv_lg'] =np.log(kc1['sqft_above'])\n",
    "kc1['sqftlv_lg'] =np.log(kc1['sqft_living'])\n",
    "kc1['price_lg'] =np.log(kc1['price'])\n",
    "kc1['sqftlot_lg'] =np.log(kc1['sqft_lot15'])\n"
   ]
  },
  {
   "cell_type": "code",
   "execution_count": 24,
   "metadata": {},
   "outputs": [
    {
     "data": {
      "text/html": [
       "<div>\n",
       "<style scoped>\n",
       "    .dataframe tbody tr th:only-of-type {\n",
       "        vertical-align: middle;\n",
       "    }\n",
       "\n",
       "    .dataframe tbody tr th {\n",
       "        vertical-align: top;\n",
       "    }\n",
       "\n",
       "    .dataframe thead th {\n",
       "        text-align: right;\n",
       "    }\n",
       "</style>\n",
       "<table border=\"1\" class=\"dataframe\">\n",
       "  <thead>\n",
       "    <tr style=\"text-align: right;\">\n",
       "      <th></th>\n",
       "      <th>date</th>\n",
       "      <th>price</th>\n",
       "      <th>bedrooms</th>\n",
       "      <th>bathrooms</th>\n",
       "      <th>sqft_living</th>\n",
       "      <th>sqft_lot</th>\n",
       "      <th>floors</th>\n",
       "      <th>waterfront</th>\n",
       "      <th>view</th>\n",
       "      <th>condition</th>\n",
       "      <th>grade</th>\n",
       "      <th>sqft_above</th>\n",
       "      <th>sqft_basement</th>\n",
       "      <th>yr_built</th>\n",
       "      <th>yr_renovated</th>\n",
       "      <th>zipcode</th>\n",
       "      <th>sqft_living15</th>\n",
       "      <th>sqft_lot15</th>\n",
       "      <th>basement</th>\n",
       "      <th>Age</th>\n",
       "      <th>renovated</th>\n",
       "      <th>season</th>\n",
       "      <th>price_zipcode</th>\n",
       "    </tr>\n",
       "  </thead>\n",
       "  <tbody>\n",
       "    <tr>\n",
       "      <th>0</th>\n",
       "      <td>10/13/2014</td>\n",
       "      <td>221900.0</td>\n",
       "      <td>3</td>\n",
       "      <td>1.00</td>\n",
       "      <td>1180</td>\n",
       "      <td>5650</td>\n",
       "      <td>1.0</td>\n",
       "      <td>0.0</td>\n",
       "      <td>0.0</td>\n",
       "      <td>3</td>\n",
       "      <td>7</td>\n",
       "      <td>1180</td>\n",
       "      <td>0.0</td>\n",
       "      <td>1955</td>\n",
       "      <td>0.0</td>\n",
       "      <td>98178</td>\n",
       "      <td>1340</td>\n",
       "      <td>5650</td>\n",
       "      <td>0</td>\n",
       "      <td>vintage</td>\n",
       "      <td>not_recent/never</td>\n",
       "      <td>Fall</td>\n",
       "      <td>310612.755725</td>\n",
       "    </tr>\n",
       "    <tr>\n",
       "      <th>1</th>\n",
       "      <td>12/9/2014</td>\n",
       "      <td>538000.0</td>\n",
       "      <td>3</td>\n",
       "      <td>2.25</td>\n",
       "      <td>2570</td>\n",
       "      <td>7242</td>\n",
       "      <td>2.0</td>\n",
       "      <td>0.0</td>\n",
       "      <td>0.0</td>\n",
       "      <td>3</td>\n",
       "      <td>7</td>\n",
       "      <td>2170</td>\n",
       "      <td>400.0</td>\n",
       "      <td>1951</td>\n",
       "      <td>1991.0</td>\n",
       "      <td>98125</td>\n",
       "      <td>1690</td>\n",
       "      <td>7639</td>\n",
       "      <td>1</td>\n",
       "      <td>vintage</td>\n",
       "      <td>not_recent/never</td>\n",
       "      <td>Winter</td>\n",
       "      <td>469928.767726</td>\n",
       "    </tr>\n",
       "    <tr>\n",
       "      <th>2</th>\n",
       "      <td>2/25/2015</td>\n",
       "      <td>180000.0</td>\n",
       "      <td>2</td>\n",
       "      <td>1.00</td>\n",
       "      <td>770</td>\n",
       "      <td>10000</td>\n",
       "      <td>1.0</td>\n",
       "      <td>0.0</td>\n",
       "      <td>0.0</td>\n",
       "      <td>3</td>\n",
       "      <td>6</td>\n",
       "      <td>770</td>\n",
       "      <td>0.0</td>\n",
       "      <td>1933</td>\n",
       "      <td>0.0</td>\n",
       "      <td>98028</td>\n",
       "      <td>2720</td>\n",
       "      <td>8062</td>\n",
       "      <td>0</td>\n",
       "      <td>vintage</td>\n",
       "      <td>not_recent/never</td>\n",
       "      <td>Winter</td>\n",
       "      <td>462488.869258</td>\n",
       "    </tr>\n",
       "    <tr>\n",
       "      <th>3</th>\n",
       "      <td>12/9/2014</td>\n",
       "      <td>604000.0</td>\n",
       "      <td>4</td>\n",
       "      <td>3.00</td>\n",
       "      <td>1960</td>\n",
       "      <td>5000</td>\n",
       "      <td>1.0</td>\n",
       "      <td>0.0</td>\n",
       "      <td>0.0</td>\n",
       "      <td>5</td>\n",
       "      <td>7</td>\n",
       "      <td>1050</td>\n",
       "      <td>910.0</td>\n",
       "      <td>1965</td>\n",
       "      <td>0.0</td>\n",
       "      <td>98136</td>\n",
       "      <td>1360</td>\n",
       "      <td>5000</td>\n",
       "      <td>1</td>\n",
       "      <td>vintage</td>\n",
       "      <td>not_recent/never</td>\n",
       "      <td>Winter</td>\n",
       "      <td>551768.520913</td>\n",
       "    </tr>\n",
       "    <tr>\n",
       "      <th>4</th>\n",
       "      <td>2/18/2015</td>\n",
       "      <td>510000.0</td>\n",
       "      <td>3</td>\n",
       "      <td>2.00</td>\n",
       "      <td>1680</td>\n",
       "      <td>8080</td>\n",
       "      <td>1.0</td>\n",
       "      <td>0.0</td>\n",
       "      <td>0.0</td>\n",
       "      <td>3</td>\n",
       "      <td>8</td>\n",
       "      <td>1680</td>\n",
       "      <td>0.0</td>\n",
       "      <td>1987</td>\n",
       "      <td>0.0</td>\n",
       "      <td>98074</td>\n",
       "      <td>1800</td>\n",
       "      <td>7503</td>\n",
       "      <td>0</td>\n",
       "      <td>vintage</td>\n",
       "      <td>not_recent/never</td>\n",
       "      <td>Winter</td>\n",
       "      <td>685675.843537</td>\n",
       "    </tr>\n",
       "    <tr>\n",
       "      <th>...</th>\n",
       "      <td>...</td>\n",
       "      <td>...</td>\n",
       "      <td>...</td>\n",
       "      <td>...</td>\n",
       "      <td>...</td>\n",
       "      <td>...</td>\n",
       "      <td>...</td>\n",
       "      <td>...</td>\n",
       "      <td>...</td>\n",
       "      <td>...</td>\n",
       "      <td>...</td>\n",
       "      <td>...</td>\n",
       "      <td>...</td>\n",
       "      <td>...</td>\n",
       "      <td>...</td>\n",
       "      <td>...</td>\n",
       "      <td>...</td>\n",
       "      <td>...</td>\n",
       "      <td>...</td>\n",
       "      <td>...</td>\n",
       "      <td>...</td>\n",
       "      <td>...</td>\n",
       "      <td>...</td>\n",
       "    </tr>\n",
       "    <tr>\n",
       "      <th>21592</th>\n",
       "      <td>5/21/2014</td>\n",
       "      <td>360000.0</td>\n",
       "      <td>3</td>\n",
       "      <td>2.50</td>\n",
       "      <td>1530</td>\n",
       "      <td>1131</td>\n",
       "      <td>3.0</td>\n",
       "      <td>0.0</td>\n",
       "      <td>0.0</td>\n",
       "      <td>3</td>\n",
       "      <td>8</td>\n",
       "      <td>1530</td>\n",
       "      <td>0.0</td>\n",
       "      <td>2009</td>\n",
       "      <td>0.0</td>\n",
       "      <td>98103</td>\n",
       "      <td>1530</td>\n",
       "      <td>1509</td>\n",
       "      <td>0</td>\n",
       "      <td>recent</td>\n",
       "      <td>not_recent/never</td>\n",
       "      <td>Spring</td>\n",
       "      <td>584957.346090</td>\n",
       "    </tr>\n",
       "    <tr>\n",
       "      <th>21593</th>\n",
       "      <td>2/23/2015</td>\n",
       "      <td>400000.0</td>\n",
       "      <td>4</td>\n",
       "      <td>2.50</td>\n",
       "      <td>2310</td>\n",
       "      <td>5813</td>\n",
       "      <td>2.0</td>\n",
       "      <td>0.0</td>\n",
       "      <td>0.0</td>\n",
       "      <td>3</td>\n",
       "      <td>8</td>\n",
       "      <td>2310</td>\n",
       "      <td>0.0</td>\n",
       "      <td>2014</td>\n",
       "      <td>0.0</td>\n",
       "      <td>98146</td>\n",
       "      <td>1830</td>\n",
       "      <td>7200</td>\n",
       "      <td>0</td>\n",
       "      <td>new</td>\n",
       "      <td>not_recent/never</td>\n",
       "      <td>Winter</td>\n",
       "      <td>359496.260417</td>\n",
       "    </tr>\n",
       "    <tr>\n",
       "      <th>21594</th>\n",
       "      <td>6/23/2014</td>\n",
       "      <td>402101.0</td>\n",
       "      <td>2</td>\n",
       "      <td>0.75</td>\n",
       "      <td>1020</td>\n",
       "      <td>1350</td>\n",
       "      <td>2.0</td>\n",
       "      <td>0.0</td>\n",
       "      <td>0.0</td>\n",
       "      <td>3</td>\n",
       "      <td>7</td>\n",
       "      <td>1020</td>\n",
       "      <td>0.0</td>\n",
       "      <td>2009</td>\n",
       "      <td>0.0</td>\n",
       "      <td>98144</td>\n",
       "      <td>1020</td>\n",
       "      <td>2007</td>\n",
       "      <td>0</td>\n",
       "      <td>recent</td>\n",
       "      <td>not_recent/never</td>\n",
       "      <td>Summer</td>\n",
       "      <td>594706.542274</td>\n",
       "    </tr>\n",
       "    <tr>\n",
       "      <th>21595</th>\n",
       "      <td>1/16/2015</td>\n",
       "      <td>400000.0</td>\n",
       "      <td>3</td>\n",
       "      <td>2.50</td>\n",
       "      <td>1600</td>\n",
       "      <td>2388</td>\n",
       "      <td>2.0</td>\n",
       "      <td>0.0</td>\n",
       "      <td>0.0</td>\n",
       "      <td>3</td>\n",
       "      <td>8</td>\n",
       "      <td>1600</td>\n",
       "      <td>0.0</td>\n",
       "      <td>2004</td>\n",
       "      <td>0.0</td>\n",
       "      <td>98027</td>\n",
       "      <td>1410</td>\n",
       "      <td>1287</td>\n",
       "      <td>0</td>\n",
       "      <td>recent</td>\n",
       "      <td>not_recent/never</td>\n",
       "      <td>Winter</td>\n",
       "      <td>617053.966019</td>\n",
       "    </tr>\n",
       "    <tr>\n",
       "      <th>21596</th>\n",
       "      <td>10/15/2014</td>\n",
       "      <td>325000.0</td>\n",
       "      <td>2</td>\n",
       "      <td>0.75</td>\n",
       "      <td>1020</td>\n",
       "      <td>1076</td>\n",
       "      <td>2.0</td>\n",
       "      <td>0.0</td>\n",
       "      <td>0.0</td>\n",
       "      <td>3</td>\n",
       "      <td>7</td>\n",
       "      <td>1020</td>\n",
       "      <td>0.0</td>\n",
       "      <td>2008</td>\n",
       "      <td>0.0</td>\n",
       "      <td>98144</td>\n",
       "      <td>1020</td>\n",
       "      <td>1357</td>\n",
       "      <td>0</td>\n",
       "      <td>recent</td>\n",
       "      <td>not_recent/never</td>\n",
       "      <td>Fall</td>\n",
       "      <td>594706.542274</td>\n",
       "    </tr>\n",
       "  </tbody>\n",
       "</table>\n",
       "<p>21596 rows × 23 columns</p>\n",
       "</div>"
      ],
      "text/plain": [
       "             date     price  bedrooms  bathrooms  sqft_living  sqft_lot  \\\n",
       "0      10/13/2014  221900.0         3       1.00         1180      5650   \n",
       "1       12/9/2014  538000.0         3       2.25         2570      7242   \n",
       "2       2/25/2015  180000.0         2       1.00          770     10000   \n",
       "3       12/9/2014  604000.0         4       3.00         1960      5000   \n",
       "4       2/18/2015  510000.0         3       2.00         1680      8080   \n",
       "...           ...       ...       ...        ...          ...       ...   \n",
       "21592   5/21/2014  360000.0         3       2.50         1530      1131   \n",
       "21593   2/23/2015  400000.0         4       2.50         2310      5813   \n",
       "21594   6/23/2014  402101.0         2       0.75         1020      1350   \n",
       "21595   1/16/2015  400000.0         3       2.50         1600      2388   \n",
       "21596  10/15/2014  325000.0         2       0.75         1020      1076   \n",
       "\n",
       "       floors  waterfront  view  condition  grade  sqft_above  sqft_basement  \\\n",
       "0         1.0         0.0   0.0          3      7        1180            0.0   \n",
       "1         2.0         0.0   0.0          3      7        2170          400.0   \n",
       "2         1.0         0.0   0.0          3      6         770            0.0   \n",
       "3         1.0         0.0   0.0          5      7        1050          910.0   \n",
       "4         1.0         0.0   0.0          3      8        1680            0.0   \n",
       "...       ...         ...   ...        ...    ...         ...            ...   \n",
       "21592     3.0         0.0   0.0          3      8        1530            0.0   \n",
       "21593     2.0         0.0   0.0          3      8        2310            0.0   \n",
       "21594     2.0         0.0   0.0          3      7        1020            0.0   \n",
       "21595     2.0         0.0   0.0          3      8        1600            0.0   \n",
       "21596     2.0         0.0   0.0          3      7        1020            0.0   \n",
       "\n",
       "       yr_built  yr_renovated  zipcode  sqft_living15  sqft_lot15  basement  \\\n",
       "0          1955           0.0    98178           1340        5650         0   \n",
       "1          1951        1991.0    98125           1690        7639         1   \n",
       "2          1933           0.0    98028           2720        8062         0   \n",
       "3          1965           0.0    98136           1360        5000         1   \n",
       "4          1987           0.0    98074           1800        7503         0   \n",
       "...         ...           ...      ...            ...         ...       ...   \n",
       "21592      2009           0.0    98103           1530        1509         0   \n",
       "21593      2014           0.0    98146           1830        7200         0   \n",
       "21594      2009           0.0    98144           1020        2007         0   \n",
       "21595      2004           0.0    98027           1410        1287         0   \n",
       "21596      2008           0.0    98144           1020        1357         0   \n",
       "\n",
       "           Age         renovated  season  price_zipcode  \n",
       "0      vintage  not_recent/never    Fall  310612.755725  \n",
       "1      vintage  not_recent/never  Winter  469928.767726  \n",
       "2      vintage  not_recent/never  Winter  462488.869258  \n",
       "3      vintage  not_recent/never  Winter  551768.520913  \n",
       "4      vintage  not_recent/never  Winter  685675.843537  \n",
       "...        ...               ...     ...            ...  \n",
       "21592   recent  not_recent/never  Spring  584957.346090  \n",
       "21593      new  not_recent/never  Winter  359496.260417  \n",
       "21594   recent  not_recent/never  Summer  594706.542274  \n",
       "21595   recent  not_recent/never  Winter  617053.966019  \n",
       "21596   recent  not_recent/never    Fall  594706.542274  \n",
       "\n",
       "[21596 rows x 23 columns]"
      ]
     },
     "execution_count": 24,
     "metadata": {},
     "output_type": "execute_result"
    }
   ],
   "source": [
    "kc"
   ]
  },
  {
   "cell_type": "code",
   "execution_count": 25,
   "metadata": {},
   "outputs": [],
   "source": [
    "#Remove features/columns that are of no interest for this analysis \n",
    "kc1.drop(['price','sqft_above','sqft_lot15','sqft_lot','bathrooms',\n",
    "          'sqft_basement','yr_renovated', 'date','zipcode','price_zipcode','yr_built'], axis=1, inplace=True)"
   ]
  },
  {
   "cell_type": "code",
   "execution_count": 26,
   "metadata": {},
   "outputs": [
    {
     "data": {
      "image/png": "[encoded data removed]",
      "text/plain": [
       "<Figure size 1296x1080 with 16 Axes>"
      ]
     },
     "metadata": {
      "needs_background": "light"
     },
     "output_type": "display_data"
    }
   ],
   "source": [
    "#First, let's plot a histogram for each column\n",
    "kc1.hist(figsize=(18,15), bins='auto');"
   ]
  },
  {
   "cell_type": "markdown",
   "metadata": {},
   "source": [
    "### Correlation Review"
   ]
  },
  {
   "cell_type": "markdown",
   "metadata": {},
   "source": [
    "Our next logical step would be to investigate correlation amongst variables. First we will look at this more generally, then we will narrow our results to variables that are more highly correlated with our y-variable, price."
   ]
  },
  {
   "cell_type": "code",
   "execution_count": 27,
   "metadata": {},
   "outputs": [
    {
     "data": {
      "image/png": "[encoded data removed]",
      "text/plain": [
       "<Figure size 432x288 with 2 Axes>"
      ]
     },
     "metadata": {
      "needs_background": "light"
     },
     "output_type": "display_data"
    }
   ],
   "source": [
    "sns.heatmap(kc1.corr(), center=0);"
   ]
  },
  {
   "cell_type": "code",
   "execution_count": 28,
   "metadata": {},
   "outputs": [
    {
     "data": {
      "text/html": [
       "<div>\n",
       "<style scoped>\n",
       "    .dataframe tbody tr th:only-of-type {\n",
       "        vertical-align: middle;\n",
       "    }\n",
       "\n",
       "    .dataframe tbody tr th {\n",
       "        vertical-align: top;\n",
       "    }\n",
       "\n",
       "    .dataframe thead th {\n",
       "        text-align: right;\n",
       "    }\n",
       "</style>\n",
       "<table border=\"1\" class=\"dataframe\">\n",
       "  <thead>\n",
       "    <tr style=\"text-align: right;\">\n",
       "      <th></th>\n",
       "      <th>bedrooms</th>\n",
       "      <th>sqft_living</th>\n",
       "      <th>floors</th>\n",
       "      <th>waterfront</th>\n",
       "      <th>view</th>\n",
       "      <th>condition</th>\n",
       "      <th>grade</th>\n",
       "      <th>sqft_living15</th>\n",
       "      <th>basement</th>\n",
       "      <th>bathrooms_lg</th>\n",
       "      <th>sqftlot_lg</th>\n",
       "      <th>sqft15_lg</th>\n",
       "      <th>sqftabv_lg</th>\n",
       "      <th>sqftlv_lg</th>\n",
       "      <th>price_lg</th>\n",
       "    </tr>\n",
       "  </thead>\n",
       "  <tbody>\n",
       "    <tr>\n",
       "      <th>bedrooms</th>\n",
       "      <td>1.000000</td>\n",
       "      <td>0.596216</td>\n",
       "      <td>0.184706</td>\n",
       "      <td>-0.001671</td>\n",
       "      <td>0.081805</td>\n",
       "      <td>0.024072</td>\n",
       "      <td>0.372253</td>\n",
       "      <td>0.411579</td>\n",
       "      <td>0.159994</td>\n",
       "      <td>0.524246</td>\n",
       "      <td>0.171761</td>\n",
       "      <td>0.425612</td>\n",
       "      <td>0.535851</td>\n",
       "      <td>0.643579</td>\n",
       "      <td>0.353272</td>\n",
       "    </tr>\n",
       "    <tr>\n",
       "      <th>sqft_living</th>\n",
       "      <td>0.596216</td>\n",
       "      <td>1.000000</td>\n",
       "      <td>0.353941</td>\n",
       "      <td>0.104635</td>\n",
       "      <td>0.281710</td>\n",
       "      <td>-0.059397</td>\n",
       "      <td>0.762776</td>\n",
       "      <td>0.756400</td>\n",
       "      <td>0.201236</td>\n",
       "      <td>0.708155</td>\n",
       "      <td>0.321010</td>\n",
       "      <td>0.732179</td>\n",
       "      <td>0.843135</td>\n",
       "      <td>0.954607</td>\n",
       "      <td>0.695209</td>\n",
       "    </tr>\n",
       "    <tr>\n",
       "      <th>floors</th>\n",
       "      <td>0.184706</td>\n",
       "      <td>0.353941</td>\n",
       "      <td>1.000000</td>\n",
       "      <td>0.020794</td>\n",
       "      <td>0.028401</td>\n",
       "      <td>-0.264013</td>\n",
       "      <td>0.458783</td>\n",
       "      <td>0.280072</td>\n",
       "      <td>-0.252426</td>\n",
       "      <td>0.501034</td>\n",
       "      <td>-0.227256</td>\n",
       "      <td>0.275443</td>\n",
       "      <td>0.547599</td>\n",
       "      <td>0.367556</td>\n",
       "      <td>0.310665</td>\n",
       "    </tr>\n",
       "    <tr>\n",
       "      <th>view</th>\n",
       "      <td>0.081805</td>\n",
       "      <td>0.281710</td>\n",
       "      <td>0.028401</td>\n",
       "      <td>0.380543</td>\n",
       "      <td>1.000000</td>\n",
       "      <td>0.045663</td>\n",
       "      <td>0.249077</td>\n",
       "      <td>0.278921</td>\n",
       "      <td>0.176930</td>\n",
       "      <td>0.157503</td>\n",
       "      <td>0.119111</td>\n",
       "      <td>0.262548</td>\n",
       "      <td>0.157009</td>\n",
       "      <td>0.244800</td>\n",
       "      <td>0.344665</td>\n",
       "    </tr>\n",
       "    <tr>\n",
       "      <th>grade</th>\n",
       "      <td>0.372253</td>\n",
       "      <td>0.762776</td>\n",
       "      <td>0.458783</td>\n",
       "      <td>0.082817</td>\n",
       "      <td>0.249077</td>\n",
       "      <td>-0.146854</td>\n",
       "      <td>1.000000</td>\n",
       "      <td>0.713863</td>\n",
       "      <td>0.050736</td>\n",
       "      <td>0.644202</td>\n",
       "      <td>0.184987</td>\n",
       "      <td>0.689050</td>\n",
       "      <td>0.742866</td>\n",
       "      <td>0.743036</td>\n",
       "      <td>0.703747</td>\n",
       "    </tr>\n",
       "    <tr>\n",
       "      <th>sqft_living15</th>\n",
       "      <td>0.411579</td>\n",
       "      <td>0.756400</td>\n",
       "      <td>0.280072</td>\n",
       "      <td>0.083822</td>\n",
       "      <td>0.278921</td>\n",
       "      <td>-0.092979</td>\n",
       "      <td>0.713863</td>\n",
       "      <td>1.000000</td>\n",
       "      <td>0.044636</td>\n",
       "      <td>0.550770</td>\n",
       "      <td>0.375957</td>\n",
       "      <td>0.976818</td>\n",
       "      <td>0.714987</td>\n",
       "      <td>0.737217</td>\n",
       "      <td>0.619371</td>\n",
       "    </tr>\n",
       "    <tr>\n",
       "      <th>bathrooms_lg</th>\n",
       "      <td>0.524246</td>\n",
       "      <td>0.708155</td>\n",
       "      <td>0.501034</td>\n",
       "      <td>0.047164</td>\n",
       "      <td>0.157503</td>\n",
       "      <td>-0.113338</td>\n",
       "      <td>0.644202</td>\n",
       "      <td>0.550770</td>\n",
       "      <td>0.166217</td>\n",
       "      <td>1.000000</td>\n",
       "      <td>0.079113</td>\n",
       "      <td>0.570470</td>\n",
       "      <td>0.683893</td>\n",
       "      <td>0.760763</td>\n",
       "      <td>0.520292</td>\n",
       "    </tr>\n",
       "    <tr>\n",
       "      <th>sqft15_lg</th>\n",
       "      <td>0.425612</td>\n",
       "      <td>0.732179</td>\n",
       "      <td>0.275443</td>\n",
       "      <td>0.076501</td>\n",
       "      <td>0.262548</td>\n",
       "      <td>-0.089150</td>\n",
       "      <td>0.689050</td>\n",
       "      <td>0.976818</td>\n",
       "      <td>0.063442</td>\n",
       "      <td>0.570470</td>\n",
       "      <td>0.373600</td>\n",
       "      <td>1.000000</td>\n",
       "      <td>0.713088</td>\n",
       "      <td>0.746839</td>\n",
       "      <td>0.607205</td>\n",
       "    </tr>\n",
       "    <tr>\n",
       "      <th>sqftabv_lg</th>\n",
       "      <td>0.535851</td>\n",
       "      <td>0.843135</td>\n",
       "      <td>0.547599</td>\n",
       "      <td>0.059123</td>\n",
       "      <td>0.157009</td>\n",
       "      <td>-0.150635</td>\n",
       "      <td>0.742866</td>\n",
       "      <td>0.714987</td>\n",
       "      <td>-0.212780</td>\n",
       "      <td>0.683893</td>\n",
       "      <td>0.298676</td>\n",
       "      <td>0.713088</td>\n",
       "      <td>1.000000</td>\n",
       "      <td>0.864986</td>\n",
       "      <td>0.586062</td>\n",
       "    </tr>\n",
       "    <tr>\n",
       "      <th>sqftlv_lg</th>\n",
       "      <td>0.643579</td>\n",
       "      <td>0.954607</td>\n",
       "      <td>0.367556</td>\n",
       "      <td>0.078898</td>\n",
       "      <td>0.244800</td>\n",
       "      <td>-0.049584</td>\n",
       "      <td>0.743036</td>\n",
       "      <td>0.737217</td>\n",
       "      <td>0.233579</td>\n",
       "      <td>0.760763</td>\n",
       "      <td>0.303051</td>\n",
       "      <td>0.746839</td>\n",
       "      <td>0.864986</td>\n",
       "      <td>1.000000</td>\n",
       "      <td>0.674820</td>\n",
       "    </tr>\n",
       "    <tr>\n",
       "      <th>price_lg</th>\n",
       "      <td>0.353272</td>\n",
       "      <td>0.695209</td>\n",
       "      <td>0.310665</td>\n",
       "      <td>0.170724</td>\n",
       "      <td>0.344665</td>\n",
       "      <td>0.038855</td>\n",
       "      <td>0.703747</td>\n",
       "      <td>0.619371</td>\n",
       "      <td>0.209071</td>\n",
       "      <td>0.520292</td>\n",
       "      <td>0.123730</td>\n",
       "      <td>0.607205</td>\n",
       "      <td>0.586062</td>\n",
       "      <td>0.674820</td>\n",
       "      <td>1.000000</td>\n",
       "    </tr>\n",
       "  </tbody>\n",
       "</table>\n",
       "</div>"
      ],
      "text/plain": [
       "               bedrooms  sqft_living    floors  waterfront      view  \\\n",
       "bedrooms       1.000000     0.596216  0.184706   -0.001671  0.081805   \n",
       "sqft_living    0.596216     1.000000  0.353941    0.104635  0.281710   \n",
       "floors         0.184706     0.353941  1.000000    0.020794  0.028401   \n",
       "view           0.081805     0.281710  0.028401    0.380543  1.000000   \n",
       "grade          0.372253     0.762776  0.458783    0.082817  0.249077   \n",
       "sqft_living15  0.411579     0.756400  0.280072    0.083822  0.278921   \n",
       "bathrooms_lg   0.524246     0.708155  0.501034    0.047164  0.157503   \n",
       "sqft15_lg      0.425612     0.732179  0.275443    0.076501  0.262548   \n",
       "sqftabv_lg     0.535851     0.843135  0.547599    0.059123  0.157009   \n",
       "sqftlv_lg      0.643579     0.954607  0.367556    0.078898  0.244800   \n",
       "price_lg       0.353272     0.695209  0.310665    0.170724  0.344665   \n",
       "\n",
       "               condition     grade  sqft_living15  basement  bathrooms_lg  \\\n",
       "bedrooms        0.024072  0.372253       0.411579  0.159994      0.524246   \n",
       "sqft_living    -0.059397  0.762776       0.756400  0.201236      0.708155   \n",
       "floors         -0.264013  0.458783       0.280072 -0.252426      0.501034   \n",
       "view            0.045663  0.249077       0.278921  0.176930      0.157503   \n",
       "grade          -0.146854  1.000000       0.713863  0.050736      0.644202   \n",
       "sqft_living15  -0.092979  0.713863       1.000000  0.044636      0.550770   \n",
       "bathrooms_lg   -0.113338  0.644202       0.550770  0.166217      1.000000   \n",
       "sqft15_lg      -0.089150  0.689050       0.976818  0.063442      0.570470   \n",
       "sqftabv_lg     -0.150635  0.742866       0.714987 -0.212780      0.683893   \n",
       "sqftlv_lg      -0.049584  0.743036       0.737217  0.233579      0.760763   \n",
       "price_lg        0.038855  0.703747       0.619371  0.209071      0.520292   \n",
       "\n",
       "               sqftlot_lg  sqft15_lg  sqftabv_lg  sqftlv_lg  price_lg  \n",
       "bedrooms         0.171761   0.425612    0.535851   0.643579  0.353272  \n",
       "sqft_living      0.321010   0.732179    0.843135   0.954607  0.695209  \n",
       "floors          -0.227256   0.275443    0.547599   0.367556  0.310665  \n",
       "view             0.119111   0.262548    0.157009   0.244800  0.344665  \n",
       "grade            0.184987   0.689050    0.742866   0.743036  0.703747  \n",
       "sqft_living15    0.375957   0.976818    0.714987   0.737217  0.619371  \n",
       "bathrooms_lg     0.079113   0.570470    0.683893   0.760763  0.520292  \n",
       "sqft15_lg        0.373600   1.000000    0.713088   0.746839  0.607205  \n",
       "sqftabv_lg       0.298676   0.713088    1.000000   0.864986  0.586062  \n",
       "sqftlv_lg        0.303051   0.746839    0.864986   1.000000  0.674820  \n",
       "price_lg         0.123730   0.607205    0.586062   0.674820  1.000000  "
      ]
     },
     "execution_count": 28,
     "metadata": {},
     "output_type": "execute_result"
    }
   ],
   "source": [
    "#Look at which features are highly correlated with our y-variable, price.\n",
    "kc1.corr()[abs(kc1.corr()['price_lg']) > 0.3]"
   ]
  },
  {
   "cell_type": "markdown",
   "metadata": {},
   "source": [
    "We should also look at variables to see if they are correlated with each other, in order to investigate potential multicollinearity."
   ]
  },
  {
   "cell_type": "code",
   "execution_count": 29,
   "metadata": {},
   "outputs": [
    {
     "data": {
      "text/html": [
       "<div>\n",
       "<style scoped>\n",
       "    .dataframe tbody tr th:only-of-type {\n",
       "        vertical-align: middle;\n",
       "    }\n",
       "\n",
       "    .dataframe tbody tr th {\n",
       "        vertical-align: top;\n",
       "    }\n",
       "\n",
       "    .dataframe thead th {\n",
       "        text-align: right;\n",
       "    }\n",
       "</style>\n",
       "<table border=\"1\" class=\"dataframe\">\n",
       "  <thead>\n",
       "    <tr style=\"text-align: right;\">\n",
       "      <th></th>\n",
       "      <th>cc</th>\n",
       "    </tr>\n",
       "    <tr>\n",
       "      <th>pairs</th>\n",
       "      <th></th>\n",
       "    </tr>\n",
       "  </thead>\n",
       "  <tbody>\n",
       "    <tr>\n",
       "      <th>(sqft_above, sqft_living)</th>\n",
       "      <td>0.876448</td>\n",
       "    </tr>\n",
       "    <tr>\n",
       "      <th>(basement, sqft_basement)</th>\n",
       "      <td>0.820892</td>\n",
       "    </tr>\n",
       "    <tr>\n",
       "      <th>(grade, sqft_living)</th>\n",
       "      <td>0.762776</td>\n",
       "    </tr>\n",
       "    <tr>\n",
       "      <th>(sqft_living15, sqft_living)</th>\n",
       "      <td>0.756400</td>\n",
       "    </tr>\n",
       "    <tr>\n",
       "      <th>(grade, sqft_above)</th>\n",
       "      <td>0.756069</td>\n",
       "    </tr>\n",
       "    <tr>\n",
       "      <th>(bathrooms, sqft_living)</th>\n",
       "      <td>0.755755</td>\n",
       "    </tr>\n",
       "  </tbody>\n",
       "</table>\n",
       "</div>"
      ],
      "text/plain": [
       "                                    cc\n",
       "pairs                                 \n",
       "(sqft_above, sqft_living)     0.876448\n",
       "(basement, sqft_basement)     0.820892\n",
       "(grade, sqft_living)          0.762776\n",
       "(sqft_living15, sqft_living)  0.756400\n",
       "(grade, sqft_above)           0.756069\n",
       "(bathrooms, sqft_living)      0.755755"
      ]
     },
     "execution_count": 29,
     "metadata": {},
     "output_type": "execute_result"
    }
   ],
   "source": [
    "kc_1 = kc.corr().abs().stack().reset_index().sort_values(0, ascending=False)\n",
    "\n",
    "kc_1['pairs'] = list(zip(kc_1.level_0, kc_1.level_1))\n",
    "\n",
    "kc_1.set_index(['pairs'], inplace = True)\n",
    "\n",
    "kc_1.drop(columns=['level_1', 'level_0'], inplace = True)\n",
    "\n",
    "# cc for correlation coefficient\n",
    "kc_1.columns = ['cc']\n",
    "\n",
    "kc_1.drop_duplicates(inplace=True)\n",
    "\n",
    "kc_1[(kc_1.cc>.75) & (kc_1.cc<1)]"
   ]
  },
  {
   "cell_type": "markdown",
   "metadata": {},
   "source": [
    "## Correlarion review Analysis:"
   ]
  },
  {
   "cell_type": "markdown",
   "metadata": {},
   "source": [
    "The largest multicollinearity lies between sqft_living and sqft_above (0.88). To a lesser extent, there was some multicollinearity between sqft_living and sqft_living15 (between the living space of the house in question and the 15 closest neighbors), as well as sqft_living and grade (0.77) and sqft_above and grade (0.76). With regard to the first relationship, sqft_living has a 0.70 correlation with the target variable, price, while sqft_above only has a 0.60 correlation; this suggests we should drop sqft_above. This may also remove the multicollinearity between sqft_above and grade. Considering the strength of the sqft_living variable, it would also make sense to drop sqft_living15. The grade variable has a strong correlation with price, so despite the collinearity with sqft_living, I'll leav it in for now. Finally, it just doesn't make logical sense to keep the neighbors' lot sizes if we're dropping their living space square footage; accordingly, we'll drop that variable (sqft_lot15), as well as the preceding three."
   ]
  },
  {
   "cell_type": "markdown",
   "metadata": {},
   "source": [
    "## First Simple Model"
   ]
  },
  {
   "cell_type": "markdown",
   "metadata": {},
   "source": [
    "Since sqft_living has the highest correlation with price, then the first simple model will be to show the realtionship between this"
   ]
  },
  {
   "cell_type": "code",
   "execution_count": 30,
   "metadata": {},
   "outputs": [],
   "source": [
    "FSM_df= kc[['price', 'sqft_living']]\n",
    "price_target = kc['price']"
   ]
  },
  {
   "cell_type": "code",
   "execution_count": 31,
   "metadata": {},
   "outputs": [],
   "source": [
    "formula = 'price ~ sqft_living'"
   ]
  },
  {
   "cell_type": "code",
   "execution_count": 32,
   "metadata": {},
   "outputs": [],
   "source": [
    "fsm = ols(formula, FSM_df).fit()"
   ]
  },
  {
   "cell_type": "code",
   "execution_count": 33,
   "metadata": {},
   "outputs": [
    {
     "name": "stdout",
     "output_type": "stream",
     "text": [
      "                            OLS Regression Results                            \n",
      "==============================================================================\n",
      "Dep. Variable:                  price   R-squared:                       0.493\n",
      "Model:                            OLS   Adj. R-squared:                  0.493\n",
      "Method:                 Least Squares   F-statistic:                 2.097e+04\n",
      "Date:                Thu, 03 Jun 2021   Prob (F-statistic):               0.00\n",
      "Time:                        07:45:55   Log-Likelihood:            -3.0005e+05\n",
      "No. Observations:               21596   AIC:                         6.001e+05\n",
      "Df Residuals:                   21594   BIC:                         6.001e+05\n",
      "Df Model:                           1                                         \n",
      "Covariance Type:            nonrobust                                         \n",
      "===============================================================================\n",
      "                  coef    std err          t      P>|t|      [0.025      0.975]\n",
      "-------------------------------------------------------------------------------\n",
      "Intercept   -4.401e+04   4410.123     -9.980      0.000   -5.27e+04   -3.54e+04\n",
      "sqft_living   280.8688      1.939    144.820      0.000     277.067     284.670\n",
      "==============================================================================\n",
      "Omnibus:                    14801.492   Durbin-Watson:                   1.982\n",
      "Prob(Omnibus):                  0.000   Jarque-Bera (JB):           542642.481\n",
      "Skew:                           2.820   Prob(JB):                         0.00\n",
      "Kurtosis:                      26.901   Cond. No.                     5.63e+03\n",
      "==============================================================================\n",
      "\n",
      "Notes:\n",
      "[1] Standard Errors assume that the covariance matrix of the errors is correctly specified.\n",
      "[2] The condition number is large, 5.63e+03. This might indicate that there are\n",
      "strong multicollinearity or other numerical problems.\n"
     ]
    }
   ],
   "source": [
    "fsm_summary = fsm.summary()\n",
    "print(fsm_summary)"
   ]
  },
  {
   "cell_type": "code",
   "execution_count": 34,
   "metadata": {},
   "outputs": [
    {
     "data": {
      "image/png": "[encoded data removed]",
      "text/plain": [
       "<Figure size 1080x576 with 4 Axes>"
      ]
     },
     "metadata": {
      "needs_background": "light"
     },
     "output_type": "display_data"
    }
   ],
   "source": [
    "fig = plt.figure(figsize=(15,8))\n",
    "fig = sm.graphics.plot_regress_exog(fsm, \"sqft_living\", fig=fig)\n",
    "plt.show()"
   ]
  },
  {
   "cell_type": "code",
   "execution_count": 35,
   "metadata": {},
   "outputs": [
    {
     "name": "stderr",
     "output_type": "stream",
     "text": [
      "<ipython-input-35-f100f074761f>:3: UserWarning: Matplotlib is currently using module://matplotlib_inline.backend_inline, which is a non-GUI backend, so cannot show the figure.\n",
      "  fig.show()\n"
     ]
    },
    {
     "data": {
      "image/png": "[encoded data removed]",
      "text/plain": [
       "<Figure size 432x288 with 1 Axes>"
      ]
     },
     "metadata": {
      "needs_background": "light"
     },
     "output_type": "display_data"
    }
   ],
   "source": [
    "residuals = fsm.resid\n",
    "fig = sm.graphics.qqplot(residuals, dist=stats.norm, line='45', fit=True)\n",
    "fig.show()"
   ]
  },
  {
   "cell_type": "markdown",
   "metadata": {},
   "source": [
    "The First Simple Model betweent the highly correlating sqft_living feature with price has a low r-squared and a very high condition number indicating that there are possible numerical data issues. "
   ]
  },
  {
   "cell_type": "code",
   "execution_count": null,
   "metadata": {},
   "outputs": [],
   "source": []
  },
  {
   "cell_type": "markdown",
   "metadata": {},
   "source": [
    "## Fixing the possible numeric data issues"
   ]
  },
  {
   "cell_type": "code",
   "execution_count": 36,
   "metadata": {},
   "outputs": [],
   "source": [
    "X = kc1[['sqftlv_lg']]\n",
    "y = kc1['price_lg']"
   ]
  },
  {
   "cell_type": "code",
   "execution_count": 37,
   "metadata": {},
   "outputs": [
    {
     "name": "stdout",
     "output_type": "stream",
     "text": [
      "                            OLS Regression Results                            \n",
      "==============================================================================\n",
      "Dep. Variable:               price_lg   R-squared:                       0.455\n",
      "Model:                            OLS   Adj. R-squared:                  0.455\n",
      "Method:                 Least Squares   F-statistic:                 1.806e+04\n",
      "Date:                Thu, 03 Jun 2021   Prob (F-statistic):               0.00\n",
      "Time:                        07:45:57   Log-Likelihood:                -10230.\n",
      "No. Observations:               21596   AIC:                         2.046e+04\n",
      "Df Residuals:                   21594   BIC:                         2.048e+04\n",
      "Df Model:                           1                                         \n",
      "Covariance Type:            nonrobust                                         \n",
      "==============================================================================\n",
      "                 coef    std err          t      P>|t|      [0.025      0.975]\n",
      "------------------------------------------------------------------------------\n",
      "const          6.7232      0.047    142.609      0.000       6.631       6.816\n",
      "sqftlv_lg      0.8377      0.006    134.372      0.000       0.825       0.850\n",
      "==============================================================================\n",
      "Omnibus:                      123.586   Durbin-Watson:                   1.977\n",
      "Prob(Omnibus):                  0.000   Jarque-Bera (JB):              114.131\n",
      "Skew:                           0.143   Prob(JB):                     1.65e-25\n",
      "Kurtosis:                       2.788   Cond. No.                         137.\n",
      "==============================================================================\n",
      "\n",
      "Notes:\n",
      "[1] Standard Errors assume that the covariance matrix of the errors is correctly specified.\n"
     ]
    }
   ],
   "source": [
    "predictors_int = sm.add_constant(X)\n",
    "model = sm.OLS(y, predictors_int).fit()\n",
    "print(model.summary())"
   ]
  },
  {
   "cell_type": "markdown",
   "metadata": {},
   "source": [
    "## Square Footage of the home Statistical Analysis"
   ]
  },
  {
   "cell_type": "markdown",
   "metadata": {},
   "source": [
    "The numerical issues were eliminated by log transforming the price and sqftlv values but the model then showed that still low r squared value indicating that the square footage alone does not explain the property value of a home."
   ]
  },
  {
   "cell_type": "markdown",
   "metadata": {},
   "source": [
    "## Adding more significantly correlarated features to the model "
   ]
  },
  {
   "cell_type": "markdown",
   "metadata": {},
   "source": [
    "The square footage of interior housing living space for the nearest 15 neighbors (sqft_living15),  square footage of house (sqftabv) and the overall grade given to the housing unit, based on King County grading system (grade) seemed to have equally significant correlation with the sales price and will added to the model to evaluate its performance"
   ]
  },
  {
   "cell_type": "code",
   "execution_count": 38,
   "metadata": {},
   "outputs": [],
   "source": [
    "X_1 = kc1[['sqftlv_lg', 'sqft15_lg','sqftabv_lg']]\n",
    "y = kc1['price_lg']"
   ]
  },
  {
   "cell_type": "code",
   "execution_count": 39,
   "metadata": {},
   "outputs": [
    {
     "name": "stdout",
     "output_type": "stream",
     "text": [
      "                            OLS Regression Results                            \n",
      "==============================================================================\n",
      "Dep. Variable:               price_lg   R-squared:                       0.565\n",
      "Model:                            OLS   Adj. R-squared:                  0.565\n",
      "Method:                 Least Squares   F-statistic:                     2156.\n",
      "Date:                Thu, 03 Jun 2021   Prob (F-statistic):               0.00\n",
      "Time:                        07:45:57   Log-Likelihood:                -7803.8\n",
      "No. Observations:               21596   AIC:                         1.564e+04\n",
      "Df Residuals:                   21582   BIC:                         1.575e+04\n",
      "Df Model:                          13                                         \n",
      "Covariance Type:            nonrobust                                         \n",
      "==============================================================================\n",
      "                 coef    std err          t      P>|t|      [0.025      0.975]\n",
      "------------------------------------------------------------------------------\n",
      "const          9.3863      0.356     26.385      0.000       8.689      10.084\n",
      "sqftlv_lg      0.5417      0.012     43.850      0.000       0.517       0.566\n",
      "sqft15_lg      0.1904      0.012     16.441      0.000       0.168       0.213\n",
      "sqftabv_lg    -0.2668      0.012    -22.766      0.000      -0.290      -0.244\n",
      "grade_4       -0.3912      0.354     -1.106      0.269      -1.085       0.302\n",
      "grade_5       -0.3193      0.348     -0.917      0.359      -1.002       0.363\n",
      "grade_6       -0.1740      0.348     -0.501      0.617      -0.855       0.507\n",
      "grade_7       -0.0378      0.348     -0.109      0.914      -0.719       0.644\n",
      "grade_8        0.1553      0.348      0.447      0.655      -0.526       0.837\n",
      "grade_9        0.3953      0.348      1.136      0.256      -0.286       1.077\n",
      "grade_10       0.6226      0.348      1.789      0.074      -0.059       1.305\n",
      "grade_11       0.8598      0.348      2.468      0.014       0.177       1.543\n",
      "grade_12       1.1540      0.350      3.298      0.001       0.468       1.840\n",
      "grade_13       1.5749      0.361      4.359      0.000       0.867       2.283\n",
      "==============================================================================\n",
      "Omnibus:                       57.264   Durbin-Watson:                   1.976\n",
      "Prob(Omnibus):                  0.000   Jarque-Bera (JB):               57.156\n",
      "Skew:                           0.119   Prob(JB):                     3.88e-13\n",
      "Kurtosis:                       2.917   Cond. No.                     6.36e+03\n",
      "==============================================================================\n",
      "\n",
      "Notes:\n",
      "[1] Standard Errors assume that the covariance matrix of the errors is correctly specified.\n",
      "[2] The condition number is large, 6.36e+03. This might indicate that there are\n",
      "strong multicollinearity or other numerical problems.\n"
     ]
    }
   ],
   "source": [
    "cat = ['grade']\n",
    "catkc1 = kc[cat].astype('category')\n",
    "dummies = pd.get_dummies(catkc1, prefix=cat, drop_first=True)\n",
    "kc_p = kc1.drop(cat, axis=1)\n",
    "kc_p = pd.concat([kc_p, dummies], axis=1)\n",
    "X_1 = kc_p[['sqftlv_lg', 'sqft15_lg','sqftabv_lg','grade_4','grade_5','grade_6','grade_7','grade_8','grade_9'\n",
    "            ,'grade_10','grade_11','grade_12','grade_13']]\n",
    "\n",
    "#--------------------------Bar Plots--------------------------------------#\n",
    "#set subplot data\n",
    "predictors_int = sm.add_constant(X_1)\n",
    "model_1 = sm.OLS(y, predictors_int).fit()\n",
    "print(model_1.summary())"
   ]
  },
  {
   "cell_type": "markdown",
   "metadata": {},
   "source": [
    "## Statistical Analysis of the model with more significantly correlated features"
   ]
  },
  {
   "cell_type": "markdown",
   "metadata": {},
   "source": [
    "Adding the three more features that were also significantly correlated to the sales price increased the r squared value of the model. However the following conclusions are made form this model:\n",
    "- The overall grade given to a housing unit is not significantly correlated to the sales price of a house and thus this feature will be dropped from versions of our model.\n",
    "- The model condition number was very large indicating strong multicollinearity issues. Next version of the model not include grade and thus this will evaluate status of the condition number.\n",
    "- The model R-squared value is still low. More features will be added to this model to see if this makes it perform better.\n",
    "- Both the square footage of interior housing living space for the nearest 15 neighbors and square footage of house are significantly affect the property value."
   ]
  },
  {
   "cell_type": "markdown",
   "metadata": {},
   "source": [
    "## Adding other features to the model "
   ]
  },
  {
   "cell_type": "markdown",
   "metadata": {},
   "source": [
    "The next version of this model drops the grade and adds all the other features to further evaluate its perfomance."
   ]
  },
  {
   "cell_type": "code",
   "execution_count": 45,
   "metadata": {},
   "outputs": [
    {
     "name": "stdout",
     "output_type": "stream",
     "text": [
      "                            OLS Regression Results                            \n",
      "==============================================================================\n",
      "Dep. Variable:               price_lg   R-squared:                       0.821\n",
      "Model:                            OLS   Adj. R-squared:                  0.821\n",
      "Method:                 Least Squares   F-statistic:                     3951.\n",
      "Date:                Thu, 03 Jun 2021   Prob (F-statistic):               0.00\n",
      "Time:                        07:58:51   Log-Likelihood:                 1770.6\n",
      "No. Observations:               21596   AIC:                            -3489.\n",
      "Df Residuals:                   21570   BIC:                            -3282.\n",
      "Df Model:                          25                                         \n",
      "Covariance Type:            nonrobust                                         \n",
      "==========================================================================================\n",
      "                             coef    std err          t      P>|t|      [0.025      0.975]\n",
      "------------------------------------------------------------------------------------------\n",
      "const                     -2.4933      0.133    -18.809      0.000      -2.753      -2.233\n",
      "bathrooms_lg               0.0140      0.006      2.151      0.032       0.001       0.027\n",
      "sqftlot_lg                -0.0136      0.002     -5.825      0.000      -0.018      -0.009\n",
      "sqft15_lg                  0.0672      0.008      8.719      0.000       0.052       0.082\n",
      "sqftabv_lg                 0.2584      0.014     18.543      0.000       0.231       0.286\n",
      "sqftlv_lg                  0.3606      0.015     23.914      0.000       0.331       0.390\n",
      "P_zip_bdrm             -2.833e-08   4.35e-09     -6.516      0.000   -3.68e-08   -1.98e-08\n",
      "P_zip_bdrm_lg              0.8099      0.010     83.739      0.000       0.791       0.829\n",
      "waterfront_1.0             0.3936      0.023     17.407      0.000       0.349       0.438\n",
      "Age_recent                -0.0750      0.007    -10.147      0.000      -0.090      -0.061\n",
      "Age_vintage               -0.0508      0.007     -7.052      0.000      -0.065      -0.037\n",
      "view_1.0                   0.1511      0.013     12.066      0.000       0.127       0.176\n",
      "view_2.0                   0.1707      0.008     22.601      0.000       0.156       0.185\n",
      "view_3.0                   0.2630      0.010     25.608      0.000       0.243       0.283\n",
      "view_4.0                   0.4227      0.016     27.077      0.000       0.392       0.453\n",
      "renovated_within_15yrs     0.1313      0.015      8.775      0.000       0.102       0.161\n",
      "renovated_within_5yrs      0.1483      0.018      8.078      0.000       0.112       0.184\n",
      "basement_1                 0.0869      0.006     13.967      0.000       0.075       0.099\n",
      "bedrooms_2                -0.5903      0.017    -33.882      0.000      -0.624      -0.556\n",
      "bedrooms_3                -0.9881      0.018    -55.087      0.000      -1.023      -0.953\n",
      "bedrooms_4                -1.2135      0.019    -64.786      0.000      -1.250      -1.177\n",
      "bedrooms_5                -1.3926      0.020    -70.818      0.000      -1.431      -1.354\n",
      "bedrooms_6                -1.5487      0.023    -67.871      0.000      -1.593      -1.504\n",
      "season_Spring              0.0489      0.005      9.606      0.000       0.039       0.059\n",
      "season_Summer              0.0054      0.005      1.167      0.243      -0.004       0.014\n",
      "season_Winter              0.0207      0.005      4.213      0.000       0.011       0.030\n",
      "==============================================================================\n",
      "Omnibus:                      565.883   Durbin-Watson:                   1.996\n",
      "Prob(Omnibus):                  0.000   Jarque-Bera (JB):             1392.401\n",
      "Skew:                           0.037   Prob(JB):                    4.41e-303\n",
      "Kurtosis:                       4.242   Cond. No.                     1.87e+08\n",
      "==============================================================================\n",
      "\n",
      "Notes:\n",
      "[1] Standard Errors assume that the covariance matrix of the errors is correctly specified.\n",
      "[2] The condition number is large, 1.87e+08. This might indicate that there are\n",
      "strong multicollinearity or other numerical problems.\n"
     ]
    }
   ],
   "source": [
    "cat1 = ['waterfront', 'Age', 'view', 'renovated', 'basement', 'bedrooms', 'season']\n",
    "catkc2 = kc[cat1].astype('category')\n",
    "dummies = pd.get_dummies(catkc2, prefix=cat1, drop_first=True)\n",
    "kc_p1 = kc1.drop(cat1, axis=1)\n",
    "kc_p1 = pd.concat([kc_p1, dummies], axis=1)\n",
    "X_2 = kc_p1.iloc[:, 6:].drop(['price_lg'], axis=1)\n",
    "\n",
    "#--------------------------Bar Plots--------------------------------------#\n",
    "#set subplot data\n",
    "predictors_int = sm.add_constant(X_2)\n",
    "model_2 = sm.OLS(y, predictors_int).fit()\n",
    "print(model_2.summary())"
   ]
  },
  {
   "cell_type": "markdown",
   "metadata": {},
   "source": [
    "## Statistical Analysis of the model with all the other features"
   ]
  },
  {
   "cell_type": "markdown",
   "metadata": {},
   "source": [
    "This version of the model with all the other features made the following indications:\n",
    "- The model R squared value is still low indicating that there could be other factors that would accurately explain it's predicted sales price. \n",
    "    -The relationship between the number of bedrooms and houses located in zipcodes with the same average sales prices will be introduced to the next version of this model to further evaluate its perfoamnce.\n",
    "- Season when the property transctions occur, do not seem to significtantly affect the property value. The feature will further be evaluated as well.\n",
    "- The number of bathrooms does not show significancy to the property value. The relationship between the number of bathrooms in relation to the number of bedrooms will further be evaluated and added to the model.\n"
   ]
  },
  {
   "cell_type": "markdown",
   "metadata": {},
   "source": [
    "## Relationship between the number of bedrooms and property location"
   ]
  },
  {
   "cell_type": "code",
   "execution_count": 41,
   "metadata": {},
   "outputs": [
    {
     "data": {
      "image/png": "[encoded data removed]",
      "text/plain": [
       "<Figure size 432x288 with 1 Axes>"
      ]
     },
     "metadata": {
      "needs_background": "light"
     },
     "output_type": "display_data"
    }
   ],
   "source": [
    "kc1['P_zip_bdrm'] = kc['bedrooms']*kc['price_zipcode']\n",
    "plt.hist(kc1['P_zip_bdrm'], bins=10)\n",
    "plt.show()"
   ]
  },
  {
   "cell_type": "markdown",
   "metadata": {},
   "source": [
    "### Normalizing Dsitribution"
   ]
  },
  {
   "cell_type": "code",
   "execution_count": 42,
   "metadata": {},
   "outputs": [
    {
     "data": {
      "image/png": "[encoded data removed]",
      "text/plain": [
       "<Figure size 432x288 with 1 Axes>"
      ]
     },
     "metadata": {
      "needs_background": "light"
     },
     "output_type": "display_data"
    }
   ],
   "source": [
    "kc1['P_zip_bdrm_lg'] =np.log(kc1['P_zip_bdrm'])\n",
    "plt.hist(kc1['P_zip_bdrm_lg'], bins=10)\n",
    "plt.show()"
   ]
  },
  {
   "cell_type": "markdown",
   "metadata": {},
   "source": [
    "## Introduction of the relationship between bedrooms in different zipcodes with the same mean sales price"
   ]
  },
  {
   "cell_type": "code",
   "execution_count": 46,
   "metadata": {},
   "outputs": [
    {
     "name": "stdout",
     "output_type": "stream",
     "text": [
      "                            OLS Regression Results                            \n",
      "==============================================================================\n",
      "Dep. Variable:               price_lg   R-squared:                       0.820\n",
      "Model:                            OLS   Adj. R-squared:                  0.820\n",
      "Method:                 Least Squares   F-statistic:                     4106.\n",
      "Date:                Thu, 03 Jun 2021   Prob (F-statistic):               0.00\n",
      "Time:                        07:59:00   Log-Likelihood:                 1749.4\n",
      "No. Observations:               21596   AIC:                            -3449.\n",
      "Df Residuals:                   21571   BIC:                            -3249.\n",
      "Df Model:                          24                                         \n",
      "Covariance Type:            nonrobust                                         \n",
      "==========================================================================================\n",
      "                             coef    std err          t      P>|t|      [0.025      0.975]\n",
      "------------------------------------------------------------------------------------------\n",
      "const                     -1.7446      0.066    -26.360      0.000      -1.874      -1.615\n",
      "bathrooms_lg               0.0144      0.006      2.224      0.026       0.002       0.027\n",
      "sqftlot_lg                -0.0147      0.002     -6.276      0.000      -0.019      -0.010\n",
      "sqft15_lg                  0.0664      0.008      8.602      0.000       0.051       0.081\n",
      "sqftabv_lg                 0.2555      0.014     18.329      0.000       0.228       0.283\n",
      "sqftlv_lg                  0.3624      0.015     24.014      0.000       0.333       0.392\n",
      "P_zip_bdrm_lg              0.7531      0.004    178.359      0.000       0.745       0.761\n",
      "waterfront_1.0             0.3935      0.023     17.386      0.000       0.349       0.438\n",
      "Age_recent                -0.0744      0.007    -10.049      0.000      -0.089      -0.060\n",
      "Age_vintage               -0.0520      0.007     -7.213      0.000      -0.066      -0.038\n",
      "view_1.0                   0.1490      0.013     11.889      0.000       0.124       0.174\n",
      "view_2.0                   0.1709      0.008     22.602      0.000       0.156       0.186\n",
      "view_3.0                   0.2626      0.010     25.546      0.000       0.242       0.283\n",
      "view_4.0                   0.4233      0.016     27.091      0.000       0.393       0.454\n",
      "renovated_within_15yrs     0.1264      0.015      8.451      0.000       0.097       0.156\n",
      "renovated_within_5yrs      0.1484      0.018      8.071      0.000       0.112       0.184\n",
      "basement_1                 0.0866      0.006     13.913      0.000       0.074       0.099\n",
      "bedrooms_2                -0.5627      0.017    -33.265      0.000      -0.596      -0.530\n",
      "bedrooms_3                -0.9527      0.017    -55.680      0.000      -0.986      -0.919\n",
      "bedrooms_4                -1.1770      0.018    -65.783      0.000      -1.212      -1.142\n",
      "bedrooms_5                -1.3629      0.019    -71.182      0.000      -1.400      -1.325\n",
      "bedrooms_6                -1.5255      0.023    -67.619      0.000      -1.570      -1.481\n",
      "season_Spring              0.0489      0.005      9.602      0.000       0.039       0.059\n",
      "season_Summer              0.0056      0.005      1.206      0.228      -0.003       0.015\n",
      "season_Winter              0.0206      0.005      4.182      0.000       0.011       0.030\n",
      "==============================================================================\n",
      "Omnibus:                      561.514   Durbin-Watson:                   1.998\n",
      "Prob(Omnibus):                  0.000   Jarque-Bera (JB):             1378.508\n",
      "Skew:                           0.034   Prob(JB):                    4.58e-300\n",
      "Kurtosis:                       4.236   Cond. No.                         936.\n",
      "==============================================================================\n",
      "\n",
      "Notes:\n",
      "[1] Standard Errors assume that the covariance matrix of the errors is correctly specified.\n"
     ]
    }
   ],
   "source": [
    "cat1 = ['waterfront', 'Age', 'view', 'renovated', 'basement', 'bedrooms', 'season']\n",
    "catkc2 = kc[cat1].astype('category')\n",
    "dummies = pd.get_dummies(catkc2, prefix=cat1, drop_first=True)\n",
    "kc_p1 = kc1.drop(cat1, axis=1)\n",
    "kc_p1 = pd.concat([kc_p1, dummies], axis=1)\n",
    "X_3 = kc_p1.iloc[:, 6:].drop(['price_lg','P_zip_bdrm'], axis=1)\n",
    "\n",
    "#--------------------------Bar Plots--------------------------------------#\n",
    "#set subplot data\n",
    "predictors_int = sm.add_constant(X_3)\n",
    "model_3 = sm.OLS(y, predictors_int).fit()\n",
    "print(model_3.summary())"
   ]
  },
  {
   "cell_type": "code",
   "execution_count": 48,
   "metadata": {},
   "outputs": [
    {
     "name": "stderr",
     "output_type": "stream",
     "text": [
      "/Users/brianm/opt/anaconda3/envs/learn-env/lib/python3.8/site-packages/seaborn/distributions.py:2551: FutureWarning: `distplot` is a deprecated function and will be removed in a future version. Please adapt your code to use either `displot` (a figure-level function with similar flexibility) or `histplot` (an axes-level function for histograms).\n",
      "  warnings.warn(msg, FutureWarning)\n"
     ]
    },
    {
     "data": {
      "text/plain": [
       "Text(0.5, 1.0, 'Residuals Distribution Plot')"
      ]
     },
     "execution_count": 48,
     "metadata": {},
     "output_type": "execute_result"
    },
    {
     "data": {
      "image/png": "[encoded data removed]",
      "text/plain": [
       "<Figure size 1296x432 with 2 Axes>"
      ]
     },
     "metadata": {
      "needs_background": "light"
     },
     "output_type": "display_data"
    }
   ],
   "source": [
    "fig, axs = plt.subplots(ncols=2, figsize = (18,6))\n",
    "\n",
    "residuals = model_3.resid\n",
    "sm.graphics.qqplot(residuals, dist = stats.norm, line='45', fit=True, ax=axs[0])\n",
    "axs[0].set_title('Residuals Q-Q Plot')\n",
    "sns.distplot(residuals, ax=axs[1])\n",
    "axs[1].set_title('Residuals Distribution Plot')"
   ]
  },
  {
   "cell_type": "code",
   "execution_count": 57,
   "metadata": {},
   "outputs": [
    {
     "data": {
      "text/plain": [
       "Text(0.5, 1.0, 'Residuals Scatterplot')"
      ]
     },
     "execution_count": 57,
     "metadata": {},
     "output_type": "execute_result"
    },
    {
     "data": {
      "image/png": "[encoded data removed]",
      "text/plain": [
       "<Figure size 648x432 with 1 Axes>"
      ]
     },
     "metadata": {},
     "output_type": "display_data"
    }
   ],
   "source": [
    "plt.figure(figsize=(9,6))\n",
    "sns.regplot(x=model_3.predict(), y=model_3.resid, lowess=True, line_kws={'color': 'red'})\n",
    "plt.title('Residuals Scatterplot')"
   ]
  },
  {
   "cell_type": "code",
   "execution_count": null,
   "metadata": {},
   "outputs": [],
   "source": []
  },
  {
   "cell_type": "code",
   "execution_count": null,
   "metadata": {},
   "outputs": [],
   "source": []
  },
  {
   "cell_type": "code",
   "execution_count": null,
   "metadata": {},
   "outputs": [],
   "source": []
  },
  {
   "cell_type": "code",
   "execution_count": null,
   "metadata": {},
   "outputs": [],
   "source": []
  },
  {
   "cell_type": "code",
   "execution_count": null,
   "metadata": {},
   "outputs": [],
   "source": []
  },
  {
   "cell_type": "markdown",
   "metadata": {},
   "source": [
    "## Statistical Analysis of the model with the number of bedrooms in property located within zipcodes that have almost the same mean sales prices"
   ]
  },
  {
   "cell_type": "markdown",
   "metadata": {},
   "source": [
    "The introduction of the interaction between the property number of bedrooms and the zipcodes with almost similar property mean sales prices gives the model an r squared value of 0.82 meaning that the model has a significant potion of features to be used for sales price predictions."
   ]
  },
  {
   "cell_type": "markdown",
   "metadata": {},
   "source": [
    "The following features' impact to the property values stand as per this model:\n",
    "- Properties located in zipcodes where the mean sales price are higher within Kings County are more likely to have significnatly higher propery values as their number of bedrooms increase. \n",
    "- Properties with waterfronts are more likely to have higher value than those without.\n",
    "- The size of both square footage of interior housing living space for the nearest 15 neighbors and square footage of property positively affect the property value. \n",
    "- The number of times house has been viewed posivitely increases it's property value.\n",
    "- Revonating properties every 5 years or 15 years almost affects the property value in the same way."
   ]
  },
  {
   "cell_type": "code",
   "execution_count": null,
   "metadata": {},
   "outputs": [],
   "source": []
  },
  {
   "cell_type": "code",
   "execution_count": 50,
   "metadata": {},
   "outputs": [
    {
     "data": {
      "text/html": [
       "<div>\n",
       "<style scoped>\n",
       "    .dataframe tbody tr th:only-of-type {\n",
       "        vertical-align: middle;\n",
       "    }\n",
       "\n",
       "    .dataframe tbody tr th {\n",
       "        vertical-align: top;\n",
       "    }\n",
       "\n",
       "    .dataframe thead th {\n",
       "        text-align: right;\n",
       "    }\n",
       "</style>\n",
       "<table border=\"1\" class=\"dataframe\">\n",
       "  <thead>\n",
       "    <tr style=\"text-align: right;\">\n",
       "      <th></th>\n",
       "      <th>sqft_living</th>\n",
       "      <th>floors</th>\n",
       "      <th>condition</th>\n",
       "      <th>grade</th>\n",
       "      <th>sqft_living15</th>\n",
       "      <th>p_zipcode_Q</th>\n",
       "      <th>bathrooms_lg</th>\n",
       "      <th>sqftlot_lg</th>\n",
       "      <th>sqft15_lg</th>\n",
       "      <th>sqftabv_lg</th>\n",
       "      <th>sqftlv_lg</th>\n",
       "      <th>price_lg</th>\n",
       "      <th>P_zip_bdrm</th>\n",
       "      <th>P_zip_bdrm_lg</th>\n",
       "      <th>waterfront_1.0</th>\n",
       "      <th>Age_recent</th>\n",
       "      <th>Age_vintage</th>\n",
       "      <th>view_1.0</th>\n",
       "      <th>view_2.0</th>\n",
       "      <th>view_3.0</th>\n",
       "      <th>view_4.0</th>\n",
       "      <th>renovated_within_15yrs</th>\n",
       "      <th>renovated_within_5yrs</th>\n",
       "      <th>basement_1</th>\n",
       "      <th>bedrooms_2</th>\n",
       "      <th>bedrooms_3</th>\n",
       "      <th>bedrooms_4</th>\n",
       "      <th>bedrooms_5</th>\n",
       "      <th>bedrooms_6</th>\n",
       "      <th>season_Spring</th>\n",
       "      <th>season_Summer</th>\n",
       "      <th>season_Winter</th>\n",
       "    </tr>\n",
       "  </thead>\n",
       "  <tbody>\n",
       "    <tr>\n",
       "      <th>0</th>\n",
       "      <td>1180</td>\n",
       "      <td>1.0</td>\n",
       "      <td>3</td>\n",
       "      <td>7</td>\n",
       "      <td>1340</td>\n",
       "      <td>1</td>\n",
       "      <td>0.000000</td>\n",
       "      <td>8.639411</td>\n",
       "      <td>7.200425</td>\n",
       "      <td>7.073270</td>\n",
       "      <td>7.073270</td>\n",
       "      <td>12.309982</td>\n",
       "      <td>9.318383e+05</td>\n",
       "      <td>13.744915</td>\n",
       "      <td>0</td>\n",
       "      <td>0</td>\n",
       "      <td>1</td>\n",
       "      <td>0</td>\n",
       "      <td>0</td>\n",
       "      <td>0</td>\n",
       "      <td>0</td>\n",
       "      <td>0</td>\n",
       "      <td>0</td>\n",
       "      <td>0</td>\n",
       "      <td>0</td>\n",
       "      <td>1</td>\n",
       "      <td>0</td>\n",
       "      <td>0</td>\n",
       "      <td>0</td>\n",
       "      <td>0</td>\n",
       "      <td>0</td>\n",
       "      <td>0</td>\n",
       "    </tr>\n",
       "    <tr>\n",
       "      <th>1</th>\n",
       "      <td>2570</td>\n",
       "      <td>2.0</td>\n",
       "      <td>3</td>\n",
       "      <td>7</td>\n",
       "      <td>1690</td>\n",
       "      <td>3</td>\n",
       "      <td>0.810930</td>\n",
       "      <td>8.941022</td>\n",
       "      <td>7.432484</td>\n",
       "      <td>7.682482</td>\n",
       "      <td>7.851661</td>\n",
       "      <td>13.195614</td>\n",
       "      <td>1.409786e+06</td>\n",
       "      <td>14.158949</td>\n",
       "      <td>0</td>\n",
       "      <td>0</td>\n",
       "      <td>1</td>\n",
       "      <td>0</td>\n",
       "      <td>0</td>\n",
       "      <td>0</td>\n",
       "      <td>0</td>\n",
       "      <td>0</td>\n",
       "      <td>0</td>\n",
       "      <td>1</td>\n",
       "      <td>0</td>\n",
       "      <td>1</td>\n",
       "      <td>0</td>\n",
       "      <td>0</td>\n",
       "      <td>0</td>\n",
       "      <td>0</td>\n",
       "      <td>0</td>\n",
       "      <td>1</td>\n",
       "    </tr>\n",
       "    <tr>\n",
       "      <th>2</th>\n",
       "      <td>770</td>\n",
       "      <td>1.0</td>\n",
       "      <td>3</td>\n",
       "      <td>6</td>\n",
       "      <td>2720</td>\n",
       "      <td>3</td>\n",
       "      <td>0.000000</td>\n",
       "      <td>8.994917</td>\n",
       "      <td>7.908387</td>\n",
       "      <td>6.646391</td>\n",
       "      <td>6.646391</td>\n",
       "      <td>12.100712</td>\n",
       "      <td>9.249777e+05</td>\n",
       "      <td>13.737525</td>\n",
       "      <td>0</td>\n",
       "      <td>0</td>\n",
       "      <td>1</td>\n",
       "      <td>0</td>\n",
       "      <td>0</td>\n",
       "      <td>0</td>\n",
       "      <td>0</td>\n",
       "      <td>0</td>\n",
       "      <td>0</td>\n",
       "      <td>0</td>\n",
       "      <td>1</td>\n",
       "      <td>0</td>\n",
       "      <td>0</td>\n",
       "      <td>0</td>\n",
       "      <td>0</td>\n",
       "      <td>0</td>\n",
       "      <td>0</td>\n",
       "      <td>1</td>\n",
       "    </tr>\n",
       "    <tr>\n",
       "      <th>3</th>\n",
       "      <td>1960</td>\n",
       "      <td>1.0</td>\n",
       "      <td>5</td>\n",
       "      <td>7</td>\n",
       "      <td>1360</td>\n",
       "      <td>3</td>\n",
       "      <td>1.098612</td>\n",
       "      <td>8.517193</td>\n",
       "      <td>7.215240</td>\n",
       "      <td>6.956545</td>\n",
       "      <td>7.580700</td>\n",
       "      <td>13.311329</td>\n",
       "      <td>2.207074e+06</td>\n",
       "      <td>14.607178</td>\n",
       "      <td>0</td>\n",
       "      <td>0</td>\n",
       "      <td>1</td>\n",
       "      <td>0</td>\n",
       "      <td>0</td>\n",
       "      <td>0</td>\n",
       "      <td>0</td>\n",
       "      <td>0</td>\n",
       "      <td>0</td>\n",
       "      <td>1</td>\n",
       "      <td>0</td>\n",
       "      <td>0</td>\n",
       "      <td>1</td>\n",
       "      <td>0</td>\n",
       "      <td>0</td>\n",
       "      <td>0</td>\n",
       "      <td>0</td>\n",
       "      <td>1</td>\n",
       "    </tr>\n",
       "    <tr>\n",
       "      <th>4</th>\n",
       "      <td>1680</td>\n",
       "      <td>1.0</td>\n",
       "      <td>3</td>\n",
       "      <td>8</td>\n",
       "      <td>1800</td>\n",
       "      <td>5</td>\n",
       "      <td>0.693147</td>\n",
       "      <td>8.923058</td>\n",
       "      <td>7.495542</td>\n",
       "      <td>7.426549</td>\n",
       "      <td>7.426549</td>\n",
       "      <td>13.142166</td>\n",
       "      <td>2.057028e+06</td>\n",
       "      <td>14.536773</td>\n",
       "      <td>0</td>\n",
       "      <td>0</td>\n",
       "      <td>1</td>\n",
       "      <td>0</td>\n",
       "      <td>0</td>\n",
       "      <td>0</td>\n",
       "      <td>0</td>\n",
       "      <td>0</td>\n",
       "      <td>0</td>\n",
       "      <td>0</td>\n",
       "      <td>0</td>\n",
       "      <td>1</td>\n",
       "      <td>0</td>\n",
       "      <td>0</td>\n",
       "      <td>0</td>\n",
       "      <td>0</td>\n",
       "      <td>0</td>\n",
       "      <td>1</td>\n",
       "    </tr>\n",
       "    <tr>\n",
       "      <th>...</th>\n",
       "      <td>...</td>\n",
       "      <td>...</td>\n",
       "      <td>...</td>\n",
       "      <td>...</td>\n",
       "      <td>...</td>\n",
       "      <td>...</td>\n",
       "      <td>...</td>\n",
       "      <td>...</td>\n",
       "      <td>...</td>\n",
       "      <td>...</td>\n",
       "      <td>...</td>\n",
       "      <td>...</td>\n",
       "      <td>...</td>\n",
       "      <td>...</td>\n",
       "      <td>...</td>\n",
       "      <td>...</td>\n",
       "      <td>...</td>\n",
       "      <td>...</td>\n",
       "      <td>...</td>\n",
       "      <td>...</td>\n",
       "      <td>...</td>\n",
       "      <td>...</td>\n",
       "      <td>...</td>\n",
       "      <td>...</td>\n",
       "      <td>...</td>\n",
       "      <td>...</td>\n",
       "      <td>...</td>\n",
       "      <td>...</td>\n",
       "      <td>...</td>\n",
       "      <td>...</td>\n",
       "      <td>...</td>\n",
       "      <td>...</td>\n",
       "    </tr>\n",
       "    <tr>\n",
       "      <th>21592</th>\n",
       "      <td>1530</td>\n",
       "      <td>3.0</td>\n",
       "      <td>3</td>\n",
       "      <td>8</td>\n",
       "      <td>1530</td>\n",
       "      <td>4</td>\n",
       "      <td>0.916291</td>\n",
       "      <td>7.319202</td>\n",
       "      <td>7.333023</td>\n",
       "      <td>7.333023</td>\n",
       "      <td>7.333023</td>\n",
       "      <td>12.793859</td>\n",
       "      <td>1.754872e+06</td>\n",
       "      <td>14.377906</td>\n",
       "      <td>0</td>\n",
       "      <td>1</td>\n",
       "      <td>0</td>\n",
       "      <td>0</td>\n",
       "      <td>0</td>\n",
       "      <td>0</td>\n",
       "      <td>0</td>\n",
       "      <td>0</td>\n",
       "      <td>0</td>\n",
       "      <td>0</td>\n",
       "      <td>0</td>\n",
       "      <td>1</td>\n",
       "      <td>0</td>\n",
       "      <td>0</td>\n",
       "      <td>0</td>\n",
       "      <td>1</td>\n",
       "      <td>0</td>\n",
       "      <td>0</td>\n",
       "    </tr>\n",
       "    <tr>\n",
       "      <th>21593</th>\n",
       "      <td>2310</td>\n",
       "      <td>2.0</td>\n",
       "      <td>3</td>\n",
       "      <td>8</td>\n",
       "      <td>1830</td>\n",
       "      <td>2</td>\n",
       "      <td>0.916291</td>\n",
       "      <td>8.881836</td>\n",
       "      <td>7.512071</td>\n",
       "      <td>7.745003</td>\n",
       "      <td>7.745003</td>\n",
       "      <td>12.899220</td>\n",
       "      <td>1.437985e+06</td>\n",
       "      <td>14.178753</td>\n",
       "      <td>0</td>\n",
       "      <td>0</td>\n",
       "      <td>0</td>\n",
       "      <td>0</td>\n",
       "      <td>0</td>\n",
       "      <td>0</td>\n",
       "      <td>0</td>\n",
       "      <td>0</td>\n",
       "      <td>0</td>\n",
       "      <td>0</td>\n",
       "      <td>0</td>\n",
       "      <td>0</td>\n",
       "      <td>1</td>\n",
       "      <td>0</td>\n",
       "      <td>0</td>\n",
       "      <td>0</td>\n",
       "      <td>0</td>\n",
       "      <td>1</td>\n",
       "    </tr>\n",
       "    <tr>\n",
       "      <th>21594</th>\n",
       "      <td>1020</td>\n",
       "      <td>2.0</td>\n",
       "      <td>3</td>\n",
       "      <td>7</td>\n",
       "      <td>1020</td>\n",
       "      <td>4</td>\n",
       "      <td>-0.287682</td>\n",
       "      <td>7.604396</td>\n",
       "      <td>6.927558</td>\n",
       "      <td>6.927558</td>\n",
       "      <td>6.927558</td>\n",
       "      <td>12.904459</td>\n",
       "      <td>1.189413e+06</td>\n",
       "      <td>13.988971</td>\n",
       "      <td>0</td>\n",
       "      <td>1</td>\n",
       "      <td>0</td>\n",
       "      <td>0</td>\n",
       "      <td>0</td>\n",
       "      <td>0</td>\n",
       "      <td>0</td>\n",
       "      <td>0</td>\n",
       "      <td>0</td>\n",
       "      <td>0</td>\n",
       "      <td>1</td>\n",
       "      <td>0</td>\n",
       "      <td>0</td>\n",
       "      <td>0</td>\n",
       "      <td>0</td>\n",
       "      <td>0</td>\n",
       "      <td>1</td>\n",
       "      <td>0</td>\n",
       "    </tr>\n",
       "    <tr>\n",
       "      <th>21595</th>\n",
       "      <td>1600</td>\n",
       "      <td>2.0</td>\n",
       "      <td>3</td>\n",
       "      <td>8</td>\n",
       "      <td>1410</td>\n",
       "      <td>4</td>\n",
       "      <td>0.916291</td>\n",
       "      <td>7.160069</td>\n",
       "      <td>7.251345</td>\n",
       "      <td>7.377759</td>\n",
       "      <td>7.377759</td>\n",
       "      <td>12.899220</td>\n",
       "      <td>1.851162e+06</td>\n",
       "      <td>14.431324</td>\n",
       "      <td>0</td>\n",
       "      <td>1</td>\n",
       "      <td>0</td>\n",
       "      <td>0</td>\n",
       "      <td>0</td>\n",
       "      <td>0</td>\n",
       "      <td>0</td>\n",
       "      <td>0</td>\n",
       "      <td>0</td>\n",
       "      <td>0</td>\n",
       "      <td>0</td>\n",
       "      <td>1</td>\n",
       "      <td>0</td>\n",
       "      <td>0</td>\n",
       "      <td>0</td>\n",
       "      <td>0</td>\n",
       "      <td>0</td>\n",
       "      <td>1</td>\n",
       "    </tr>\n",
       "    <tr>\n",
       "      <th>21596</th>\n",
       "      <td>1020</td>\n",
       "      <td>2.0</td>\n",
       "      <td>3</td>\n",
       "      <td>7</td>\n",
       "      <td>1020</td>\n",
       "      <td>4</td>\n",
       "      <td>-0.287682</td>\n",
       "      <td>7.213032</td>\n",
       "      <td>6.927558</td>\n",
       "      <td>6.927558</td>\n",
       "      <td>6.927558</td>\n",
       "      <td>12.691580</td>\n",
       "      <td>1.189413e+06</td>\n",
       "      <td>13.988971</td>\n",
       "      <td>0</td>\n",
       "      <td>1</td>\n",
       "      <td>0</td>\n",
       "      <td>0</td>\n",
       "      <td>0</td>\n",
       "      <td>0</td>\n",
       "      <td>0</td>\n",
       "      <td>0</td>\n",
       "      <td>0</td>\n",
       "      <td>0</td>\n",
       "      <td>1</td>\n",
       "      <td>0</td>\n",
       "      <td>0</td>\n",
       "      <td>0</td>\n",
       "      <td>0</td>\n",
       "      <td>0</td>\n",
       "      <td>0</td>\n",
       "      <td>0</td>\n",
       "    </tr>\n",
       "  </tbody>\n",
       "</table>\n",
       "<p>21596 rows × 32 columns</p>\n",
       "</div>"
      ],
      "text/plain": [
       "       sqft_living  floors  condition  grade  sqft_living15 p_zipcode_Q  \\\n",
       "0             1180     1.0          3      7           1340           1   \n",
       "1             2570     2.0          3      7           1690           3   \n",
       "2              770     1.0          3      6           2720           3   \n",
       "3             1960     1.0          5      7           1360           3   \n",
       "4             1680     1.0          3      8           1800           5   \n",
       "...            ...     ...        ...    ...            ...         ...   \n",
       "21592         1530     3.0          3      8           1530           4   \n",
       "21593         2310     2.0          3      8           1830           2   \n",
       "21594         1020     2.0          3      7           1020           4   \n",
       "21595         1600     2.0          3      8           1410           4   \n",
       "21596         1020     2.0          3      7           1020           4   \n",
       "\n",
       "       bathrooms_lg  sqftlot_lg  sqft15_lg  sqftabv_lg  sqftlv_lg   price_lg  \\\n",
       "0          0.000000    8.639411   7.200425    7.073270   7.073270  12.309982   \n",
       "1          0.810930    8.941022   7.432484    7.682482   7.851661  13.195614   \n",
       "2          0.000000    8.994917   7.908387    6.646391   6.646391  12.100712   \n",
       "3          1.098612    8.517193   7.215240    6.956545   7.580700  13.311329   \n",
       "4          0.693147    8.923058   7.495542    7.426549   7.426549  13.142166   \n",
       "...             ...         ...        ...         ...        ...        ...   \n",
       "21592      0.916291    7.319202   7.333023    7.333023   7.333023  12.793859   \n",
       "21593      0.916291    8.881836   7.512071    7.745003   7.745003  12.899220   \n",
       "21594     -0.287682    7.604396   6.927558    6.927558   6.927558  12.904459   \n",
       "21595      0.916291    7.160069   7.251345    7.377759   7.377759  12.899220   \n",
       "21596     -0.287682    7.213032   6.927558    6.927558   6.927558  12.691580   \n",
       "\n",
       "         P_zip_bdrm  P_zip_bdrm_lg  waterfront_1.0  Age_recent  Age_vintage  \\\n",
       "0      9.318383e+05      13.744915               0           0            1   \n",
       "1      1.409786e+06      14.158949               0           0            1   \n",
       "2      9.249777e+05      13.737525               0           0            1   \n",
       "3      2.207074e+06      14.607178               0           0            1   \n",
       "4      2.057028e+06      14.536773               0           0            1   \n",
       "...             ...            ...             ...         ...          ...   \n",
       "21592  1.754872e+06      14.377906               0           1            0   \n",
       "21593  1.437985e+06      14.178753               0           0            0   \n",
       "21594  1.189413e+06      13.988971               0           1            0   \n",
       "21595  1.851162e+06      14.431324               0           1            0   \n",
       "21596  1.189413e+06      13.988971               0           1            0   \n",
       "\n",
       "       view_1.0  view_2.0  view_3.0  view_4.0  renovated_within_15yrs  \\\n",
       "0             0         0         0         0                       0   \n",
       "1             0         0         0         0                       0   \n",
       "2             0         0         0         0                       0   \n",
       "3             0         0         0         0                       0   \n",
       "4             0         0         0         0                       0   \n",
       "...         ...       ...       ...       ...                     ...   \n",
       "21592         0         0         0         0                       0   \n",
       "21593         0         0         0         0                       0   \n",
       "21594         0         0         0         0                       0   \n",
       "21595         0         0         0         0                       0   \n",
       "21596         0         0         0         0                       0   \n",
       "\n",
       "       renovated_within_5yrs  basement_1  bedrooms_2  bedrooms_3  bedrooms_4  \\\n",
       "0                          0           0           0           1           0   \n",
       "1                          0           1           0           1           0   \n",
       "2                          0           0           1           0           0   \n",
       "3                          0           1           0           0           1   \n",
       "4                          0           0           0           1           0   \n",
       "...                      ...         ...         ...         ...         ...   \n",
       "21592                      0           0           0           1           0   \n",
       "21593                      0           0           0           0           1   \n",
       "21594                      0           0           1           0           0   \n",
       "21595                      0           0           0           1           0   \n",
       "21596                      0           0           1           0           0   \n",
       "\n",
       "       bedrooms_5  bedrooms_6  season_Spring  season_Summer  season_Winter  \n",
       "0               0           0              0              0              0  \n",
       "1               0           0              0              0              1  \n",
       "2               0           0              0              0              1  \n",
       "3               0           0              0              0              1  \n",
       "4               0           0              0              0              1  \n",
       "...           ...         ...            ...            ...            ...  \n",
       "21592           0           0              1              0              0  \n",
       "21593           0           0              0              0              1  \n",
       "21594           0           0              0              1              0  \n",
       "21595           0           0              0              0              1  \n",
       "21596           0           0              0              0              0  \n",
       "\n",
       "[21596 rows x 32 columns]"
      ]
     },
     "execution_count": 50,
     "metadata": {},
     "output_type": "execute_result"
    }
   ],
   "source": [
    "kc_p1 "
   ]
  },
  {
   "cell_type": "code",
   "execution_count": 56,
   "metadata": {},
   "outputs": [
    {
     "data": {
      "image/png": "[encoded data removed]",
      "text/plain": [
       "<Figure size 360x360 with 1 Axes>"
      ]
     },
     "metadata": {},
     "output_type": "display_data"
    }
   ],
   "source": [
    "# Box plot comparison of house prices with no waterfront view vs house prices with waterfront view.\n",
    "sns.set_style(\"whitegrid\") \n",
    "ax = sns.catplot(x=\"view\", y=\"price\", kind=\"box\", data=kc)\n",
    "plt.title('Number of Views VS Housing Prices')\n",
    "plt.savefig('WaterFrontView.png',dpi=300, bbox_inches = \"tight\")"
   ]
  },
  {
   "cell_type": "code",
   "execution_count": null,
   "metadata": {},
   "outputs": [],
   "source": [
    "kc1['P_zip_bdrm'].sort_values(ascending = False)[:5]"
   ]
  },
  {
   "cell_type": "code",
   "execution_count": null,
   "metadata": {},
   "outputs": [],
   "source": [
    "#property values by zipcode calculation\n",
    "kc_top5_price = kc1['P_zip_bdrm'].sort_values(ascending = False)\n",
    "kc_mean_price = kc.price.mean()\n",
    "#top5 neighborhood label for plot\n",
    "area_labels = [\"First\", \"Second\", \"Third\", \n",
    "               \"Fourth\", \"Fifth\"]\n",
    "\n",
    "#plotting the data\n",
    "plt.subplots(figsize=(8,4))\n",
    "sns.barplot(x=kc_top5_price.index, y=kc_top5_price, order=kc_top5_price.index, palette=\"Blues_d\") #blue for seahawks!\n",
    "plt.xticks(np.arange(5), area_labels, rotation=75, size=8) #relabel x with list above\n",
    "plt.hlines(kc_mean_price, -.5 ,4.5, colors=\"darkgoldenrod\", label=\"Average Price\") #plot average price horizontal line\n",
    "\n",
    "#prettify graph\n",
    "plt.xlabel(\"Neighborhoods\", size=14)\n",
    "plt.ylabel(\"Prices ($1mil)\", size=14)\n",
    "plt.title(\"Neighborhoods with Highest Property Price\", size=16, y=1.08)\n",
    "plt.legend() #show legend\n",
    "\n",
    "#uncomment line below to export image\n",
    "# plt.savefig(\"images/high_price_neighborhood.png\",bbox_inches = \"tight\")\n",
    "plt.show();"
   ]
  },
  {
   "cell_type": "code",
   "execution_count": null,
   "metadata": {},
   "outputs": [],
   "source": [
    "import geopandas"
   ]
  },
  {
   "cell_type": "code",
   "execution_count": null,
   "metadata": {},
   "outputs": [],
   "source": [
    "#shapefile data setup\n",
    "king_county = gpd.read_file(\"data/zipcode_shape/Zipcodes_for_King_County_and_Surrounding_Area___zipcode_area.shp\")\n",
    "king_county[\"zipcode\"] = king_county[\"ZIP\"] #set up column for merge\n",
    "\n",
    "#kc_df price setup\n",
    "zip_price = kc_df.groupby(\"zipcode\").price.mean()\n",
    "\n",
    "#plotting data setup\n",
    "zip_plot_df = king_county.join(zip_price, on=\"zipcode\", how=\"inner\")"
   ]
  },
  {
   "cell_type": "code",
   "execution_count": null,
   "metadata": {},
   "outputs": [],
   "source": [
    "#plot setup\n",
    "fig, ax = plt.subplots(figsize=(12,6))\n",
    "zip_plot_df.plot(column=\"price\", cmap=\"YlOrRd\", linewidth=.25, edgecolor=\".25\", ax=ax)\n",
    "\n",
    "#set up colorbar\n",
    "color_bar = plt.cm.ScalarMappable(cmap=\"YlOrRd\", norm=plt.Normalize(vmin=zip_price.min(), vmax=zip_price.max()))\n",
    "color_bar._A = []\n",
    "cbar = fig.colorbar(color_bar, fraction=0.03, pad=0.02)\n",
    "\n",
    "#set figure limit to zoom in on select neighborhoods\n",
    "ax.set_ylim(47.45, 47.7)\n",
    "ax.set_xlim(-122.35, -122.15)\n",
    "ax.set_xticks([-122.35, -122.15])\n",
    "ax.set_ylabel(\"Latitude\", size=12)\n",
    "ax.set_xlabel(\"Longitude\", size=12)\n",
    "\n",
    "#labeling few areas\n",
    "ax.text(-122.257, 47.62, 'Medina')\n",
    "ax.text(-122.2, 47.57, 'Bellevue', rotation=-45)\n",
    "ax.text(-122.26, 47.58, 'Mercer Island')\n",
    "\n",
    "plt.title(\"Average Price per Zipcode Heatmap\", size=14)\n",
    "#uncomment below to save image\n",
    "# plt.savefig(\"images/zipcode_price_heatmap.png\",bbox_inches = \"tight\")\n",
    "plt.show();"
   ]
  },
  {
   "cell_type": "raw",
   "metadata": {},
   "source": [
    "#-------------------Conditions Calculation--------------------------------#\n",
    "cat_9 = ['waterfront', 'Age', 'view', 'renovated', 'season', 'basement', 'bedrooms', 'grade', 'condition']\n",
    "cat9_kc1 = kc[cat_8].astype('category')\n",
    "dummies = pd.get_dummies(cat8_kc1, prefix=cat_8, drop_first=True)\n",
    "kc_p8 = kc1.drop(cat_8, axis=1)\n",
    "kc_p8 = pd.concat([kc_p8, dummies], axis=1)\n",
    "X8 = kc_p8.iloc[:, 6:].drop(['price_lg'], axis=1)\n",
    "\n",
    "#--------------------------Bar Plots--------------------------------------#\n",
    "#set subplot data\n",
    "predictors_int = sm.add_constant(X8)\n",
    "model8 = sm.OLS(y, predictors_int).fit()\n",
    "print(model8.summary())"
   ]
  },
  {
   "cell_type": "code",
   "execution_count": null,
   "metadata": {},
   "outputs": [],
   "source": [
    "## Model with addition features"
   ]
  },
  {
   "cell_type": "code",
   "execution_count": null,
   "metadata": {},
   "outputs": [],
   "source": []
  },
  {
   "cell_type": "code",
   "execution_count": null,
   "metadata": {},
   "outputs": [],
   "source": []
  },
  {
   "cell_type": "code",
   "execution_count": null,
   "metadata": {},
   "outputs": [],
   "source": []
  },
  {
   "cell_type": "code",
   "execution_count": null,
   "metadata": {},
   "outputs": [],
   "source": [
    "cat_1 = ['waterfront']"
   ]
  },
  {
   "cell_type": "code",
   "execution_count": null,
   "metadata": {},
   "outputs": [],
   "source": [
    "cat1_kc1 = kc[cat_1].astype('category')"
   ]
  },
  {
   "cell_type": "code",
   "execution_count": null,
   "metadata": {},
   "outputs": [],
   "source": [
    "cat1_kc1 = kc1[cat_1].astype('category')\n",
    "dummies = pd.get_dummies(cat1_kc1, prefix=cat_1, drop_first=True)\n",
    "\n",
    "kc_p1 = kc1.drop(cat_1, axis=1)\n",
    "\n",
    "kc_p1 = pd.concat([kc_p1, dummies], axis=1)"
   ]
  },
  {
   "cell_type": "code",
   "execution_count": null,
   "metadata": {},
   "outputs": [],
   "source": []
  },
  {
   "cell_type": "code",
   "execution_count": null,
   "metadata": {},
   "outputs": [],
   "source": [
    "X1 = kc_p1[['waterfront_1.0','sqftlv15_lg']]\n",
    "y = kc_p1['price_lg']"
   ]
  },
  {
   "cell_type": "code",
   "execution_count": null,
   "metadata": {},
   "outputs": [],
   "source": [
    "predictors_int = sm.add_constant(X1)\n",
    "model1 = sm.OLS(y, predictors_int).fit()\n",
    "print(model1.summary())"
   ]
  },
  {
   "cell_type": "code",
   "execution_count": null,
   "metadata": {},
   "outputs": [],
   "source": []
  },
  {
   "cell_type": "code",
   "execution_count": null,
   "metadata": {},
   "outputs": [],
   "source": []
  },
  {
   "cell_type": "code",
   "execution_count": null,
   "metadata": {},
   "outputs": [],
   "source": [
    "cat_2 = ['waterfront', 'Age']"
   ]
  },
  {
   "cell_type": "code",
   "execution_count": null,
   "metadata": {},
   "outputs": [],
   "source": [
    "cat2_kc1 = kc[cat_2].astype('category')"
   ]
  },
  {
   "cell_type": "code",
   "execution_count": null,
   "metadata": {},
   "outputs": [],
   "source": [
    "cat_2 = ['waterfront', 'Age']\n",
    "cat2_kc1 = kc[cat_2].astype('category')\n",
    "dummies = pd.get_dummies(cat2_kc1, prefix=cat_2, drop_first=True)\n",
    "\n",
    "kc_p2 = kc1.drop(cat_2, axis=1)\n",
    "\n",
    "kc_p2 = pd.concat([kc_p2, dummies], axis=1)"
   ]
  },
  {
   "cell_type": "code",
   "execution_count": null,
   "metadata": {},
   "outputs": [],
   "source": []
  },
  {
   "cell_type": "code",
   "execution_count": null,
   "metadata": {},
   "outputs": [],
   "source": [
    "X2 = kc_p2[['waterfront_1.0','sqftlv15_lg','Age_recent','Age_vintage']]"
   ]
  },
  {
   "cell_type": "code",
   "execution_count": null,
   "metadata": {},
   "outputs": [],
   "source": [
    "predictors_int = sm.add_constant(X2)\n",
    "model2 = sm.OLS(y, predictors_int).fit()\n",
    "print(model2.summary())"
   ]
  },
  {
   "cell_type": "code",
   "execution_count": null,
   "metadata": {},
   "outputs": [],
   "source": []
  },
  {
   "cell_type": "markdown",
   "metadata": {},
   "source": [
    "Age does not seem to be significant to our model at this point though we keep it for now. Vintage seems to have more data points compared to recent and new."
   ]
  },
  {
   "cell_type": "code",
   "execution_count": null,
   "metadata": {},
   "outputs": [],
   "source": []
  },
  {
   "cell_type": "code",
   "execution_count": null,
   "metadata": {},
   "outputs": [],
   "source": [
    "#-------------------Conditions Calculation--------------------------------#\n",
    "cat_3 = ['waterfront', 'Age', 'view']\n",
    "cat3_kc1 = kc[cat_3].astype('category')\n",
    "dummies = pd.get_dummies(cat3_kc1, prefix=cat_3, drop_first=True)\n",
    "kc_p3 = kc1.drop(cat_3, axis=1)\n",
    "kc_p3 = pd.concat([kc_p3, dummies], axis=1)\n",
    "X3 = kc_p3[['waterfront_1.0','sqftlv15_lg','Age_recent','Age_vintage','view_1.0', 'view_2.0','view_3.0', 'view_4.0']]\n",
    "\n",
    "#--------------------------Bar Plots--------------------------------------#\n",
    "#set subplot data\n",
    "predictors_int = sm.add_constant(X3)\n",
    "model3 = sm.OLS(y, predictors_int).fit()\n",
    "print(model3.summary())"
   ]
  },
  {
   "cell_type": "code",
   "execution_count": null,
   "metadata": {},
   "outputs": [],
   "source": [
    "kc_p4"
   ]
  },
  {
   "cell_type": "code",
   "execution_count": null,
   "metadata": {},
   "outputs": [],
   "source": [
    "X3"
   ]
  },
  {
   "cell_type": "code",
   "execution_count": null,
   "metadata": {},
   "outputs": [],
   "source": [
    "#-------------------Conditions Calculation--------------------------------#\n",
    "cat_4 = ['waterfront', 'Age', 'view', 'renovated']\n",
    "cat4_kc1 = kc[cat_4].astype('category')\n",
    "dummies = pd.get_dummies(cat4_kc1, prefix=cat_4, drop_first=True)\n",
    "kc_p4 = kc1.drop(cat_4, axis=1)\n",
    "kc_p4 = pd.concat([kc_p4, dummies], axis=1)\n",
    "X4 = kc_p4[['waterfront_1.0','sqftlv15_lg','Age_recent','Age_vintage','view_1.0', 'view_2.0',\n",
    "            'view_3.0', 'view_4.0', 'renovated_within_15yrs', 'renovated_within_5yrs']]\n",
    "\n",
    "#--------------------------Bar Plots--------------------------------------#\n",
    "#set subplot data\n",
    "predictors_int = sm.add_constant(X4)\n",
    "model4 = sm.OLS(y, predictors_int).fit()\n",
    "print(model4.summary())"
   ]
  },
  {
   "cell_type": "code",
   "execution_count": null,
   "metadata": {},
   "outputs": [],
   "source": []
  },
  {
   "cell_type": "code",
   "execution_count": null,
   "metadata": {},
   "outputs": [],
   "source": [
    "#-------------------Conditions Calculation--------------------------------#\n",
    "cat_5 = ['waterfront', 'Age', 'view', 'renovated', 'season']\n",
    "cat5_kc1 = kc[cat_5].astype('category')\n",
    "dummies = pd.get_dummies(cat5_kc1, prefix=cat_5, drop_first=True)\n",
    "kc_p5 = kc1.drop(cat_5, axis=1)\n",
    "kc_p5 = pd.concat([kc_p5, dummies], axis=1)\n",
    "X5 = kc_p5[['waterfront_1.0','sqftlv15_lg','Age_recent','Age_vintage','view_1.0', 'view_2.0',\n",
    "            'view_3.0', 'view_4.0', 'renovated_within_15yrs', 'renovated_within_5yrs','season_Spring',\n",
    "           'season_Summer','season_Winter']]\n",
    "\n",
    "#--------------------------Bar Plots--------------------------------------#\n",
    "#set subplot data\n",
    "predictors_int = sm.add_constant(X5)\n",
    "model5 = sm.OLS(y, predictors_int).fit()\n",
    "print(model5.summary())"
   ]
  },
  {
   "cell_type": "code",
   "execution_count": null,
   "metadata": {},
   "outputs": [],
   "source": []
  },
  {
   "cell_type": "code",
   "execution_count": null,
   "metadata": {},
   "outputs": [],
   "source": []
  },
  {
   "cell_type": "code",
   "execution_count": null,
   "metadata": {},
   "outputs": [],
   "source": [
    "#-------------------Conditions Calculation--------------------------------#\n",
    "cat_6 = ['waterfront', 'Age', 'view', 'renovated', 'season', 'basement']\n",
    "cat6_kc1 = kc[cat_6].astype('category')\n",
    "dummies = pd.get_dummies(cat6_kc1, prefix=cat_6, drop_first=True)\n",
    "kc_p6 = kc1.drop(cat_6, axis=1)\n",
    "kc_p6 = pd.concat([kc_p6, dummies], axis=1)\n",
    "X6 = kc_p6[['waterfront_1.0','sqftlv15_lg','Age_recent','Age_vintage','view_1.0', 'view_2.0',\n",
    "            'view_3.0', 'view_4.0', 'renovated_within_15yrs', 'renovated_within_5yrs','season_Spring',\n",
    "           'season_Summer','season_Winter','basement_1']]\n",
    "\n",
    "#--------------------------Bar Plots--------------------------------------#\n",
    "#set subplot data\n",
    "predictors_int = sm.add_constant(X6)\n",
    "model6 = sm.OLS(y, predictors_int).fit()\n",
    "print(model6.summary())"
   ]
  },
  {
   "cell_type": "code",
   "execution_count": null,
   "metadata": {},
   "outputs": [],
   "source": []
  },
  {
   "cell_type": "code",
   "execution_count": null,
   "metadata": {},
   "outputs": [],
   "source": []
  },
  {
   "cell_type": "code",
   "execution_count": null,
   "metadata": {},
   "outputs": [],
   "source": [
    "\n"
   ]
  },
  {
   "cell_type": "code",
   "execution_count": null,
   "metadata": {},
   "outputs": [],
   "source": []
  },
  {
   "cell_type": "code",
   "execution_count": null,
   "metadata": {},
   "outputs": [],
   "source": [
    "#-------------------Conditions Calculation--------------------------------#\n",
    "cat_7 = ['waterfront', 'Age', 'view', 'renovated', 'season', 'basement', 'bedrooms']\n",
    "cat7_kc1 = kc[cat_7].astype('category')\n",
    "dummies = pd.get_dummies(cat7_kc1, prefix=cat_7, drop_first=True)\n",
    "kc_p7 = kc1.drop(cat_7, axis=1)\n",
    "kc_p7 = pd.concat([kc_p7, dummies], axis=1)\n",
    "X7 = kc_p7.iloc[:, 6:].drop(['price_lg'], axis=1)\n",
    "\n",
    "#--------------------------Bar Plots--------------------------------------#\n",
    "#set subplot data\n",
    "predictors_int = sm.add_constant(X7)\n",
    "model7 = sm.OLS(y, predictors_int).fit()\n",
    "print(model7.summary())"
   ]
  },
  {
   "cell_type": "code",
   "execution_count": null,
   "metadata": {},
   "outputs": [],
   "source": []
  },
  {
   "cell_type": "code",
   "execution_count": null,
   "metadata": {},
   "outputs": [],
   "source": [
    "#-------------------Conditions Calculation--------------------------------#\n",
    "cat_8 = ['waterfront', 'Age', 'view', 'renovated', 'season', 'basement', 'bedrooms', 'grade', 'condition']\n",
    "cat8_kc1 = kc[cat_8].astype('category')\n",
    "dummies = pd.get_dummies(cat8_kc1, prefix=cat_8, drop_first=True)\n",
    "kc_p8 = kc1.drop(cat_8, axis=1)\n",
    "kc_p8 = pd.concat([kc_p8, dummies], axis=1)\n",
    "X8 = kc_p8.iloc[:, 6:].drop(['price_lg'], axis=1)\n",
    "\n",
    "#--------------------------Bar Plots--------------------------------------#\n",
    "#set subplot data\n",
    "predictors_int = sm.add_constant(X8)\n",
    "model8 = sm.OLS(y, predictors_int).fit()\n",
    "print(model8.summary())"
   ]
  },
  {
   "cell_type": "code",
   "execution_count": null,
   "metadata": {},
   "outputs": [],
   "source": [
    "fig, axs = plt.subplots(ncols=2, figsize = (18,6))\n",
    "\n",
    "residuals = model10.resid\n",
    "sm.graphics.qqplot(residuals, dist = stats.norm, line='45', fit=True, ax=axs[0])\n",
    "axs[0].set_title('Residuals Q-Q Plot')\n",
    "sns.distplot(residuals, ax=axs[1])\n",
    "axs[1].set_title('Residuals Distribution Plot')"
   ]
  },
  {
   "cell_type": "code",
   "execution_count": null,
   "metadata": {},
   "outputs": [],
   "source": []
  },
  {
   "cell_type": "code",
   "execution_count": null,
   "metadata": {},
   "outputs": [],
   "source": [
    "kc1['P_zip_bdrm'] = kc['bedrooms']*kc['price_zipcode']\n",
    "plt.hist(kc1['P_zip_bdrm'], bins=10)\n",
    "plt.show()"
   ]
  },
  {
   "cell_type": "code",
   "execution_count": null,
   "metadata": {},
   "outputs": [],
   "source": [
    "kc1['P_zip_bdrm_lg'] =np.log(kc1['P_zip_bdrm'])\n",
    "plt.hist(kc1['P_zip_bdrm_lg'], bins=10)\n",
    "plt.show()"
   ]
  },
  {
   "cell_type": "code",
   "execution_count": null,
   "metadata": {},
   "outputs": [],
   "source": [
    "kc_p9['P_zip_bdrm_lg'] = np.log(kc1['P_zip_bdrm'])"
   ]
  },
  {
   "cell_type": "code",
   "execution_count": null,
   "metadata": {},
   "outputs": [],
   "source": [
    "#-------------------Conditions Calculation--------------------------------#\n",
    "cat_9 = ['waterfront', 'Age', 'view', 'renovated', 'season', 'basement', 'bedrooms', 'grade', 'condition']\n",
    "cat9_kc1 = kc[cat_9].astype('category')\n",
    "dummies = pd.get_dummies(cat9_kc1, prefix=cat_9, drop_first=True)\n",
    "kc_p9 = kc1.drop(cat_9, axis=1)\n",
    "kc_p9 = pd.concat([kc_p9, dummies], axis=1)\n",
    "X9 = kc_p9.iloc[:, 6:].drop(['price_lg'], axis=1)\n",
    "\n",
    "#--------------------------Bar Plots--------------------------------------#\n",
    "#set subplot data\n",
    "predictors_int = sm.add_constant(X9)\n",
    "model9 = sm.OLS(y, predictors_int).fit()\n",
    "print(model9.summary())"
   ]
  },
  {
   "cell_type": "code",
   "execution_count": null,
   "metadata": {},
   "outputs": [],
   "source": [
    "fig, axs = plt.subplots(ncols=2, figsize = (18,6))\n",
    "\n",
    "residuals = model9.resid\n",
    "sm.graphics.qqplot(residuals, dist = stats.norm, line='45', fit=True, ax=axs[0])\n",
    "axs[0].set_title('Residuals Q-Q Plot')\n",
    "sns.distplot(residuals, ax=axs[1])\n",
    "axs[1].set_title('Residuals Distribution Plot')"
   ]
  },
  {
   "cell_type": "code",
   "execution_count": null,
   "metadata": {},
   "outputs": [],
   "source": [
    "plt.figure(figsize=(9,6))\n",
    "sns.regplot(x=model9.predict(), y=model9.resid, lowess=True, line_kws={'color': 'red'})\n",
    "plt.title('Residuals Scatterplot')"
   ]
  },
  {
   "cell_type": "code",
   "execution_count": null,
   "metadata": {},
   "outputs": [],
   "source": []
  },
  {
   "cell_type": "code",
   "execution_count": null,
   "metadata": {},
   "outputs": [],
   "source": [
    "#-------------------Conditions Calculation--------------------------------#\n",
    "cat_10 = ['waterfront', 'Age', 'view', 'renovated', 'basement', 'bedrooms', 'season']\n",
    "cat10_kc1 = kc[cat_10].astype('category')\n",
    "dummies = pd.get_dummies(cat10_kc1, prefix=cat_10, drop_first=True)\n",
    "kc_p10 = kc1.drop(cat_10, axis=1)\n",
    "kc_p10 = pd.concat([kc_p10, dummies], axis=1)\n",
    "X10 = kc_p10.iloc[:, 6:].drop(['price_lg','P_zip_bdrm'], axis=1)\n",
    "\n",
    "#--------------------------Bar Plots--------------------------------------#\n",
    "#set subplot data\n",
    "predictors_int = sm.add_constant(X10)\n",
    "model10 = sm.OLS(y, predictors_int).fit()\n",
    "print(model10.summary())"
   ]
  },
  {
   "cell_type": "code",
   "execution_count": null,
   "metadata": {},
   "outputs": [],
   "source": [
    "fig, axs = plt.subplots(ncols=2, figsize = (18,6))\n",
    "\n",
    "residuals = model10.resid\n",
    "sm.graphics.qqplot(residuals, dist = stats.norm, line='45', fit=True, ax=axs[0])\n",
    "axs[0].set_title('Residuals Q-Q Plot')\n",
    "sns.distplot(residuals, ax=axs[1])\n",
    "axs[1].set_title('Residuals Distribution Plot')"
   ]
  },
  {
   "cell_type": "code",
   "execution_count": null,
   "metadata": {},
   "outputs": [],
   "source": [
    "plt.figure(figsize=(9,6))\n",
    "sns.regplot(x=model10.predict(), y=model10.resid, lowess=True, line_kws={'color': 'red'})\n",
    "plt.title('Residuals Scatterplot')"
   ]
  },
  {
   "cell_type": "code",
   "execution_count": null,
   "metadata": {},
   "outputs": [],
   "source": [
    "#-------------------Conditions Calculation--------------------------------#\n",
    "cat_7 = ['waterfront', 'Age', 'view', 'renovated', 'season', 'basement', 'bedrooms']\n",
    "cat7_kc1 = kc[cat_7].astype('category')\n",
    "dummies = pd.get_dummies(cat7_kc1, prefix=cat_7, drop_first=True)\n",
    "kc_p7 = kc1.drop(cat_7, axis=1)\n",
    "kc_p7 = pd.concat([kc_p7, dummies], axis=1)\n",
    "X7 = kc_p7.drop([kc.columns])\n",
    "\n",
    "#--------------------------Bar Plots--------------------------------------#\n",
    "#set subplot data\n",
    "predictors_int = sm.add_constant(X7)\n",
    "model7 = sm.OLS(y, predictors_int).fit()\n",
    "print(model7.summary())"
   ]
  },
  {
   "cell_type": "code",
   "execution_count": null,
   "metadata": {},
   "outputs": [],
   "source": [
    "kc1['P_zip_bdrm'] = kc['bedrooms']*kc['price_zipcode']\n",
    "plt.hist(kc1['P_zip_bdrm'], bins=10)\n",
    "plt.show()"
   ]
  },
  {
   "cell_type": "code",
   "execution_count": null,
   "metadata": {},
   "outputs": [],
   "source": [
    "kc1['P_zip_bdrm_lg'] =np.log(kc1['P_zip_bdrm'])\n",
    "plt.hist(kc1['P_zip_bdrm_lg'], bins=10)\n",
    "plt.show()"
   ]
  },
  {
   "cell_type": "code",
   "execution_count": null,
   "metadata": {},
   "outputs": [],
   "source": [
    "#-------------------Conditions Calculation--------------------------------#\n",
    "condition_mean = kc_df.groupby(\"condition\")[\"price\"].mean()\n",
    "condition_median = kc_df.groupby(\"condition\")[\"price\"].median()\n",
    "condition_score = np.arange(1,6)\n",
    "\n",
    "#--------------------------Bar Plots--------------------------------------#\n",
    "#set subplot data\n",
    "fig, ax = plt.subplots(figsize=(8,4))\n",
    "ax2 = ax.twinx() #set ax2 on same x axis as ax\n",
    "ax3 = ax.twinx() #same as above, for hline\n",
    "width = 0.5\n",
    "\n",
    "#barplots \n",
    "ax.bar(x=condition_score, height=condition_median, width=width,\n",
    "       label=\"Median Price\", color=\"midnightblue\", alpha=0.8)\n",
    "ax2.bar(x=condition_score, height=condition_mean, width=width,\n",
    "        label=\"Mean Price\", color=\"royalblue\", alpha=0.8)\n",
    "\n",
    "#horizontal line for mean price\n",
    "ax3.hlines(kc_mean_price, .7 ,5.3, colors=\"red\", label=\"Average Price\")\n",
    "\n",
    "#set ylimit to the same scale and display only 1\n",
    "ax.set_ylim(0,1.2*condition_mean.max())\n",
    "ax2.set_ylim(0,1.2*condition_mean.max())\n",
    "ax3.set_ylim(0,1.2*condition_mean.max())\n",
    "ax2.yaxis.set_visible(False) #hide the 2nd axis\n",
    "ax3.yaxis.set_visible(False)\n",
    "\n",
    "#set legend positions\n",
    "ax.legend(bbox_to_anchor=(0,0,1,1), loc=\"upper left\")\n",
    "ax2.legend(bbox_to_anchor=(0,-.1,1,1), loc=\"upper left\")\n",
    "ax3.legend(bbox_to_anchor=(0,0,1,1), loc=\"upper right\")\n",
    "\n",
    "#prettify graph\n",
    "ax.set_ylabel(\"Average Prices ($)\", size=14)\n",
    "ax.set_xlabel(\"Condition Score\", size=14)\n",
    "plt.title(\"Average Property Value per Condition\", size=16, y=1.08)\n",
    "\n",
    "#uncomment line below to export image\n",
    "# plt.savefig(\"images/condition_value.png\",bbox_inches = \"tight\")\n",
    "plt.legend()\n",
    "plt.show();"
   ]
  },
  {
   "cell_type": "code",
   "execution_count": null,
   "metadata": {},
   "outputs": [],
   "source": [
    "kc1['Price_n_Age'] = kc['Price']*kc['price_zipcode']\n",
    "plt.hist(kc1['P_zip_bdrm'], bins=10)\n",
    "plt.show()"
   ]
  },
  {
   "cell_type": "code",
   "execution_count": null,
   "metadata": {},
   "outputs": [],
   "source": []
  },
  {
   "cell_type": "code",
   "execution_count": null,
   "metadata": {},
   "outputs": [],
   "source": []
  },
  {
   "cell_type": "code",
   "execution_count": null,
   "metadata": {},
   "outputs": [],
   "source": []
  },
  {
   "cell_type": "code",
   "execution_count": null,
   "metadata": {},
   "outputs": [],
   "source": [
    "#Dropping condition and grade since most their categories p-values are high.\n",
    "X2 = kc_p1.drop(['price_lg','sqftlot_lg'], axis=1)"
   ]
  },
  {
   "cell_type": "code",
   "execution_count": null,
   "metadata": {},
   "outputs": [],
   "source": [
    "predictors_int = sm.add_constant(X2)\n",
    "model2 = sm.OLS(y, predictors_int).fit()\n",
    "print(model2.summary())\n"
   ]
  },
  {
   "cell_type": "markdown",
   "metadata": {},
   "source": [
    "Features Interactions"
   ]
  },
  {
   "cell_type": "code",
   "execution_count": null,
   "metadata": {},
   "outputs": [],
   "source": [
    "kc1['P_zip_bdrm'] = kc['bedrooms']*kc['price_zipcode']\n",
    "plt.hist(kc1['P_zip_bdrm'], bins=10)\n",
    "plt.show()"
   ]
  },
  {
   "cell_type": "code",
   "execution_count": null,
   "metadata": {},
   "outputs": [],
   "source": [
    "kc1['P_zip_bdrm_lg'] =np.log(kc1['P_zip_bdrm'])\n",
    "plt.hist(kc1['P_zip_bdrm_lg'], bins=10)\n",
    "plt.show()"
   ]
  },
  {
   "cell_type": "code",
   "execution_count": null,
   "metadata": {},
   "outputs": [],
   "source": [
    "cat1_kc1 = kc1[cat1].astype('category')"
   ]
  },
  {
   "cell_type": "code",
   "execution_count": null,
   "metadata": {},
   "outputs": [],
   "source": [
    "cat1_kc1 = kc1[cat1].astype('category')\n",
    "dummies = pd.get_dummies(cat1_kc1, prefix=cat1, drop_first=True)\n",
    "\n",
    "kc_p1 = kc1.drop(cat1, axis=1)\n",
    "\n",
    "kc_p1 = pd.concat([kc_p1, dummies], axis=1)"
   ]
  },
  {
   "cell_type": "code",
   "execution_count": null,
   "metadata": {},
   "outputs": [],
   "source": [
    "X3 = kc_p1.drop(['P_zip_bdrm', 'price_lg','sqftlot_lg'], axis=1)"
   ]
  },
  {
   "cell_type": "code",
   "execution_count": null,
   "metadata": {},
   "outputs": [],
   "source": [
    "predictors_int = sm.add_constant(X3)\n",
    "model3 = sm.OLS(y, predictors_int).fit()\n",
    "print(model3.summary())"
   ]
  },
  {
   "cell_type": "code",
   "execution_count": null,
   "metadata": {},
   "outputs": [],
   "source": [
    "# Dropping the p_zipcode_Q since it is not significant to the model\n",
    "X4 = kc_p1.drop(['P_zip_bdrm', 'price_lg','sqftlot_lg','p_zipcode_Q_2','p_zipcode_Q_3', 'p_zipcode_Q_4', 'p_zipcode_Q_5' ], axis=1)"
   ]
  },
  {
   "cell_type": "code",
   "execution_count": null,
   "metadata": {},
   "outputs": [],
   "source": [
    "predictors_int = sm.add_constant(X4)\n",
    "model4 = sm.OLS(y, predictors_int).fit()\n",
    "print(model4.summary())"
   ]
  },
  {
   "cell_type": "code",
   "execution_count": null,
   "metadata": {},
   "outputs": [],
   "source": [
    "# Dropping floors since they have a high pvalue\n",
    "# Dropping the p_zipcode_Q since it is not significant to the model\n",
    "X5 = kc_p1.drop(['P_zip_bdrm', 'sqft_living15','price_lg','sqftlot_lg','p_zipcode_Q_2','p_zipcode_Q_3', 'p_zipcode_Q_4', 'p_zipcode_Q_5' ], axis=1)"
   ]
  },
  {
   "cell_type": "code",
   "execution_count": null,
   "metadata": {},
   "outputs": [],
   "source": [
    "predictors_int = sm.add_constant(X5)\n",
    "model5 = sm.OLS(y, predictors_int).fit()\n",
    "print(model5.summary())"
   ]
  },
  {
   "cell_type": "code",
   "execution_count": null,
   "metadata": {},
   "outputs": [],
   "source": [
    "X6 = kc_p1.drop(['P_zip_bdrm', 'sqft_living15','price_lg','floors',\n",
    "                 'sqftlot_lg','p_zipcode_Q_2','p_zipcode_Q_3', 'p_zipcode_Q_4', 'p_zipcode_Q_5' ], axis=1)"
   ]
  },
  {
   "cell_type": "code",
   "execution_count": null,
   "metadata": {},
   "outputs": [],
   "source": [
    "predictors_int = sm.add_constant(X6)\n",
    "model6 = sm.OLS(y, predictors_int).fit()\n",
    "print(model6.summary())"
   ]
  },
  {
   "cell_type": "code",
   "execution_count": null,
   "metadata": {},
   "outputs": [],
   "source": [
    "X7 = kc_p1.drop(['P_zip_bdrm', 'sqft_living15','price_lg','floors','sqftlot_lg','sqftlv15_lg','p_zipcode_Q_2','p_zipcode_Q_3', 'p_zipcode_Q_4', 'p_zipcode_Q_5' ], axis=1)"
   ]
  },
  {
   "cell_type": "code",
   "execution_count": null,
   "metadata": {},
   "outputs": [],
   "source": [
    "predictors_int = sm.add_constant(X7)\n",
    "model7 = sm.OLS(y, predictors_int).fit()\n",
    "print(model7.summary())"
   ]
  },
  {
   "cell_type": "code",
   "execution_count": null,
   "metadata": {},
   "outputs": [],
   "source": []
  },
  {
   "cell_type": "code",
   "execution_count": null,
   "metadata": {},
   "outputs": [],
   "source": [
    "fig, axs = plt.subplots(ncols=2, figsize = (18,6))\n",
    "\n",
    "residuals = model7.resid\n",
    "sm.graphics.qqplot(residuals, dist = stats.norm, line='45', fit=True, ax=axs[0])\n",
    "axs[0].set_title('Residuals Q-Q Plot')\n",
    "sns.distplot(residuals, ax=axs[1])\n",
    "axs[1].set_title('Residuals Distribution Plot')"
   ]
  },
  {
   "cell_type": "code",
   "execution_count": null,
   "metadata": {},
   "outputs": [],
   "source": [
    "plt.figure(figsize=(9,6))\n",
    "sns.regplot(x=model7.predict(), y=model7.resid, lowess=True, line_kws={'color': 'red'})\n",
    "plt.title('Residuals Scatterplot')"
   ]
  },
  {
   "cell_type": "code",
   "execution_count": null,
   "metadata": {},
   "outputs": [],
   "source": []
  }
 ],
 "metadata": {
  "kernelspec": {
   "display_name": "Python (learn-env)",
   "language": "python",
   "name": "learn-env"
  },
  "language_info": {
   "codemirror_mode": {
    "name": "ipython",
    "version": 3
   },
   "file_extension": ".py",
   "mimetype": "text/x-python",
   "name": "python",
   "nbconvert_exporter": "python",
   "pygments_lexer": "ipython3",
   "version": "3.8.5"
  }
 },
 "nbformat": 4,
 "nbformat_minor": 4
}
