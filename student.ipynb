{
 "cells": [
  {
   "cell_type": "markdown",
   "metadata": {},
   "source": [
    "## Final Project Submission\n",
    "\n",
    "Please fill out:\n",
    "* Student name: \n",
    "* Student pace: self paced / part time / full time\n",
    "* Scheduled project review date/time: \n",
    "* Instructor name: \n",
    "* Blog post URL:\n"
   ]
  },
  {
   "cell_type": "markdown",
   "metadata": {},
   "source": [
    "## Libraries "
   ]
  },
  {
   "cell_type": "code",
   "execution_count": 1,
   "metadata": {},
   "outputs": [],
   "source": [
    "from sklearn.preprocessing import PowerTransformer\n",
    "import os\n",
    "import pandas as pd\n",
    "import numpy as np\n",
    "import scipy.stats as stats\n",
    "import matplotlib.pyplot as plt\n",
    "import seaborn as sns\n",
    "import plotly.express as px\n",
    "import statsmodels.api as sm\n",
    "import statsmodels.formula.api as smf\n",
    "from sklearn.model_selection import train_test_split\n",
    "from sklearn.linear_model import LinearRegression\n",
    "from sklearn.feature_selection import RFE, RFECV\n",
    "from sklearn import metrics\n",
    "import pickle\n",
    "import statsmodels\n",
    "from statsmodels.formula.api import ols\n",
    "%matplotlib inline\n",
    "pd.options.display.max_columns = 500\n",
    "pd.options.display.max_rows = 500"
   ]
  },
  {
   "cell_type": "code",
   "execution_count": 2,
   "metadata": {},
   "outputs": [
    {
     "data": {
      "text/html": [
       "<div>\n",
       "<style scoped>\n",
       "    .dataframe tbody tr th:only-of-type {\n",
       "        vertical-align: middle;\n",
       "    }\n",
       "\n",
       "    .dataframe tbody tr th {\n",
       "        vertical-align: top;\n",
       "    }\n",
       "\n",
       "    .dataframe thead th {\n",
       "        text-align: right;\n",
       "    }\n",
       "</style>\n",
       "<table border=\"1\" class=\"dataframe\">\n",
       "  <thead>\n",
       "    <tr style=\"text-align: right;\">\n",
       "      <th></th>\n",
       "      <th>id</th>\n",
       "      <th>date</th>\n",
       "      <th>price</th>\n",
       "      <th>bedrooms</th>\n",
       "      <th>bathrooms</th>\n",
       "      <th>sqft_living</th>\n",
       "      <th>sqft_lot</th>\n",
       "      <th>floors</th>\n",
       "      <th>waterfront</th>\n",
       "      <th>view</th>\n",
       "      <th>condition</th>\n",
       "      <th>grade</th>\n",
       "      <th>sqft_above</th>\n",
       "      <th>sqft_basement</th>\n",
       "      <th>yr_built</th>\n",
       "      <th>yr_renovated</th>\n",
       "      <th>zipcode</th>\n",
       "      <th>lat</th>\n",
       "      <th>long</th>\n",
       "      <th>sqft_living15</th>\n",
       "      <th>sqft_lot15</th>\n",
       "    </tr>\n",
       "  </thead>\n",
       "  <tbody>\n",
       "    <tr>\n",
       "      <th>0</th>\n",
       "      <td>7129300520</td>\n",
       "      <td>10/13/2014</td>\n",
       "      <td>221900.0</td>\n",
       "      <td>3</td>\n",
       "      <td>1.00</td>\n",
       "      <td>1180</td>\n",
       "      <td>5650</td>\n",
       "      <td>1.0</td>\n",
       "      <td>NaN</td>\n",
       "      <td>0.0</td>\n",
       "      <td>3</td>\n",
       "      <td>7</td>\n",
       "      <td>1180</td>\n",
       "      <td>0.0</td>\n",
       "      <td>1955</td>\n",
       "      <td>0.0</td>\n",
       "      <td>98178</td>\n",
       "      <td>47.5112</td>\n",
       "      <td>-122.257</td>\n",
       "      <td>1340</td>\n",
       "      <td>5650</td>\n",
       "    </tr>\n",
       "    <tr>\n",
       "      <th>1</th>\n",
       "      <td>6414100192</td>\n",
       "      <td>12/9/2014</td>\n",
       "      <td>538000.0</td>\n",
       "      <td>3</td>\n",
       "      <td>2.25</td>\n",
       "      <td>2570</td>\n",
       "      <td>7242</td>\n",
       "      <td>2.0</td>\n",
       "      <td>0.0</td>\n",
       "      <td>0.0</td>\n",
       "      <td>3</td>\n",
       "      <td>7</td>\n",
       "      <td>2170</td>\n",
       "      <td>400.0</td>\n",
       "      <td>1951</td>\n",
       "      <td>1991.0</td>\n",
       "      <td>98125</td>\n",
       "      <td>47.7210</td>\n",
       "      <td>-122.319</td>\n",
       "      <td>1690</td>\n",
       "      <td>7639</td>\n",
       "    </tr>\n",
       "    <tr>\n",
       "      <th>2</th>\n",
       "      <td>5631500400</td>\n",
       "      <td>2/25/2015</td>\n",
       "      <td>180000.0</td>\n",
       "      <td>2</td>\n",
       "      <td>1.00</td>\n",
       "      <td>770</td>\n",
       "      <td>10000</td>\n",
       "      <td>1.0</td>\n",
       "      <td>0.0</td>\n",
       "      <td>0.0</td>\n",
       "      <td>3</td>\n",
       "      <td>6</td>\n",
       "      <td>770</td>\n",
       "      <td>0.0</td>\n",
       "      <td>1933</td>\n",
       "      <td>NaN</td>\n",
       "      <td>98028</td>\n",
       "      <td>47.7379</td>\n",
       "      <td>-122.233</td>\n",
       "      <td>2720</td>\n",
       "      <td>8062</td>\n",
       "    </tr>\n",
       "    <tr>\n",
       "      <th>3</th>\n",
       "      <td>2487200875</td>\n",
       "      <td>12/9/2014</td>\n",
       "      <td>604000.0</td>\n",
       "      <td>4</td>\n",
       "      <td>3.00</td>\n",
       "      <td>1960</td>\n",
       "      <td>5000</td>\n",
       "      <td>1.0</td>\n",
       "      <td>0.0</td>\n",
       "      <td>0.0</td>\n",
       "      <td>5</td>\n",
       "      <td>7</td>\n",
       "      <td>1050</td>\n",
       "      <td>910.0</td>\n",
       "      <td>1965</td>\n",
       "      <td>0.0</td>\n",
       "      <td>98136</td>\n",
       "      <td>47.5208</td>\n",
       "      <td>-122.393</td>\n",
       "      <td>1360</td>\n",
       "      <td>5000</td>\n",
       "    </tr>\n",
       "    <tr>\n",
       "      <th>4</th>\n",
       "      <td>1954400510</td>\n",
       "      <td>2/18/2015</td>\n",
       "      <td>510000.0</td>\n",
       "      <td>3</td>\n",
       "      <td>2.00</td>\n",
       "      <td>1680</td>\n",
       "      <td>8080</td>\n",
       "      <td>1.0</td>\n",
       "      <td>0.0</td>\n",
       "      <td>0.0</td>\n",
       "      <td>3</td>\n",
       "      <td>8</td>\n",
       "      <td>1680</td>\n",
       "      <td>0.0</td>\n",
       "      <td>1987</td>\n",
       "      <td>0.0</td>\n",
       "      <td>98074</td>\n",
       "      <td>47.6168</td>\n",
       "      <td>-122.045</td>\n",
       "      <td>1800</td>\n",
       "      <td>7503</td>\n",
       "    </tr>\n",
       "  </tbody>\n",
       "</table>\n",
       "</div>"
      ],
      "text/plain": [
       "           id        date     price  bedrooms  bathrooms  sqft_living  \\\n",
       "0  7129300520  10/13/2014  221900.0         3       1.00         1180   \n",
       "1  6414100192   12/9/2014  538000.0         3       2.25         2570   \n",
       "2  5631500400   2/25/2015  180000.0         2       1.00          770   \n",
       "3  2487200875   12/9/2014  604000.0         4       3.00         1960   \n",
       "4  1954400510   2/18/2015  510000.0         3       2.00         1680   \n",
       "\n",
       "   sqft_lot  floors  waterfront  view  condition  grade  sqft_above  \\\n",
       "0      5650     1.0         NaN   0.0          3      7        1180   \n",
       "1      7242     2.0         0.0   0.0          3      7        2170   \n",
       "2     10000     1.0         0.0   0.0          3      6         770   \n",
       "3      5000     1.0         0.0   0.0          5      7        1050   \n",
       "4      8080     1.0         0.0   0.0          3      8        1680   \n",
       "\n",
       "  sqft_basement  yr_built  yr_renovated  zipcode      lat     long  \\\n",
       "0           0.0      1955           0.0    98178  47.5112 -122.257   \n",
       "1         400.0      1951        1991.0    98125  47.7210 -122.319   \n",
       "2           0.0      1933           NaN    98028  47.7379 -122.233   \n",
       "3         910.0      1965           0.0    98136  47.5208 -122.393   \n",
       "4           0.0      1987           0.0    98074  47.6168 -122.045   \n",
       "\n",
       "   sqft_living15  sqft_lot15  \n",
       "0           1340        5650  \n",
       "1           1690        7639  \n",
       "2           2720        8062  \n",
       "3           1360        5000  \n",
       "4           1800        7503  "
      ]
     },
     "execution_count": 2,
     "metadata": {},
     "output_type": "execute_result"
    }
   ],
   "source": [
    "kc_df = pd.read_csv(\"data/kc_house_data.csv\")\n",
    "kc_df.head()"
   ]
  },
  {
   "cell_type": "markdown",
   "metadata": {},
   "source": [
    "## Exploratory Data Analysis"
   ]
  },
  {
   "cell_type": "markdown",
   "metadata": {},
   "source": [
    "This section will seek to answer the questions listed in business problems. The data will be visualized for easy understanding and followed with appropriate statistical analysis for empirical findings within data. Following are the summaries of the questions answered in this section:\n",
    "What neighborhood contains most valuable properties?\n",
    "Does condition of the property affect the value?\n",
    "Are the property age and condition related?\n",
    "What features add value to the house?\n",
    "Do renovations increase property value?\n",
    "Do basements increase property value?"
   ]
  },
  {
   "cell_type": "markdown",
   "metadata": {},
   "source": [
    "## Data Integrity and Description"
   ]
  },
  {
   "cell_type": "code",
   "execution_count": 3,
   "metadata": {},
   "outputs": [
    {
     "data": {
      "text/plain": [
       "id                  0\n",
       "date                0\n",
       "price               0\n",
       "bedrooms            0\n",
       "bathrooms           0\n",
       "sqft_living         0\n",
       "sqft_lot            0\n",
       "floors              0\n",
       "waterfront       2376\n",
       "view               63\n",
       "condition           0\n",
       "grade               0\n",
       "sqft_above          0\n",
       "sqft_basement       0\n",
       "yr_built            0\n",
       "yr_renovated     3842\n",
       "zipcode             0\n",
       "lat                 0\n",
       "long                0\n",
       "sqft_living15       0\n",
       "sqft_lot15          0\n",
       "dtype: int64"
      ]
     },
     "execution_count": 3,
     "metadata": {},
     "output_type": "execute_result"
    }
   ],
   "source": [
    "kc_df.isna().sum()"
   ]
  },
  {
   "cell_type": "markdown",
   "metadata": {},
   "source": [
    "For waterfront, view, and yr_renovated, we see that up to 75% of the distribution still remains at a value of 0. As a result, we have decided to fill the NA values in these columns with 0."
   ]
  },
  {
   "cell_type": "code",
   "execution_count": 17,
   "metadata": {},
   "outputs": [],
   "source": [
    "#Replace null values and \"nan\" with 0\n",
    "\n",
    "kc_df = kc_df.replace(\"nan\",\"0\")\n",
    "\n",
    "col = ['waterfront', 'view', 'yr_renovated']\n",
    "\n",
    "for val in col:\n",
    "    kc_df[val] = kc_df[val].fillna(value=0)"
   ]
  },
  {
   "cell_type": "code",
   "execution_count": 18,
   "metadata": {},
   "outputs": [
    {
     "name": "stdout",
     "output_type": "stream",
     "text": [
      "There are total 0 null values in the data\n"
     ]
    }
   ],
   "source": [
    "total_null = 0 \n",
    "for null_count in kc_df.isnull().sum():\n",
    "    total_null += null_count\n",
    "print(f\"There are total {total_null} null values in the data\")"
   ]
  },
  {
   "cell_type": "markdown",
   "metadata": {},
   "source": [
    "Checking for duplicate dataset"
   ]
  },
  {
   "cell_type": "code",
   "execution_count": null,
   "metadata": {},
   "outputs": [],
   "source": [
    "#Check for duplicates\n",
    "kc_df_duplicates = kc_df[kc_df.duplicated()]\n",
    "print(len(kc_df_duplicates))\n",
    "display(kc_df_duplicates)"
   ]
  },
  {
   "cell_type": "code",
   "execution_count": 7,
   "metadata": {},
   "outputs": [
    {
     "data": {
      "text/plain": [
       "False    21244\n",
       "True       353\n",
       "dtype: int64"
      ]
     },
     "execution_count": 7,
     "metadata": {},
     "output_type": "execute_result"
    }
   ],
   "source": [
    "#Check for duplicated IDs \n",
    "duplicated_ids = kc_df.duplicated(subset=['id'], keep=False)\n",
    "duplicated_ids.value_counts()"
   ]
  },
  {
   "cell_type": "code",
   "execution_count": 20,
   "metadata": {
    "scrolled": true
   },
   "outputs": [
    {
     "data": {
      "text/html": [
       "<div>\n",
       "<style scoped>\n",
       "    .dataframe tbody tr th:only-of-type {\n",
       "        vertical-align: middle;\n",
       "    }\n",
       "\n",
       "    .dataframe tbody tr th {\n",
       "        vertical-align: top;\n",
       "    }\n",
       "\n",
       "    .dataframe thead th {\n",
       "        text-align: right;\n",
       "    }\n",
       "</style>\n",
       "<table border=\"1\" class=\"dataframe\">\n",
       "  <thead>\n",
       "    <tr style=\"text-align: right;\">\n",
       "      <th></th>\n",
       "      <th>id</th>\n",
       "      <th>date</th>\n",
       "      <th>price</th>\n",
       "      <th>bedrooms</th>\n",
       "      <th>bathrooms</th>\n",
       "      <th>sqft_living</th>\n",
       "      <th>sqft_lot</th>\n",
       "      <th>floors</th>\n",
       "      <th>waterfront</th>\n",
       "      <th>view</th>\n",
       "      <th>condition</th>\n",
       "      <th>grade</th>\n",
       "      <th>sqft_above</th>\n",
       "      <th>sqft_basement</th>\n",
       "      <th>yr_built</th>\n",
       "      <th>yr_renovated</th>\n",
       "      <th>zipcode</th>\n",
       "      <th>lat</th>\n",
       "      <th>long</th>\n",
       "      <th>sqft_living15</th>\n",
       "      <th>sqft_lot15</th>\n",
       "    </tr>\n",
       "  </thead>\n",
       "  <tbody>\n",
       "    <tr>\n",
       "      <th>93</th>\n",
       "      <td>6021501535</td>\n",
       "      <td>7/25/2014</td>\n",
       "      <td>430000.0</td>\n",
       "      <td>3</td>\n",
       "      <td>1.50</td>\n",
       "      <td>1580</td>\n",
       "      <td>5000</td>\n",
       "      <td>1.0</td>\n",
       "      <td>0.0</td>\n",
       "      <td>0.0</td>\n",
       "      <td>3</td>\n",
       "      <td>8</td>\n",
       "      <td>1290</td>\n",
       "      <td>290.0</td>\n",
       "      <td>1939</td>\n",
       "      <td>0.0</td>\n",
       "      <td>98117</td>\n",
       "      <td>47.6870</td>\n",
       "      <td>-122.386</td>\n",
       "      <td>1570</td>\n",
       "      <td>4500</td>\n",
       "    </tr>\n",
       "    <tr>\n",
       "      <th>94</th>\n",
       "      <td>6021501535</td>\n",
       "      <td>12/23/2014</td>\n",
       "      <td>700000.0</td>\n",
       "      <td>3</td>\n",
       "      <td>1.50</td>\n",
       "      <td>1580</td>\n",
       "      <td>5000</td>\n",
       "      <td>1.0</td>\n",
       "      <td>0.0</td>\n",
       "      <td>0.0</td>\n",
       "      <td>3</td>\n",
       "      <td>8</td>\n",
       "      <td>1290</td>\n",
       "      <td>290.0</td>\n",
       "      <td>1939</td>\n",
       "      <td>0.0</td>\n",
       "      <td>98117</td>\n",
       "      <td>47.6870</td>\n",
       "      <td>-122.386</td>\n",
       "      <td>1570</td>\n",
       "      <td>4500</td>\n",
       "    </tr>\n",
       "    <tr>\n",
       "      <th>313</th>\n",
       "      <td>4139480200</td>\n",
       "      <td>6/18/2014</td>\n",
       "      <td>1380000.0</td>\n",
       "      <td>4</td>\n",
       "      <td>3.25</td>\n",
       "      <td>4290</td>\n",
       "      <td>12103</td>\n",
       "      <td>1.0</td>\n",
       "      <td>0.0</td>\n",
       "      <td>3.0</td>\n",
       "      <td>3</td>\n",
       "      <td>11</td>\n",
       "      <td>2690</td>\n",
       "      <td>1600.0</td>\n",
       "      <td>1997</td>\n",
       "      <td>0.0</td>\n",
       "      <td>98006</td>\n",
       "      <td>47.5503</td>\n",
       "      <td>-122.102</td>\n",
       "      <td>3860</td>\n",
       "      <td>11244</td>\n",
       "    </tr>\n",
       "    <tr>\n",
       "      <th>314</th>\n",
       "      <td>4139480200</td>\n",
       "      <td>12/9/2014</td>\n",
       "      <td>1400000.0</td>\n",
       "      <td>4</td>\n",
       "      <td>3.25</td>\n",
       "      <td>4290</td>\n",
       "      <td>12103</td>\n",
       "      <td>1.0</td>\n",
       "      <td>0.0</td>\n",
       "      <td>3.0</td>\n",
       "      <td>3</td>\n",
       "      <td>11</td>\n",
       "      <td>2690</td>\n",
       "      <td>1600.0</td>\n",
       "      <td>1997</td>\n",
       "      <td>0.0</td>\n",
       "      <td>98006</td>\n",
       "      <td>47.5503</td>\n",
       "      <td>-122.102</td>\n",
       "      <td>3860</td>\n",
       "      <td>11244</td>\n",
       "    </tr>\n",
       "    <tr>\n",
       "      <th>324</th>\n",
       "      <td>7520000520</td>\n",
       "      <td>9/5/2014</td>\n",
       "      <td>232000.0</td>\n",
       "      <td>2</td>\n",
       "      <td>1.00</td>\n",
       "      <td>1240</td>\n",
       "      <td>12092</td>\n",
       "      <td>1.0</td>\n",
       "      <td>0.0</td>\n",
       "      <td>0.0</td>\n",
       "      <td>3</td>\n",
       "      <td>6</td>\n",
       "      <td>960</td>\n",
       "      <td>280.0</td>\n",
       "      <td>1922</td>\n",
       "      <td>1984.0</td>\n",
       "      <td>98146</td>\n",
       "      <td>47.4957</td>\n",
       "      <td>-122.352</td>\n",
       "      <td>1820</td>\n",
       "      <td>7460</td>\n",
       "    </tr>\n",
       "  </tbody>\n",
       "</table>\n",
       "</div>"
      ],
      "text/plain": [
       "             id        date      price  bedrooms  bathrooms  sqft_living  \\\n",
       "93   6021501535   7/25/2014   430000.0         3       1.50         1580   \n",
       "94   6021501535  12/23/2014   700000.0         3       1.50         1580   \n",
       "313  4139480200   6/18/2014  1380000.0         4       3.25         4290   \n",
       "314  4139480200   12/9/2014  1400000.0         4       3.25         4290   \n",
       "324  7520000520    9/5/2014   232000.0         2       1.00         1240   \n",
       "\n",
       "     sqft_lot  floors  waterfront  view  condition  grade  sqft_above  \\\n",
       "93       5000     1.0         0.0   0.0          3      8        1290   \n",
       "94       5000     1.0         0.0   0.0          3      8        1290   \n",
       "313     12103     1.0         0.0   3.0          3     11        2690   \n",
       "314     12103     1.0         0.0   3.0          3     11        2690   \n",
       "324     12092     1.0         0.0   0.0          3      6         960   \n",
       "\n",
       "     sqft_basement  yr_built  yr_renovated  zipcode      lat     long  \\\n",
       "93           290.0      1939           0.0    98117  47.6870 -122.386   \n",
       "94           290.0      1939           0.0    98117  47.6870 -122.386   \n",
       "313         1600.0      1997           0.0    98006  47.5503 -122.102   \n",
       "314         1600.0      1997           0.0    98006  47.5503 -122.102   \n",
       "324          280.0      1922        1984.0    98146  47.4957 -122.352   \n",
       "\n",
       "     sqft_living15  sqft_lot15  \n",
       "93            1570        4500  \n",
       "94            1570        4500  \n",
       "313           3860       11244  \n",
       "314           3860       11244  \n",
       "324           1820        7460  "
      ]
     },
     "execution_count": 20,
     "metadata": {},
     "output_type": "execute_result"
    }
   ],
   "source": [
    "#Explore duplicated IDs\n",
    "kc_df_duplicated_ids = kc_df[duplicated_ids]\n",
    "kc_df_duplicated_ids.head()"
   ]
  },
  {
   "cell_type": "code",
   "execution_count": 21,
   "metadata": {},
   "outputs": [
    {
     "name": "stdout",
     "output_type": "stream",
     "text": [
      "(21597, 21)\n"
     ]
    }
   ],
   "source": [
    "#Drop the duplicates and keep the latest sale of each property\n",
    "#kc_df.drop_duplicates(subset=['id'], keep='last', inplace=True)\n",
    "print(kc_df.shape)"
   ]
  },
  {
   "cell_type": "markdown",
   "metadata": {},
   "source": [
    "A home's latitude and longitude will not be particularly relevant for prospective homebuyers. Neither will its id, or the date, as other data, such as yr_built, will be of much more interest. As a result, we will drop these variables, as they do not make much sense in the context of our business problem."
   ]
  },
  {
   "cell_type": "markdown",
   "metadata": {},
   "source": [
    "#Remove features/columns that are of no interest for this analysis \n",
    "df.drop(['id', 'date','lat','long'], axis=1, inplace=True)"
   ]
  },
  {
   "cell_type": "code",
   "execution_count": 22,
   "metadata": {},
   "outputs": [
    {
     "name": "stdout",
     "output_type": "stream",
     "text": [
      "<class 'pandas.core.frame.DataFrame'>\n",
      "RangeIndex: 21597 entries, 0 to 21596\n",
      "Data columns (total 21 columns):\n",
      " #   Column         Non-Null Count  Dtype  \n",
      "---  ------         --------------  -----  \n",
      " 0   id             21597 non-null  int64  \n",
      " 1   date           21597 non-null  object \n",
      " 2   price          21597 non-null  float64\n",
      " 3   bedrooms       21597 non-null  int64  \n",
      " 4   bathrooms      21597 non-null  float64\n",
      " 5   sqft_living    21597 non-null  int64  \n",
      " 6   sqft_lot       21597 non-null  int64  \n",
      " 7   floors         21597 non-null  float64\n",
      " 8   waterfront     21597 non-null  float64\n",
      " 9   view           21597 non-null  float64\n",
      " 10  condition      21597 non-null  int64  \n",
      " 11  grade          21597 non-null  int64  \n",
      " 12  sqft_above     21597 non-null  int64  \n",
      " 13  sqft_basement  21597 non-null  float64\n",
      " 14  yr_built       21597 non-null  int64  \n",
      " 15  yr_renovated   21597 non-null  float64\n",
      " 16  zipcode        21597 non-null  int64  \n",
      " 17  lat            21597 non-null  float64\n",
      " 18  long           21597 non-null  float64\n",
      " 19  sqft_living15  21597 non-null  int64  \n",
      " 20  sqft_lot15     21597 non-null  int64  \n",
      "dtypes: float64(9), int64(11), object(1)\n",
      "memory usage: 3.5+ MB\n"
     ]
    }
   ],
   "source": [
    "kc_df.info()"
   ]
  },
  {
   "cell_type": "code",
   "execution_count": 37,
   "metadata": {},
   "outputs": [
    {
     "data": {
      "text/plain": [
       "0    13280\n",
       "1     8317\n",
       "Name: basement, dtype: int64"
      ]
     },
     "execution_count": 37,
     "metadata": {},
     "output_type": "execute_result"
    }
   ],
   "source": [
    "# Creating ['basement'] to replace 'sqft_basement'\n",
    "kc_df['basement'] = kc_df['sqft_basement'].apply(lambda x: 0 if x == 0  else 1)\n",
    "kc_df['basement'].value_counts()"
   ]
  },
  {
   "cell_type": "code",
   "execution_count": 34,
   "metadata": {},
   "outputs": [
    {
     "data": {
      "text/plain": [
       "1    16841\n",
       "2     3515\n",
       "3     1241\n",
       "Name: Age, dtype: int64"
      ]
     },
     "execution_count": 34,
     "metadata": {},
     "output_type": "execute_result"
    }
   ],
   "source": [
    "# Creating 'Age' to replace 'yr_built' \n",
    "kc_df['Age'] = kc_df['yr_built'].apply(lambda x: 1 if x <= 1999 else 2 if x >= 2000 and x < 2010 else 3)\n",
    "kc_df['Age'].value_counts()"
   ]
  },
  {
   "cell_type": "code",
   "execution_count": 39,
   "metadata": {},
   "outputs": [
    {
     "data": {
      "text/plain": [
       "1    21218\n",
       "2      229\n",
       "3      150\n",
       "Name: renovated, dtype: int64"
      ]
     },
     "execution_count": 39,
     "metadata": {},
     "output_type": "execute_result"
    }
   ],
   "source": [
    "# Creating 'renovated' so sa to replace the 'yr_renovated'\n",
    "kc_df['renovated'] = kc_df['yr_renovated'].apply(lambda x: 1 if x <= 1999 else 2 if x >= 2000 and x < 2010 else 3)\n",
    "kc_df['renovated'].value_counts()"
   ]
  },
  {
   "cell_type": "code",
   "execution_count": 40,
   "metadata": {},
   "outputs": [
    {
     "data": {
      "text/plain": [
       "3    9824\n",
       "4    6882\n",
       "2    2760\n",
       "5    1601\n",
       "6     334\n",
       "1     196\n",
       "Name: bedrooms, dtype: int64"
      ]
     },
     "execution_count": 40,
     "metadata": {},
     "output_type": "execute_result"
    }
   ],
   "source": [
    "# To reduce the number of classes of bedrooms and increase variability \n",
    "kc_df['bedrooms'] = kc_df['bedrooms'].apply(lambda x: x if x <= 6 else 6)\n",
    "kc_df['bedrooms'].value_counts()"
   ]
  },
  {
   "cell_type": "markdown",
   "metadata": {},
   "source": [
    "## Preview Distribution of Each Column"
   ]
  },
  {
   "cell_type": "markdown",
   "metadata": {},
   "source": [
    "Before we conduct any transformations, we need to check the distributions in order to identify categorical variables and see if/which features are normally distributed."
   ]
  },
  {
   "cell_type": "code",
   "execution_count": 41,
   "metadata": {},
   "outputs": [
    {
     "data": {
      "image/png": "[encoded data removed]",
      "text/plain": [
       "<Figure size 1296x1080 with 25 Axes>"
      ]
     },
     "metadata": {
      "needs_background": "light"
     },
     "output_type": "display_data"
    }
   ],
   "source": [
    "#First, let's plot a histogram for each column\n",
    "kc_df.hist(figsize=(18,15), bins='auto');"
   ]
  },
  {
   "cell_type": "markdown",
   "metadata": {},
   "source": [
    "\n",
    "Clearly, bathrooms, bedrooms, condition, floors, grade, view, waterfront, and yr_renovated are categorical. The remaining variables seem to be continuous. Let's explore this further by creating some scatter plots."
   ]
  },
  {
   "cell_type": "code",
   "execution_count": 26,
   "metadata": {},
   "outputs": [
    {
     "data": {
      "image/png": "[encoded data removed]",
      "text/plain": [
       "<Figure size 1152x1080 with 20 Axes>"
      ]
     },
     "metadata": {
      "needs_background": "light"
     },
     "output_type": "display_data"
    }
   ],
   "source": [
    "#Next, let's plot scatter plots that will further help us identify outliers and categorical variables \n",
    "fig, axes = plt.subplots(nrows=5, ncols=4, figsize=(16,15), sharey=True)\n",
    "\n",
    "for ax, column in zip(axes.flatten(), kc_df.columns):\n",
    "    ax.scatter(kc_df[column], kc_df['price'] / 100_000, label=column, alpha=.1)\n",
    "    ax.set_title(f'Price vs {column}')\n",
    "    ax.set_xlabel(column)\n",
    "    ax.set_ylabel('Price in $100,000')\n",
    "\n",
    "fig.tight_layout()"
   ]
  },
  {
   "cell_type": "markdown",
   "metadata": {},
   "source": [
    "\n",
    "These scatter plots helped confirm which variables are categorical and which are continuous. We have identified our continuous variables, sqft_living, sqft_lot, sqft_above, sqft_basement, yr_built, sqft_living15 and sqft_lot15, and later we will look to transform some of these variables, since many of them currently do not appear to follow a normal distribution.\n"
   ]
  },
  {
   "cell_type": "markdown",
   "metadata": {},
   "source": [
    "## Correlation Review"
   ]
  },
  {
   "cell_type": "markdown",
   "metadata": {},
   "source": [
    "Our next logical step would be to investigate correlation amongst variables. First we will look at this more generally, then we will narrow our results to variables that are more highly correlated with our y-variable, price."
   ]
  },
  {
   "cell_type": "code",
   "execution_count": 14,
   "metadata": {},
   "outputs": [
    {
     "data": {
      "text/html": [
       "<div>\n",
       "<style scoped>\n",
       "    .dataframe tbody tr th:only-of-type {\n",
       "        vertical-align: middle;\n",
       "    }\n",
       "\n",
       "    .dataframe tbody tr th {\n",
       "        vertical-align: top;\n",
       "    }\n",
       "\n",
       "    .dataframe thead th {\n",
       "        text-align: right;\n",
       "    }\n",
       "</style>\n",
       "<table border=\"1\" class=\"dataframe\">\n",
       "  <thead>\n",
       "    <tr style=\"text-align: right;\">\n",
       "      <th></th>\n",
       "      <th>id</th>\n",
       "      <th>price</th>\n",
       "      <th>bedrooms</th>\n",
       "      <th>bathrooms</th>\n",
       "      <th>sqft_living</th>\n",
       "      <th>sqft_lot</th>\n",
       "      <th>floors</th>\n",
       "      <th>waterfront</th>\n",
       "      <th>view</th>\n",
       "      <th>condition</th>\n",
       "      <th>grade</th>\n",
       "      <th>sqft_above</th>\n",
       "      <th>sqft_basement</th>\n",
       "      <th>yr_built</th>\n",
       "      <th>yr_renovated</th>\n",
       "      <th>zipcode</th>\n",
       "      <th>lat</th>\n",
       "      <th>long</th>\n",
       "      <th>sqft_living15</th>\n",
       "      <th>sqft_lot15</th>\n",
       "    </tr>\n",
       "  </thead>\n",
       "  <tbody>\n",
       "    <tr>\n",
       "      <th>id</th>\n",
       "      <td>1.000000</td>\n",
       "      <td>-0.016772</td>\n",
       "      <td>0.001150</td>\n",
       "      <td>0.005162</td>\n",
       "      <td>-0.012241</td>\n",
       "      <td>-0.131911</td>\n",
       "      <td>0.018608</td>\n",
       "      <td>-0.003599</td>\n",
       "      <td>0.011772</td>\n",
       "      <td>-0.023803</td>\n",
       "      <td>0.008188</td>\n",
       "      <td>-0.010799</td>\n",
       "      <td>-0.004359</td>\n",
       "      <td>0.021617</td>\n",
       "      <td>-0.010612</td>\n",
       "      <td>-0.008211</td>\n",
       "      <td>-0.001798</td>\n",
       "      <td>0.020672</td>\n",
       "      <td>-0.002701</td>\n",
       "      <td>-0.138557</td>\n",
       "    </tr>\n",
       "    <tr>\n",
       "      <th>price</th>\n",
       "      <td>-0.016772</td>\n",
       "      <td>1.000000</td>\n",
       "      <td>0.308787</td>\n",
       "      <td>0.525906</td>\n",
       "      <td>0.701917</td>\n",
       "      <td>0.089876</td>\n",
       "      <td>0.256804</td>\n",
       "      <td>0.264306</td>\n",
       "      <td>0.393497</td>\n",
       "      <td>0.036056</td>\n",
       "      <td>0.667951</td>\n",
       "      <td>0.605368</td>\n",
       "      <td>0.321108</td>\n",
       "      <td>0.053953</td>\n",
       "      <td>0.117855</td>\n",
       "      <td>-0.053402</td>\n",
       "      <td>0.306692</td>\n",
       "      <td>0.022036</td>\n",
       "      <td>0.585241</td>\n",
       "      <td>0.082845</td>\n",
       "    </tr>\n",
       "    <tr>\n",
       "      <th>bedrooms</th>\n",
       "      <td>0.001150</td>\n",
       "      <td>0.308787</td>\n",
       "      <td>1.000000</td>\n",
       "      <td>0.514508</td>\n",
       "      <td>0.578212</td>\n",
       "      <td>0.032471</td>\n",
       "      <td>0.177944</td>\n",
       "      <td>-0.002127</td>\n",
       "      <td>0.078354</td>\n",
       "      <td>0.026496</td>\n",
       "      <td>0.356563</td>\n",
       "      <td>0.479386</td>\n",
       "      <td>0.297229</td>\n",
       "      <td>0.155670</td>\n",
       "      <td>0.017900</td>\n",
       "      <td>-0.154092</td>\n",
       "      <td>-0.009951</td>\n",
       "      <td>0.132054</td>\n",
       "      <td>0.393406</td>\n",
       "      <td>0.030690</td>\n",
       "    </tr>\n",
       "    <tr>\n",
       "      <th>bathrooms</th>\n",
       "      <td>0.005162</td>\n",
       "      <td>0.525906</td>\n",
       "      <td>0.514508</td>\n",
       "      <td>1.000000</td>\n",
       "      <td>0.755758</td>\n",
       "      <td>0.088373</td>\n",
       "      <td>0.502582</td>\n",
       "      <td>0.063629</td>\n",
       "      <td>0.186016</td>\n",
       "      <td>-0.126479</td>\n",
       "      <td>0.665838</td>\n",
       "      <td>0.686668</td>\n",
       "      <td>0.278485</td>\n",
       "      <td>0.507173</td>\n",
       "      <td>0.047177</td>\n",
       "      <td>-0.204786</td>\n",
       "      <td>0.024280</td>\n",
       "      <td>0.224903</td>\n",
       "      <td>0.569884</td>\n",
       "      <td>0.088303</td>\n",
       "    </tr>\n",
       "    <tr>\n",
       "      <th>sqft_living</th>\n",
       "      <td>-0.012241</td>\n",
       "      <td>0.701917</td>\n",
       "      <td>0.578212</td>\n",
       "      <td>0.755758</td>\n",
       "      <td>1.000000</td>\n",
       "      <td>0.173453</td>\n",
       "      <td>0.353953</td>\n",
       "      <td>0.104637</td>\n",
       "      <td>0.281715</td>\n",
       "      <td>-0.059445</td>\n",
       "      <td>0.762779</td>\n",
       "      <td>0.876448</td>\n",
       "      <td>0.428660</td>\n",
       "      <td>0.318152</td>\n",
       "      <td>0.051060</td>\n",
       "      <td>-0.199802</td>\n",
       "      <td>0.052155</td>\n",
       "      <td>0.241214</td>\n",
       "      <td>0.756402</td>\n",
       "      <td>0.184342</td>\n",
       "    </tr>\n",
       "    <tr>\n",
       "      <th>sqft_lot</th>\n",
       "      <td>-0.131911</td>\n",
       "      <td>0.089876</td>\n",
       "      <td>0.032471</td>\n",
       "      <td>0.088373</td>\n",
       "      <td>0.173453</td>\n",
       "      <td>1.000000</td>\n",
       "      <td>-0.004814</td>\n",
       "      <td>0.021459</td>\n",
       "      <td>0.075054</td>\n",
       "      <td>-0.008830</td>\n",
       "      <td>0.114731</td>\n",
       "      <td>0.184139</td>\n",
       "      <td>0.015031</td>\n",
       "      <td>0.052946</td>\n",
       "      <td>0.004979</td>\n",
       "      <td>-0.129586</td>\n",
       "      <td>-0.085514</td>\n",
       "      <td>0.230227</td>\n",
       "      <td>0.144763</td>\n",
       "      <td>0.718204</td>\n",
       "    </tr>\n",
       "    <tr>\n",
       "      <th>floors</th>\n",
       "      <td>0.018608</td>\n",
       "      <td>0.256804</td>\n",
       "      <td>0.177944</td>\n",
       "      <td>0.502582</td>\n",
       "      <td>0.353953</td>\n",
       "      <td>-0.004814</td>\n",
       "      <td>1.000000</td>\n",
       "      <td>0.020797</td>\n",
       "      <td>0.028414</td>\n",
       "      <td>-0.264075</td>\n",
       "      <td>0.458794</td>\n",
       "      <td>0.523989</td>\n",
       "      <td>-0.241866</td>\n",
       "      <td>0.489193</td>\n",
       "      <td>0.003793</td>\n",
       "      <td>-0.059541</td>\n",
       "      <td>0.049239</td>\n",
       "      <td>0.125943</td>\n",
       "      <td>0.280102</td>\n",
       "      <td>-0.010722</td>\n",
       "    </tr>\n",
       "    <tr>\n",
       "      <th>waterfront</th>\n",
       "      <td>-0.003599</td>\n",
       "      <td>0.264306</td>\n",
       "      <td>-0.002127</td>\n",
       "      <td>0.063629</td>\n",
       "      <td>0.104637</td>\n",
       "      <td>0.021459</td>\n",
       "      <td>0.020797</td>\n",
       "      <td>1.000000</td>\n",
       "      <td>0.380543</td>\n",
       "      <td>0.016648</td>\n",
       "      <td>0.082818</td>\n",
       "      <td>0.071778</td>\n",
       "      <td>0.083050</td>\n",
       "      <td>-0.024487</td>\n",
       "      <td>0.073939</td>\n",
       "      <td>0.028923</td>\n",
       "      <td>-0.012157</td>\n",
       "      <td>-0.037628</td>\n",
       "      <td>0.083823</td>\n",
       "      <td>0.030658</td>\n",
       "    </tr>\n",
       "    <tr>\n",
       "      <th>view</th>\n",
       "      <td>0.011772</td>\n",
       "      <td>0.393497</td>\n",
       "      <td>0.078354</td>\n",
       "      <td>0.186016</td>\n",
       "      <td>0.281715</td>\n",
       "      <td>0.075054</td>\n",
       "      <td>0.028414</td>\n",
       "      <td>0.380543</td>\n",
       "      <td>1.000000</td>\n",
       "      <td>0.045622</td>\n",
       "      <td>0.249082</td>\n",
       "      <td>0.166017</td>\n",
       "      <td>0.270629</td>\n",
       "      <td>-0.054452</td>\n",
       "      <td>0.090339</td>\n",
       "      <td>0.085059</td>\n",
       "      <td>0.006321</td>\n",
       "      <td>-0.077702</td>\n",
       "      <td>0.278928</td>\n",
       "      <td>0.073083</td>\n",
       "    </tr>\n",
       "    <tr>\n",
       "      <th>condition</th>\n",
       "      <td>-0.023803</td>\n",
       "      <td>0.036056</td>\n",
       "      <td>0.026496</td>\n",
       "      <td>-0.126479</td>\n",
       "      <td>-0.059445</td>\n",
       "      <td>-0.008830</td>\n",
       "      <td>-0.264075</td>\n",
       "      <td>0.016648</td>\n",
       "      <td>0.045622</td>\n",
       "      <td>1.000000</td>\n",
       "      <td>-0.146896</td>\n",
       "      <td>-0.158904</td>\n",
       "      <td>0.168482</td>\n",
       "      <td>-0.361592</td>\n",
       "      <td>-0.055808</td>\n",
       "      <td>0.002888</td>\n",
       "      <td>-0.015102</td>\n",
       "      <td>-0.105877</td>\n",
       "      <td>-0.093072</td>\n",
       "      <td>-0.003126</td>\n",
       "    </tr>\n",
       "    <tr>\n",
       "      <th>grade</th>\n",
       "      <td>0.008188</td>\n",
       "      <td>0.667951</td>\n",
       "      <td>0.356563</td>\n",
       "      <td>0.665838</td>\n",
       "      <td>0.762779</td>\n",
       "      <td>0.114731</td>\n",
       "      <td>0.458794</td>\n",
       "      <td>0.082818</td>\n",
       "      <td>0.249082</td>\n",
       "      <td>-0.146896</td>\n",
       "      <td>1.000000</td>\n",
       "      <td>0.756073</td>\n",
       "      <td>0.165843</td>\n",
       "      <td>0.447865</td>\n",
       "      <td>0.015623</td>\n",
       "      <td>-0.185771</td>\n",
       "      <td>0.113575</td>\n",
       "      <td>0.200341</td>\n",
       "      <td>0.713867</td>\n",
       "      <td>0.120981</td>\n",
       "    </tr>\n",
       "    <tr>\n",
       "      <th>sqft_above</th>\n",
       "      <td>-0.010799</td>\n",
       "      <td>0.605368</td>\n",
       "      <td>0.479386</td>\n",
       "      <td>0.686668</td>\n",
       "      <td>0.876448</td>\n",
       "      <td>0.184139</td>\n",
       "      <td>0.523989</td>\n",
       "      <td>0.071778</td>\n",
       "      <td>0.166017</td>\n",
       "      <td>-0.158904</td>\n",
       "      <td>0.756073</td>\n",
       "      <td>1.000000</td>\n",
       "      <td>-0.051175</td>\n",
       "      <td>0.424037</td>\n",
       "      <td>0.020645</td>\n",
       "      <td>-0.261570</td>\n",
       "      <td>-0.001199</td>\n",
       "      <td>0.344842</td>\n",
       "      <td>0.731767</td>\n",
       "      <td>0.195077</td>\n",
       "    </tr>\n",
       "    <tr>\n",
       "      <th>sqft_basement</th>\n",
       "      <td>-0.004359</td>\n",
       "      <td>0.321108</td>\n",
       "      <td>0.297229</td>\n",
       "      <td>0.278485</td>\n",
       "      <td>0.428660</td>\n",
       "      <td>0.015031</td>\n",
       "      <td>-0.241866</td>\n",
       "      <td>0.083050</td>\n",
       "      <td>0.270629</td>\n",
       "      <td>0.168482</td>\n",
       "      <td>0.165843</td>\n",
       "      <td>-0.051175</td>\n",
       "      <td>1.000000</td>\n",
       "      <td>-0.130085</td>\n",
       "      <td>0.065008</td>\n",
       "      <td>0.073271</td>\n",
       "      <td>0.109853</td>\n",
       "      <td>-0.142369</td>\n",
       "      <td>0.199288</td>\n",
       "      <td>0.015885</td>\n",
       "    </tr>\n",
       "    <tr>\n",
       "      <th>yr_built</th>\n",
       "      <td>0.021617</td>\n",
       "      <td>0.053953</td>\n",
       "      <td>0.155670</td>\n",
       "      <td>0.507173</td>\n",
       "      <td>0.318152</td>\n",
       "      <td>0.052946</td>\n",
       "      <td>0.489193</td>\n",
       "      <td>-0.024487</td>\n",
       "      <td>-0.054452</td>\n",
       "      <td>-0.361592</td>\n",
       "      <td>0.447865</td>\n",
       "      <td>0.424037</td>\n",
       "      <td>-0.130085</td>\n",
       "      <td>1.000000</td>\n",
       "      <td>-0.202555</td>\n",
       "      <td>-0.347210</td>\n",
       "      <td>-0.148370</td>\n",
       "      <td>0.409993</td>\n",
       "      <td>0.326377</td>\n",
       "      <td>0.070777</td>\n",
       "    </tr>\n",
       "    <tr>\n",
       "      <th>yr_renovated</th>\n",
       "      <td>-0.010612</td>\n",
       "      <td>0.117855</td>\n",
       "      <td>0.017900</td>\n",
       "      <td>0.047177</td>\n",
       "      <td>0.051060</td>\n",
       "      <td>0.004979</td>\n",
       "      <td>0.003793</td>\n",
       "      <td>0.073939</td>\n",
       "      <td>0.090339</td>\n",
       "      <td>-0.055808</td>\n",
       "      <td>0.015623</td>\n",
       "      <td>0.020645</td>\n",
       "      <td>0.065008</td>\n",
       "      <td>-0.202555</td>\n",
       "      <td>1.000000</td>\n",
       "      <td>0.062397</td>\n",
       "      <td>0.027970</td>\n",
       "      <td>-0.064543</td>\n",
       "      <td>0.000683</td>\n",
       "      <td>0.004286</td>\n",
       "    </tr>\n",
       "    <tr>\n",
       "      <th>zipcode</th>\n",
       "      <td>-0.008211</td>\n",
       "      <td>-0.053402</td>\n",
       "      <td>-0.154092</td>\n",
       "      <td>-0.204786</td>\n",
       "      <td>-0.199802</td>\n",
       "      <td>-0.129586</td>\n",
       "      <td>-0.059541</td>\n",
       "      <td>0.028923</td>\n",
       "      <td>0.085059</td>\n",
       "      <td>0.002888</td>\n",
       "      <td>-0.185771</td>\n",
       "      <td>-0.261570</td>\n",
       "      <td>0.073271</td>\n",
       "      <td>-0.347210</td>\n",
       "      <td>0.062397</td>\n",
       "      <td>1.000000</td>\n",
       "      <td>0.266742</td>\n",
       "      <td>-0.564259</td>\n",
       "      <td>-0.279299</td>\n",
       "      <td>-0.147294</td>\n",
       "    </tr>\n",
       "    <tr>\n",
       "      <th>lat</th>\n",
       "      <td>-0.001798</td>\n",
       "      <td>0.306692</td>\n",
       "      <td>-0.009951</td>\n",
       "      <td>0.024280</td>\n",
       "      <td>0.052155</td>\n",
       "      <td>-0.085514</td>\n",
       "      <td>0.049239</td>\n",
       "      <td>-0.012157</td>\n",
       "      <td>0.006321</td>\n",
       "      <td>-0.015102</td>\n",
       "      <td>0.113575</td>\n",
       "      <td>-0.001199</td>\n",
       "      <td>0.109853</td>\n",
       "      <td>-0.148370</td>\n",
       "      <td>0.027970</td>\n",
       "      <td>0.266742</td>\n",
       "      <td>1.000000</td>\n",
       "      <td>-0.135371</td>\n",
       "      <td>0.048679</td>\n",
       "      <td>-0.086139</td>\n",
       "    </tr>\n",
       "    <tr>\n",
       "      <th>long</th>\n",
       "      <td>0.020672</td>\n",
       "      <td>0.022036</td>\n",
       "      <td>0.132054</td>\n",
       "      <td>0.224903</td>\n",
       "      <td>0.241214</td>\n",
       "      <td>0.230227</td>\n",
       "      <td>0.125943</td>\n",
       "      <td>-0.037628</td>\n",
       "      <td>-0.077702</td>\n",
       "      <td>-0.105877</td>\n",
       "      <td>0.200341</td>\n",
       "      <td>0.344842</td>\n",
       "      <td>-0.142369</td>\n",
       "      <td>0.409993</td>\n",
       "      <td>-0.064543</td>\n",
       "      <td>-0.564259</td>\n",
       "      <td>-0.135371</td>\n",
       "      <td>1.000000</td>\n",
       "      <td>0.335626</td>\n",
       "      <td>0.255586</td>\n",
       "    </tr>\n",
       "    <tr>\n",
       "      <th>sqft_living15</th>\n",
       "      <td>-0.002701</td>\n",
       "      <td>0.585241</td>\n",
       "      <td>0.393406</td>\n",
       "      <td>0.569884</td>\n",
       "      <td>0.756402</td>\n",
       "      <td>0.144763</td>\n",
       "      <td>0.280102</td>\n",
       "      <td>0.083823</td>\n",
       "      <td>0.278928</td>\n",
       "      <td>-0.093072</td>\n",
       "      <td>0.713867</td>\n",
       "      <td>0.731767</td>\n",
       "      <td>0.199288</td>\n",
       "      <td>0.326377</td>\n",
       "      <td>0.000683</td>\n",
       "      <td>-0.279299</td>\n",
       "      <td>0.048679</td>\n",
       "      <td>0.335626</td>\n",
       "      <td>1.000000</td>\n",
       "      <td>0.183515</td>\n",
       "    </tr>\n",
       "    <tr>\n",
       "      <th>sqft_lot15</th>\n",
       "      <td>-0.138557</td>\n",
       "      <td>0.082845</td>\n",
       "      <td>0.030690</td>\n",
       "      <td>0.088303</td>\n",
       "      <td>0.184342</td>\n",
       "      <td>0.718204</td>\n",
       "      <td>-0.010722</td>\n",
       "      <td>0.030658</td>\n",
       "      <td>0.073083</td>\n",
       "      <td>-0.003126</td>\n",
       "      <td>0.120981</td>\n",
       "      <td>0.195077</td>\n",
       "      <td>0.015885</td>\n",
       "      <td>0.070777</td>\n",
       "      <td>0.004286</td>\n",
       "      <td>-0.147294</td>\n",
       "      <td>-0.086139</td>\n",
       "      <td>0.255586</td>\n",
       "      <td>0.183515</td>\n",
       "      <td>1.000000</td>\n",
       "    </tr>\n",
       "  </tbody>\n",
       "</table>\n",
       "</div>"
      ],
      "text/plain": [
       "                     id     price  bedrooms  bathrooms  sqft_living  sqft_lot  \\\n",
       "id             1.000000 -0.016772  0.001150   0.005162    -0.012241 -0.131911   \n",
       "price         -0.016772  1.000000  0.308787   0.525906     0.701917  0.089876   \n",
       "bedrooms       0.001150  0.308787  1.000000   0.514508     0.578212  0.032471   \n",
       "bathrooms      0.005162  0.525906  0.514508   1.000000     0.755758  0.088373   \n",
       "sqft_living   -0.012241  0.701917  0.578212   0.755758     1.000000  0.173453   \n",
       "sqft_lot      -0.131911  0.089876  0.032471   0.088373     0.173453  1.000000   \n",
       "floors         0.018608  0.256804  0.177944   0.502582     0.353953 -0.004814   \n",
       "waterfront    -0.003599  0.264306 -0.002127   0.063629     0.104637  0.021459   \n",
       "view           0.011772  0.393497  0.078354   0.186016     0.281715  0.075054   \n",
       "condition     -0.023803  0.036056  0.026496  -0.126479    -0.059445 -0.008830   \n",
       "grade          0.008188  0.667951  0.356563   0.665838     0.762779  0.114731   \n",
       "sqft_above    -0.010799  0.605368  0.479386   0.686668     0.876448  0.184139   \n",
       "sqft_basement -0.004359  0.321108  0.297229   0.278485     0.428660  0.015031   \n",
       "yr_built       0.021617  0.053953  0.155670   0.507173     0.318152  0.052946   \n",
       "yr_renovated  -0.010612  0.117855  0.017900   0.047177     0.051060  0.004979   \n",
       "zipcode       -0.008211 -0.053402 -0.154092  -0.204786    -0.199802 -0.129586   \n",
       "lat           -0.001798  0.306692 -0.009951   0.024280     0.052155 -0.085514   \n",
       "long           0.020672  0.022036  0.132054   0.224903     0.241214  0.230227   \n",
       "sqft_living15 -0.002701  0.585241  0.393406   0.569884     0.756402  0.144763   \n",
       "sqft_lot15    -0.138557  0.082845  0.030690   0.088303     0.184342  0.718204   \n",
       "\n",
       "                 floors  waterfront      view  condition     grade  \\\n",
       "id             0.018608   -0.003599  0.011772  -0.023803  0.008188   \n",
       "price          0.256804    0.264306  0.393497   0.036056  0.667951   \n",
       "bedrooms       0.177944   -0.002127  0.078354   0.026496  0.356563   \n",
       "bathrooms      0.502582    0.063629  0.186016  -0.126479  0.665838   \n",
       "sqft_living    0.353953    0.104637  0.281715  -0.059445  0.762779   \n",
       "sqft_lot      -0.004814    0.021459  0.075054  -0.008830  0.114731   \n",
       "floors         1.000000    0.020797  0.028414  -0.264075  0.458794   \n",
       "waterfront     0.020797    1.000000  0.380543   0.016648  0.082818   \n",
       "view           0.028414    0.380543  1.000000   0.045622  0.249082   \n",
       "condition     -0.264075    0.016648  0.045622   1.000000 -0.146896   \n",
       "grade          0.458794    0.082818  0.249082  -0.146896  1.000000   \n",
       "sqft_above     0.523989    0.071778  0.166017  -0.158904  0.756073   \n",
       "sqft_basement -0.241866    0.083050  0.270629   0.168482  0.165843   \n",
       "yr_built       0.489193   -0.024487 -0.054452  -0.361592  0.447865   \n",
       "yr_renovated   0.003793    0.073939  0.090339  -0.055808  0.015623   \n",
       "zipcode       -0.059541    0.028923  0.085059   0.002888 -0.185771   \n",
       "lat            0.049239   -0.012157  0.006321  -0.015102  0.113575   \n",
       "long           0.125943   -0.037628 -0.077702  -0.105877  0.200341   \n",
       "sqft_living15  0.280102    0.083823  0.278928  -0.093072  0.713867   \n",
       "sqft_lot15    -0.010722    0.030658  0.073083  -0.003126  0.120981   \n",
       "\n",
       "               sqft_above  sqft_basement  yr_built  yr_renovated   zipcode  \\\n",
       "id              -0.010799      -0.004359  0.021617     -0.010612 -0.008211   \n",
       "price            0.605368       0.321108  0.053953      0.117855 -0.053402   \n",
       "bedrooms         0.479386       0.297229  0.155670      0.017900 -0.154092   \n",
       "bathrooms        0.686668       0.278485  0.507173      0.047177 -0.204786   \n",
       "sqft_living      0.876448       0.428660  0.318152      0.051060 -0.199802   \n",
       "sqft_lot         0.184139       0.015031  0.052946      0.004979 -0.129586   \n",
       "floors           0.523989      -0.241866  0.489193      0.003793 -0.059541   \n",
       "waterfront       0.071778       0.083050 -0.024487      0.073939  0.028923   \n",
       "view             0.166017       0.270629 -0.054452      0.090339  0.085059   \n",
       "condition       -0.158904       0.168482 -0.361592     -0.055808  0.002888   \n",
       "grade            0.756073       0.165843  0.447865      0.015623 -0.185771   \n",
       "sqft_above       1.000000      -0.051175  0.424037      0.020645 -0.261570   \n",
       "sqft_basement   -0.051175       1.000000 -0.130085      0.065008  0.073271   \n",
       "yr_built         0.424037      -0.130085  1.000000     -0.202555 -0.347210   \n",
       "yr_renovated     0.020645       0.065008 -0.202555      1.000000  0.062397   \n",
       "zipcode         -0.261570       0.073271 -0.347210      0.062397  1.000000   \n",
       "lat             -0.001199       0.109853 -0.148370      0.027970  0.266742   \n",
       "long             0.344842      -0.142369  0.409993     -0.064543 -0.564259   \n",
       "sqft_living15    0.731767       0.199288  0.326377      0.000683 -0.279299   \n",
       "sqft_lot15       0.195077       0.015885  0.070777      0.004286 -0.147294   \n",
       "\n",
       "                    lat      long  sqft_living15  sqft_lot15  \n",
       "id            -0.001798  0.020672      -0.002701   -0.138557  \n",
       "price          0.306692  0.022036       0.585241    0.082845  \n",
       "bedrooms      -0.009951  0.132054       0.393406    0.030690  \n",
       "bathrooms      0.024280  0.224903       0.569884    0.088303  \n",
       "sqft_living    0.052155  0.241214       0.756402    0.184342  \n",
       "sqft_lot      -0.085514  0.230227       0.144763    0.718204  \n",
       "floors         0.049239  0.125943       0.280102   -0.010722  \n",
       "waterfront    -0.012157 -0.037628       0.083823    0.030658  \n",
       "view           0.006321 -0.077702       0.278928    0.073083  \n",
       "condition     -0.015102 -0.105877      -0.093072   -0.003126  \n",
       "grade          0.113575  0.200341       0.713867    0.120981  \n",
       "sqft_above    -0.001199  0.344842       0.731767    0.195077  \n",
       "sqft_basement  0.109853 -0.142369       0.199288    0.015885  \n",
       "yr_built      -0.148370  0.409993       0.326377    0.070777  \n",
       "yr_renovated   0.027970 -0.064543       0.000683    0.004286  \n",
       "zipcode        0.266742 -0.564259      -0.279299   -0.147294  \n",
       "lat            1.000000 -0.135371       0.048679   -0.086139  \n",
       "long          -0.135371  1.000000       0.335626    0.255586  \n",
       "sqft_living15  0.048679  0.335626       1.000000    0.183515  \n",
       "sqft_lot15    -0.086139  0.255586       0.183515    1.000000  "
      ]
     },
     "execution_count": 14,
     "metadata": {},
     "output_type": "execute_result"
    }
   ],
   "source": [
    "kc_df.corr()"
   ]
  },
  {
   "cell_type": "markdown",
   "metadata": {},
   "source": [
    "## Data Structure"
   ]
  },
  {
   "cell_type": "markdown",
   "metadata": {},
   "source": [
    "The data set contains mix of continuous and categorical values. They are separated by columns and below is a brief summary of each columns. Further details can be found in King County website."
   ]
  },
  {
   "cell_type": "markdown",
   "metadata": {},
   "source": [
    "### Column Description"
   ]
  },
  {
   "cell_type": "markdown",
   "metadata": {},
   "source": [
    "- id - unique ID for a house\n",
    "- date - Date day house was sold\n",
    "- price - Price is prediction target\n",
    "- bedrooms - Number of bedrooms\n",
    "- bathrooms - Number of bathrooms\n",
    "- sqft_living - square footage of the home\n",
    "- sqft_lot - square footage of the lot\n",
    "- floors - Total floors (levels) in house\n",
    "- waterfront - Whether house has a view to a waterfront\n",
    "- view - Number of times house has been viewed\n",
    "- condition - How good the condition is (overall)\n",
    "- grade - overall grade given to the housing unit, based on King County grading system\n",
    "- sqft_above - square footage of house (apart from basement)\n",
    "- sqft_basement - square footage of the basement\n",
    "- yr_built - Year when house was built\n",
    "- yr_renovated - Year when house was renovated\n",
    "- zipcode - zip code in which house is located\n",
    "- lat - Latitude coordinate\n",
    "- long - Longitude coordinate\n",
    "- sqft_living15 - The square footage of interior housing living space for the nearest 15 neighbors\n",
    "- sqft_lot15 - The square footage of the land lots of the nearest 15 neighbors"
   ]
  },
  {
   "cell_type": "markdown",
   "metadata": {},
   "source": [
    "Given that many columns contain categorical values that are not pertinent to basic statistical analysis, only few will be chosen for brief overlook of the data."
   ]
  },
  {
   "cell_type": "code",
   "execution_count": 15,
   "metadata": {},
   "outputs": [],
   "source": [
    "features = [\"price\", \"yr_built\", \"bedrooms\", \"bathrooms\", \"sqft_living\", \"sqft_lot\",\n",
    "                    \"floors\", \"condition\", \"grade\", \"sqft_living15\", \"sqft_lot15\", \"season\", \"price_zipcode\"]"
   ]
  },
  {
   "cell_type": "code",
   "execution_count": 16,
   "metadata": {},
   "outputs": [
    {
     "ename": "KeyError",
     "evalue": "\"['price_zipcode', 'season'] not in index\"",
     "output_type": "error",
     "traceback": [
      "\u001b[0;31m---------------------------------------------------------------------------\u001b[0m",
      "\u001b[0;31mKeyError\u001b[0m                                  Traceback (most recent call last)",
      "\u001b[0;32m<ipython-input-16-7e9dfdc91328>\u001b[0m in \u001b[0;36m<module>\u001b[0;34m\u001b[0m\n\u001b[0;32m----> 1\u001b[0;31m \u001b[0mkc_df\u001b[0m\u001b[0;34m[\u001b[0m\u001b[0mfeatures\u001b[0m\u001b[0;34m]\u001b[0m\u001b[0;34m.\u001b[0m\u001b[0mdescribe\u001b[0m\u001b[0;34m(\u001b[0m\u001b[0;34m)\u001b[0m\u001b[0;34m\u001b[0m\u001b[0;34m\u001b[0m\u001b[0m\n\u001b[0m",
      "\u001b[0;32m~/opt/anaconda3/envs/learn-env/lib/python3.8/site-packages/pandas/core/frame.py\u001b[0m in \u001b[0;36m__getitem__\u001b[0;34m(self, key)\u001b[0m\n\u001b[1;32m   2906\u001b[0m             \u001b[0;32mif\u001b[0m \u001b[0mis_iterator\u001b[0m\u001b[0;34m(\u001b[0m\u001b[0mkey\u001b[0m\u001b[0;34m)\u001b[0m\u001b[0;34m:\u001b[0m\u001b[0;34m\u001b[0m\u001b[0;34m\u001b[0m\u001b[0m\n\u001b[1;32m   2907\u001b[0m                 \u001b[0mkey\u001b[0m \u001b[0;34m=\u001b[0m \u001b[0mlist\u001b[0m\u001b[0;34m(\u001b[0m\u001b[0mkey\u001b[0m\u001b[0;34m)\u001b[0m\u001b[0;34m\u001b[0m\u001b[0;34m\u001b[0m\u001b[0m\n\u001b[0;32m-> 2908\u001b[0;31m             \u001b[0mindexer\u001b[0m \u001b[0;34m=\u001b[0m \u001b[0mself\u001b[0m\u001b[0;34m.\u001b[0m\u001b[0mloc\u001b[0m\u001b[0;34m.\u001b[0m\u001b[0m_get_listlike_indexer\u001b[0m\u001b[0;34m(\u001b[0m\u001b[0mkey\u001b[0m\u001b[0;34m,\u001b[0m \u001b[0maxis\u001b[0m\u001b[0;34m=\u001b[0m\u001b[0;36m1\u001b[0m\u001b[0;34m,\u001b[0m \u001b[0mraise_missing\u001b[0m\u001b[0;34m=\u001b[0m\u001b[0;32mTrue\u001b[0m\u001b[0;34m)\u001b[0m\u001b[0;34m[\u001b[0m\u001b[0;36m1\u001b[0m\u001b[0;34m]\u001b[0m\u001b[0;34m\u001b[0m\u001b[0;34m\u001b[0m\u001b[0m\n\u001b[0m\u001b[1;32m   2909\u001b[0m \u001b[0;34m\u001b[0m\u001b[0m\n\u001b[1;32m   2910\u001b[0m         \u001b[0;31m# take() does not accept boolean indexers\u001b[0m\u001b[0;34m\u001b[0m\u001b[0;34m\u001b[0m\u001b[0;34m\u001b[0m\u001b[0m\n",
      "\u001b[0;32m~/opt/anaconda3/envs/learn-env/lib/python3.8/site-packages/pandas/core/indexing.py\u001b[0m in \u001b[0;36m_get_listlike_indexer\u001b[0;34m(self, key, axis, raise_missing)\u001b[0m\n\u001b[1;32m   1252\u001b[0m             \u001b[0mkeyarr\u001b[0m\u001b[0;34m,\u001b[0m \u001b[0mindexer\u001b[0m\u001b[0;34m,\u001b[0m \u001b[0mnew_indexer\u001b[0m \u001b[0;34m=\u001b[0m \u001b[0max\u001b[0m\u001b[0;34m.\u001b[0m\u001b[0m_reindex_non_unique\u001b[0m\u001b[0;34m(\u001b[0m\u001b[0mkeyarr\u001b[0m\u001b[0;34m)\u001b[0m\u001b[0;34m\u001b[0m\u001b[0;34m\u001b[0m\u001b[0m\n\u001b[1;32m   1253\u001b[0m \u001b[0;34m\u001b[0m\u001b[0m\n\u001b[0;32m-> 1254\u001b[0;31m         \u001b[0mself\u001b[0m\u001b[0;34m.\u001b[0m\u001b[0m_validate_read_indexer\u001b[0m\u001b[0;34m(\u001b[0m\u001b[0mkeyarr\u001b[0m\u001b[0;34m,\u001b[0m \u001b[0mindexer\u001b[0m\u001b[0;34m,\u001b[0m \u001b[0maxis\u001b[0m\u001b[0;34m,\u001b[0m \u001b[0mraise_missing\u001b[0m\u001b[0;34m=\u001b[0m\u001b[0mraise_missing\u001b[0m\u001b[0;34m)\u001b[0m\u001b[0;34m\u001b[0m\u001b[0;34m\u001b[0m\u001b[0m\n\u001b[0m\u001b[1;32m   1255\u001b[0m         \u001b[0;32mreturn\u001b[0m \u001b[0mkeyarr\u001b[0m\u001b[0;34m,\u001b[0m \u001b[0mindexer\u001b[0m\u001b[0;34m\u001b[0m\u001b[0;34m\u001b[0m\u001b[0m\n\u001b[1;32m   1256\u001b[0m \u001b[0;34m\u001b[0m\u001b[0m\n",
      "\u001b[0;32m~/opt/anaconda3/envs/learn-env/lib/python3.8/site-packages/pandas/core/indexing.py\u001b[0m in \u001b[0;36m_validate_read_indexer\u001b[0;34m(self, key, indexer, axis, raise_missing)\u001b[0m\n\u001b[1;32m   1302\u001b[0m             \u001b[0;32mif\u001b[0m \u001b[0mraise_missing\u001b[0m\u001b[0;34m:\u001b[0m\u001b[0;34m\u001b[0m\u001b[0;34m\u001b[0m\u001b[0m\n\u001b[1;32m   1303\u001b[0m                 \u001b[0mnot_found\u001b[0m \u001b[0;34m=\u001b[0m \u001b[0mlist\u001b[0m\u001b[0;34m(\u001b[0m\u001b[0mset\u001b[0m\u001b[0;34m(\u001b[0m\u001b[0mkey\u001b[0m\u001b[0;34m)\u001b[0m \u001b[0;34m-\u001b[0m \u001b[0mset\u001b[0m\u001b[0;34m(\u001b[0m\u001b[0max\u001b[0m\u001b[0;34m)\u001b[0m\u001b[0;34m)\u001b[0m\u001b[0;34m\u001b[0m\u001b[0;34m\u001b[0m\u001b[0m\n\u001b[0;32m-> 1304\u001b[0;31m                 \u001b[0;32mraise\u001b[0m \u001b[0mKeyError\u001b[0m\u001b[0;34m(\u001b[0m\u001b[0;34mf\"{not_found} not in index\"\u001b[0m\u001b[0;34m)\u001b[0m\u001b[0;34m\u001b[0m\u001b[0;34m\u001b[0m\u001b[0m\n\u001b[0m\u001b[1;32m   1305\u001b[0m \u001b[0;34m\u001b[0m\u001b[0m\n\u001b[1;32m   1306\u001b[0m             \u001b[0;31m# we skip the warning on Categorical\u001b[0m\u001b[0;34m\u001b[0m\u001b[0;34m\u001b[0m\u001b[0;34m\u001b[0m\u001b[0m\n",
      "\u001b[0;31mKeyError\u001b[0m: \"['price_zipcode', 'season'] not in index\""
     ]
    }
   ],
   "source": [
    "kc_df[features].describe()"
   ]
  },
  {
   "cell_type": "code",
   "execution_count": null,
   "metadata": {},
   "outputs": [],
   "source": [
    "kc_df1 = kc_df[features]"
   ]
  },
  {
   "cell_type": "markdown",
   "metadata": {},
   "source": [
    "## Correlation Review"
   ]
  },
  {
   "cell_type": "markdown",
   "metadata": {},
   "source": [
    "Our next logical step would be to investigate correlation amongst variables. First we will look at this more generally, then we will narrow our results to variables that are more highly correlated with our y-variable, price."
   ]
  },
  {
   "cell_type": "code",
   "execution_count": null,
   "metadata": {},
   "outputs": [],
   "source": [
    "sns.heatmap(kc_df.corr(), center=0);"
   ]
  },
  {
   "cell_type": "code",
   "execution_count": null,
   "metadata": {},
   "outputs": [],
   "source": [
    "#Look at which features are highly correlated with our y-variable, price.\n",
    "kc_df.corr()[abs(kc_df.corr()['price']) > 0.3]"
   ]
  },
  {
   "cell_type": "markdown",
   "metadata": {},
   "source": [
    "We should also look at variables to see if they are correlated with each other, in order to investigate potential multicollinearity."
   ]
  },
  {
   "cell_type": "code",
   "execution_count": null,
   "metadata": {},
   "outputs": [],
   "source": [
    "kc_df = kc_df.corr().abs().stack().reset_index().sort_values(0, ascending=False)\n",
    "\n",
    "kc_df['pairs'] = list(zip(kc_df.level_0, kc_df.level_1))\n",
    "\n",
    "kc_df.set_index(['pairs'], inplace = True)\n",
    "\n",
    "kc_df.drop(columns=['level_1', 'level_0'], inplace = True)\n",
    "\n",
    "# cc for correlation coefficient\n",
    "kc_df.columns = ['cc']\n",
    "\n",
    "kc_df.drop_duplicates(inplace=True)\n",
    "\n",
    "kc_df[(kc_df.cc>.75) & (kc_df.cc<1)]"
   ]
  },
  {
   "cell_type": "markdown",
   "metadata": {},
   "source": [
    "We see here that several variable-pairs are correlated with one another. We will consider dropping variables that are highly correlated with one another in order to prevent multicollinearity in our model."
   ]
  },
  {
   "cell_type": "markdown",
   "metadata": {},
   "source": [
    "## Bedrooms"
   ]
  },
  {
   "cell_type": "code",
   "execution_count": null,
   "metadata": {},
   "outputs": [],
   "source": []
  },
  {
   "cell_type": "code",
   "execution_count": null,
   "metadata": {},
   "outputs": [],
   "source": []
  },
  {
   "cell_type": "code",
   "execution_count": null,
   "metadata": {},
   "outputs": [],
   "source": []
  },
  {
   "cell_type": "markdown",
   "metadata": {},
   "source": [
    "## Bathrooms"
   ]
  },
  {
   "cell_type": "code",
   "execution_count": null,
   "metadata": {},
   "outputs": [],
   "source": [
    "# histogram of the bathrooms\n",
    "plt.hist(kc_df['bathrooms'], bins=10)\n",
    "plt.show()"
   ]
  },
  {
   "cell_type": "markdown",
   "metadata": {},
   "source": [
    "There seems to be outliers up of up 8 bathrooms in this dataset. This dataset will be power transformed into a gaussian distribution."
   ]
  },
  {
   "cell_type": "code",
   "execution_count": null,
   "metadata": {},
   "outputs": [],
   "source": [
    "kc_df['bathrooms_lg'] =np.log(kc_df['bathrooms'])\n",
    "plt.hist(kc_df['bathrooms_lg'], bins=10)\n",
    "plt.show()"
   ]
  },
  {
   "cell_type": "markdown",
   "metadata": {},
   "source": [
    "Bathroom_lg now presents a normalized distribution of the bathroom information."
   ]
  },
  {
   "cell_type": "markdown",
   "metadata": {},
   "source": [
    "## Lot Size"
   ]
  },
  {
   "cell_type": "code",
   "execution_count": 43,
   "metadata": {},
   "outputs": [
    {
     "data": {
      "image/png": "[encoded data removed]",
      "text/plain": [
       "<Figure size 432x288 with 1 Axes>"
      ]
     },
     "metadata": {
      "needs_background": "light"
     },
     "output_type": "display_data"
    }
   ],
   "source": [
    "# histogram of the lot size\n",
    "plt.hist(kc_df['sqft_lot'], bins=10)\n",
    "plt.show()"
   ]
  },
  {
   "cell_type": "code",
   "execution_count": 42,
   "metadata": {},
   "outputs": [
    {
     "data": {
      "image/png": "[encoded data removed]",
      "text/plain": [
       "<Figure size 432x288 with 1 Axes>"
      ]
     },
     "metadata": {
      "needs_background": "light"
     },
     "output_type": "display_data"
    }
   ],
   "source": [
    "kc_df['sqftlot_lg'] =np.log(kc_df['sqft_lot'])\n",
    "plt.hist(kc_df['sqft_lg'], bins=10)\n",
    "plt.show()"
   ]
  },
  {
   "cell_type": "markdown",
   "metadata": {},
   "source": [
    "## Lot Size 15"
   ]
  },
  {
   "cell_type": "code",
   "execution_count": 44,
   "metadata": {},
   "outputs": [
    {
     "data": {
      "image/png": "[encoded data removed]",
      "text/plain": [
       "<Figure size 432x288 with 1 Axes>"
      ]
     },
     "metadata": {
      "needs_background": "light"
     },
     "output_type": "display_data"
    }
   ],
   "source": [
    "# histogram of the lot size\n",
    "plt.hist(kc_df['sqft_lot15'], bins=10)\n",
    "plt.show()"
   ]
  },
  {
   "cell_type": "code",
   "execution_count": 45,
   "metadata": {},
   "outputs": [
    {
     "data": {
      "image/png": "[encoded data removed]",
      "text/plain": [
       "<Figure size 432x288 with 1 Axes>"
      ]
     },
     "metadata": {
      "needs_background": "light"
     },
     "output_type": "display_data"
    }
   ],
   "source": [
    "kc_df['sqft15_lg'] =np.log(kc_df['sqft_lot15'])\n",
    "plt.hist(kc_df['sqft15_lg'], bins=10)\n",
    "plt.show()"
   ]
  },
  {
   "cell_type": "code",
   "execution_count": null,
   "metadata": {},
   "outputs": [],
   "source": []
  },
  {
   "cell_type": "code",
   "execution_count": 47,
   "metadata": {},
   "outputs": [
    {
     "data": {
      "image/png": "[encoded data removed]",
      "text/plain": [
       "<Figure size 432x288 with 1 Axes>"
      ]
     },
     "metadata": {
      "needs_background": "light"
     },
     "output_type": "display_data"
    }
   ],
   "source": [
    "kc_df['sqftabv_lg'] =np.log(kc_df['sqft_above'])\n",
    "plt.hist(kc_df['sqftabv_lg'], bins=10)\n",
    "plt.show()"
   ]
  },
  {
   "cell_type": "code",
   "execution_count": null,
   "metadata": {},
   "outputs": [],
   "source": []
  },
  {
   "cell_type": "code",
   "execution_count": 48,
   "metadata": {},
   "outputs": [
    {
     "data": {
      "image/png": "[encoded data removed]",
      "text/plain": [
       "<Figure size 432x288 with 1 Axes>"
      ]
     },
     "metadata": {
      "needs_background": "light"
     },
     "output_type": "display_data"
    }
   ],
   "source": [
    "kc_df['sqftlv15_lg'] =np.log(kc_df['sqft_living'])\n",
    "plt.hist(kc_df['sqft15_lg'], bins=10)\n",
    "plt.show()"
   ]
  },
  {
   "cell_type": "code",
   "execution_count": null,
   "metadata": {},
   "outputs": [],
   "source": []
  },
  {
   "cell_type": "code",
   "execution_count": 49,
   "metadata": {},
   "outputs": [
    {
     "data": {
      "image/png": "[encoded data removed]",
      "text/plain": [
       "<Figure size 432x288 with 1 Axes>"
      ]
     },
     "metadata": {
      "needs_background": "light"
     },
     "output_type": "display_data"
    }
   ],
   "source": [
    "kc_df['price_lg'] =np.log(kc_df['price'])\n",
    "plt.hist(kc_df['price_lg'], bins=10)\n",
    "plt.show()"
   ]
  },
  {
   "cell_type": "code",
   "execution_count": 60,
   "metadata": {},
   "outputs": [],
   "source": [
    "# Removed the condition and grade because the VIF shows high collinaerity among these groups.\n",
    "cat2 = ['view', 'waterfront','renovated', 'Age', 'basement', 'bedrooms']"
   ]
  },
  {
   "cell_type": "code",
   "execution_count": 63,
   "metadata": {},
   "outputs": [],
   "source": [
    "cat2_kc_df = kc_df[cat2].astype('category')\n",
    "dummies = pd.get_dummies(cat2_kc_df, prefix=cat2, drop_first=True)\n",
    "\n",
    "kc_p1 = kc_df.drop(cat2, axis=1)\n",
    "\n",
    "kc_p1 = pd.concat([kc_p1, dummies], axis=1)"
   ]
  },
  {
   "cell_type": "code",
   "execution_count": 65,
   "metadata": {},
   "outputs": [],
   "source": [
    "X2 = kc_p1.drop(['price','id', 'date', 'lat', 'long', 'yr_renovated', 'zipcode', 'sqft_living', 'sqft_lot', 'yr_built', 'sqft_living15', 'sqft_basement', 'sqft_above', 'price_lg', 'sqft_lot15'], axis = 1)\n",
    "y2 = kc_p1['price']"
   ]
  },
  {
   "cell_type": "code",
   "execution_count": 66,
   "metadata": {},
   "outputs": [
    {
     "name": "stdout",
     "output_type": "stream",
     "text": [
      "                            OLS Regression Results                            \n",
      "==============================================================================\n",
      "Dep. Variable:                  price   R-squared:                       0.586\n",
      "Model:                            OLS   Adj. R-squared:                  0.585\n",
      "Method:                 Least Squares   F-statistic:                     1325.\n",
      "Date:                Mon, 31 May 2021   Prob (F-statistic):               0.00\n",
      "Time:                        15:01:30   Log-Likelihood:            -2.9788e+05\n",
      "No. Observations:               21597   AIC:                         5.958e+05\n",
      "Df Residuals:                   21573   BIC:                         5.960e+05\n",
      "Df Model:                          23                                         \n",
      "Covariance Type:            nonrobust                                         \n",
      "==================================================================================\n",
      "                     coef    std err          t      P>|t|      [0.025      0.975]\n",
      "----------------------------------------------------------------------------------\n",
      "const          -2.123e+06   5.15e+04    -41.237      0.000   -2.22e+06   -2.02e+06\n",
      "bathrooms       3.146e+04   3691.903      8.521      0.000    2.42e+04    3.87e+04\n",
      "floors         -3.042e+04   4654.412     -6.536      0.000   -3.95e+04   -2.13e+04\n",
      "condition       5.904e+04   2684.584     21.991      0.000    5.38e+04    6.43e+04\n",
      "grade           1.439e+05   2304.174     62.433      0.000    1.39e+05    1.48e+05\n",
      "sqftlot_lg      5628.5803   4701.181      1.197      0.231   -3586.081    1.48e+04\n",
      "sqft15_lg      -3.691e+04   5051.178     -7.308      0.000   -4.68e+04    -2.7e+04\n",
      "sqftabv_lg      2.171e+05   1.58e+04     13.718      0.000    1.86e+05    2.48e+05\n",
      "sqftlv15_lg     2.294e+04    1.6e+04      1.434      0.152   -8419.061    5.43e+04\n",
      "view_1.0        1.485e+05   1.32e+04     11.210      0.000    1.23e+05    1.74e+05\n",
      "view_2.0         9.96e+04   8000.033     12.450      0.000    8.39e+04    1.15e+05\n",
      "view_3.0        1.807e+05   1.09e+04     16.585      0.000    1.59e+05    2.02e+05\n",
      "view_4.0        3.673e+05   1.66e+04     22.161      0.000    3.35e+05       4e+05\n",
      "waterfront_1.0  5.728e+05    2.4e+04     23.882      0.000    5.26e+05     6.2e+05\n",
      "renovated_2     2.171e+05   1.59e+04     13.664      0.000    1.86e+05    2.48e+05\n",
      "renovated_3     1.552e+05   1.95e+04      7.948      0.000    1.17e+05    1.93e+05\n",
      "Age_2          -6.092e+04   5552.860    -10.972      0.000   -7.18e+04      -5e+04\n",
      "Age_3          -5.526e+04   7858.286     -7.032      0.000   -7.07e+04   -3.99e+04\n",
      "basement_1       9.35e+04   6629.727     14.103      0.000    8.05e+04    1.06e+05\n",
      "bedrooms_2     -1.088e+05   1.76e+04     -6.166      0.000   -1.43e+05   -7.42e+04\n",
      "bedrooms_3      -2.25e+05   1.76e+04    -12.802      0.000   -2.59e+05   -1.91e+05\n",
      "bedrooms_4     -2.344e+05   1.82e+04    -12.913      0.000    -2.7e+05   -1.99e+05\n",
      "bedrooms_5      -1.71e+05   1.92e+04     -8.902      0.000   -2.09e+05   -1.33e+05\n",
      "bedrooms_6     -1.416e+05   2.28e+04     -6.221      0.000   -1.86e+05    -9.7e+04\n",
      "==============================================================================\n",
      "Omnibus:                    18497.044   Durbin-Watson:                   1.979\n",
      "Prob(Omnibus):                  0.000   Jarque-Bera (JB):          1966833.728\n",
      "Skew:                           3.592   Prob(JB):                         0.00\n",
      "Kurtosis:                      49.196   Cond. No.                         610.\n",
      "==============================================================================\n",
      "\n",
      "Notes:\n",
      "[1] Standard Errors assume that the covariance matrix of the errors is correctly specified.\n"
     ]
    }
   ],
   "source": [
    "predictors_int = sm.add_constant(X2)\n",
    "model1 = sm.OLS(kc_p1['price'],predictors_int).fit()\n",
    "print(model1.summary())"
   ]
  },
  {
   "cell_type": "code",
   "execution_count": 69,
   "metadata": {},
   "outputs": [],
   "source": [
    "# Drop both 'sqftlot_lg' and 'sqftlv15_lg' since they are nor providing significant pvalues.\n",
    "X3 = kc_p1.drop(['price','sqftlot_lg','sqftlv15_lg','id', 'date', 'lat', 'long', 'yr_renovated', 'zipcode', 'sqft_living', 'sqft_lot', 'yr_built', 'sqft_living15', 'sqft_basement', 'sqft_above', 'price_lg', 'sqft_lot15'], axis = 1)\n",
    "y2 = kc_p1['price']"
   ]
  },
  {
   "cell_type": "code",
   "execution_count": 70,
   "metadata": {},
   "outputs": [
    {
     "name": "stdout",
     "output_type": "stream",
     "text": [
      "                            OLS Regression Results                            \n",
      "==============================================================================\n",
      "Dep. Variable:                  price   R-squared:                       0.585\n",
      "Model:                            OLS   Adj. R-squared:                  0.585\n",
      "Method:                 Least Squares   F-statistic:                     1451.\n",
      "Date:                Mon, 31 May 2021   Prob (F-statistic):               0.00\n",
      "Time:                        15:05:15   Log-Likelihood:            -2.9788e+05\n",
      "No. Observations:               21597   AIC:                         5.958e+05\n",
      "Df Residuals:                   21575   BIC:                         5.960e+05\n",
      "Df Model:                          21                                         \n",
      "Covariance Type:            nonrobust                                         \n",
      "==================================================================================\n",
      "                     coef    std err          t      P>|t|      [0.025      0.975]\n",
      "----------------------------------------------------------------------------------\n",
      "const          -2.111e+06   4.92e+04    -42.939      0.000   -2.21e+06   -2.01e+06\n",
      "bathrooms       3.243e+04   3629.541      8.935      0.000    2.53e+04    3.95e+04\n",
      "floors         -3.238e+04   4538.817     -7.134      0.000   -4.13e+04   -2.35e+04\n",
      "condition       5.925e+04   2669.975     22.193      0.000     5.4e+04    6.45e+04\n",
      "grade            1.44e+05   2289.429     62.915      0.000     1.4e+05    1.49e+05\n",
      "sqft15_lg      -3.138e+04   2504.288    -12.529      0.000   -3.63e+04   -2.65e+04\n",
      "sqftabv_lg      2.382e+05   8418.201     28.300      0.000    2.22e+05    2.55e+05\n",
      "view_1.0        1.486e+05   1.32e+04     11.217      0.000    1.23e+05    1.75e+05\n",
      "view_2.0        1.001e+05   7995.832     12.516      0.000    8.44e+04    1.16e+05\n",
      "view_3.0        1.815e+05   1.09e+04     16.674      0.000     1.6e+05    2.03e+05\n",
      "view_4.0         3.68e+05   1.66e+04     22.211      0.000    3.36e+05    4.01e+05\n",
      "waterfront_1.0  5.727e+05    2.4e+04     23.878      0.000    5.26e+05     6.2e+05\n",
      "renovated_2     2.171e+05   1.59e+04     13.665      0.000    1.86e+05    2.48e+05\n",
      "renovated_3     1.555e+05   1.95e+04      7.967      0.000    1.17e+05    1.94e+05\n",
      "Age_2          -6.163e+04   5529.183    -11.146      0.000   -7.25e+04   -5.08e+04\n",
      "Age_3          -5.623e+04   7814.482     -7.195      0.000   -7.15e+04   -4.09e+04\n",
      "basement_1      1.008e+05   4255.532     23.698      0.000    9.25e+04    1.09e+05\n",
      "bedrooms_2      -1.08e+05   1.76e+04     -6.128      0.000   -1.43e+05   -7.35e+04\n",
      "bedrooms_3     -2.235e+05   1.75e+04    -12.754      0.000   -2.58e+05   -1.89e+05\n",
      "bedrooms_4     -2.318e+05    1.8e+04    -12.854      0.000   -2.67e+05   -1.96e+05\n",
      "bedrooms_5     -1.677e+05    1.9e+04     -8.808      0.000   -2.05e+05    -1.3e+05\n",
      "bedrooms_6     -1.379e+05   2.26e+04     -6.099      0.000   -1.82e+05   -9.36e+04\n",
      "==============================================================================\n",
      "Omnibus:                    18473.273   Durbin-Watson:                   1.979\n",
      "Prob(Omnibus):                  0.000   Jarque-Bera (JB):          1957806.659\n",
      "Skew:                           3.585   Prob(JB):                         0.00\n",
      "Kurtosis:                      49.089   Cond. No.                         459.\n",
      "==============================================================================\n",
      "\n",
      "Notes:\n",
      "[1] Standard Errors assume that the covariance matrix of the errors is correctly specified.\n"
     ]
    }
   ],
   "source": [
    "predictors_int = sm.add_constant(X3)\n",
    "model2 = sm.OLS(kc_p1['price'],predictors_int).fit()\n",
    "print(model2.summary())"
   ]
  },
  {
   "cell_type": "code",
   "execution_count": null,
   "metadata": {},
   "outputs": [],
   "source": [
    "# Log transforming Price\n",
    "X3 = kc_p1.drop(['price','sqftlot_lg','sqftlv15_lg','id', 'date', 'lat', 'long', 'yr_renovated', 'zipcode', 'sqft_living', 'sqft_lot', 'yr_built', 'sqft_living15', 'sqft_basement', 'sqft_above', 'price_lg', 'sqft_lot15'], axis = 1)\n"
   ]
  },
  {
   "cell_type": "code",
   "execution_count": 71,
   "metadata": {},
   "outputs": [
    {
     "name": "stdout",
     "output_type": "stream",
     "text": [
      "                            OLS Regression Results                            \n",
      "==============================================================================\n",
      "Dep. Variable:               price_lg   R-squared:                       0.612\n",
      "Model:                            OLS   Adj. R-squared:                  0.611\n",
      "Method:                 Least Squares   F-statistic:                     1619.\n",
      "Date:                Mon, 31 May 2021   Prob (F-statistic):               0.00\n",
      "Time:                        15:07:37   Log-Likelihood:                -6574.7\n",
      "No. Observations:               21597   AIC:                         1.319e+04\n",
      "Df Residuals:                   21575   BIC:                         1.337e+04\n",
      "Df Model:                          21                                         \n",
      "Covariance Type:            nonrobust                                         \n",
      "==================================================================================\n",
      "                     coef    std err          t      P>|t|      [0.025      0.975]\n",
      "----------------------------------------------------------------------------------\n",
      "const              8.4875      0.068    124.464      0.000       8.354       8.621\n",
      "bathrooms          0.0009      0.005      0.176      0.860      -0.009       0.011\n",
      "floors             0.0116      0.006      1.837      0.066      -0.001       0.024\n",
      "condition          0.0994      0.004     26.848      0.000       0.092       0.107\n",
      "grade              0.2074      0.003     65.300      0.000       0.201       0.214\n",
      "sqft15_lg         -0.0552      0.003    -15.898      0.000      -0.062      -0.048\n",
      "sqftabv_lg         0.4346      0.012     37.221      0.000       0.412       0.458\n",
      "view_1.0           0.2111      0.018     11.487      0.000       0.175       0.247\n",
      "view_2.0           0.1495      0.011     13.482      0.000       0.128       0.171\n",
      "view_3.0           0.2042      0.015     13.529      0.000       0.175       0.234\n",
      "view_4.0           0.3253      0.023     14.151      0.000       0.280       0.370\n",
      "waterfront_1.0     0.3788      0.033     11.387      0.000       0.314       0.444\n",
      "renovated_2        0.2474      0.022     11.229      0.000       0.204       0.291\n",
      "renovated_3        0.2754      0.027     10.172      0.000       0.222       0.328\n",
      "Age_2             -0.0818      0.008    -10.661      0.000      -0.097      -0.067\n",
      "Age_3             -0.0582      0.011     -5.373      0.000      -0.079      -0.037\n",
      "basement_1         0.2294      0.006     38.857      0.000       0.218       0.241\n",
      "bedrooms_2        -0.0895      0.024     -3.660      0.000      -0.137      -0.042\n",
      "bedrooms_3        -0.2318      0.024     -9.534      0.000      -0.279      -0.184\n",
      "bedrooms_4        -0.2204      0.025     -8.811      0.000      -0.269      -0.171\n",
      "bedrooms_5        -0.1780      0.026     -6.740      0.000      -0.230      -0.126\n",
      "bedrooms_6        -0.1737      0.031     -5.539      0.000      -0.235      -0.112\n",
      "==============================================================================\n",
      "Omnibus:                        8.424   Durbin-Watson:                   1.975\n",
      "Prob(Omnibus):                  0.015   Jarque-Bera (JB):                9.061\n",
      "Skew:                           0.010   Prob(JB):                       0.0108\n",
      "Kurtosis:                       3.098   Cond. No.                         459.\n",
      "==============================================================================\n",
      "\n",
      "Notes:\n",
      "[1] Standard Errors assume that the covariance matrix of the errors is correctly specified.\n"
     ]
    }
   ],
   "source": [
    "predictors_int = sm.add_constant(X3)\n",
    "model3 = sm.OLS(kc_p1['price_lg'],predictors_int).fit()\n",
    "print(model3.summary())"
   ]
  },
  {
   "cell_type": "code",
   "execution_count": null,
   "metadata": {},
   "outputs": [],
   "source": []
  },
  {
   "cell_type": "code",
   "execution_count": null,
   "metadata": {},
   "outputs": [],
   "source": []
  },
  {
   "cell_type": "code",
   "execution_count": null,
   "metadata": {},
   "outputs": [],
   "source": []
  },
  {
   "cell_type": "code",
   "execution_count": null,
   "metadata": {},
   "outputs": [],
   "source": []
  },
  {
   "cell_type": "code",
   "execution_count": null,
   "metadata": {},
   "outputs": [],
   "source": []
  },
  {
   "cell_type": "code",
   "execution_count": null,
   "metadata": {},
   "outputs": [],
   "source": []
  },
  {
   "cell_type": "code",
   "execution_count": null,
   "metadata": {},
   "outputs": [],
   "source": []
  },
  {
   "cell_type": "code",
   "execution_count": null,
   "metadata": {},
   "outputs": [],
   "source": []
  },
  {
   "cell_type": "code",
   "execution_count": null,
   "metadata": {},
   "outputs": [],
   "source": [
    "Model1 "
   ]
  },
  {
   "cell_type": "code",
   "execution_count": 56,
   "metadata": {},
   "outputs": [],
   "source": [
    "X1 = kc_df.drop(['price','id', 'date', 'lat', 'long', 'yr_renovated', 'zipcode', 'sqft_living', 'sqft_lot', 'yr_built', 'sqft_living15', 'sqft_basement', 'sqft_above', 'price_lg', 'sqft_lot15'], axis = 1)\n",
    "y1 = kc_df['price']"
   ]
  },
  {
   "cell_type": "code",
   "execution_count": 57,
   "metadata": {},
   "outputs": [
    {
     "name": "stdout",
     "output_type": "stream",
     "text": [
      "                            OLS Regression Results                            \n",
      "==============================================================================\n",
      "Dep. Variable:                  price   R-squared:                       0.569\n",
      "Model:                            OLS   Adj. R-squared:                  0.569\n",
      "Method:                 Least Squares   F-statistic:                     2033.\n",
      "Date:                Mon, 31 May 2021   Prob (F-statistic):               0.00\n",
      "Time:                        14:51:29   Log-Likelihood:            -2.9831e+05\n",
      "No. Observations:               21597   AIC:                         5.966e+05\n",
      "Df Residuals:                   21582   BIC:                         5.968e+05\n",
      "Df Model:                          14                                         \n",
      "Covariance Type:            nonrobust                                         \n",
      "===============================================================================\n",
      "                  coef    std err          t      P>|t|      [0.025      0.975]\n",
      "-------------------------------------------------------------------------------\n",
      "const       -2.154e+06   5.01e+04    -42.977      0.000   -2.25e+06   -2.06e+06\n",
      "bedrooms    -1.469e+04   2528.483     -5.809      0.000   -1.96e+04   -9733.154\n",
      "bathrooms    3.308e+04   3724.682      8.883      0.000    2.58e+04    4.04e+04\n",
      "floors      -3.516e+04   4712.326     -7.462      0.000   -4.44e+04   -2.59e+04\n",
      "waterfront   6.637e+05   2.17e+04     30.546      0.000    6.21e+05    7.06e+05\n",
      "view         7.241e+04   2448.290     29.575      0.000    6.76e+04    7.72e+04\n",
      "condition    5.851e+04   2721.594     21.498      0.000    5.32e+04    6.38e+04\n",
      "grade        1.446e+05   2345.507     61.659      0.000     1.4e+05    1.49e+05\n",
      "renovated    1.184e+05   8555.048     13.837      0.000    1.02e+05    1.35e+05\n",
      "basement     9.203e+04   6749.793     13.635      0.000    7.88e+04    1.05e+05\n",
      "Age         -3.462e+04   3731.938     -9.276      0.000   -4.19e+04   -2.73e+04\n",
      "sqftlot_lg   8616.6269   4790.045      1.799      0.072    -772.216     1.8e+04\n",
      "sqft15_lg   -3.991e+04   5141.598     -7.762      0.000      -5e+04   -2.98e+04\n",
      "sqftabv_lg   1.974e+05   1.61e+04     12.251      0.000    1.66e+05    2.29e+05\n",
      "sqftlv15_lg  1.405e+04   1.63e+04      0.864      0.388   -1.78e+04    4.59e+04\n",
      "==============================================================================\n",
      "Omnibus:                    18845.680   Durbin-Watson:                   1.977\n",
      "Prob(Omnibus):                  0.000   Jarque-Bera (JB):          2036908.608\n",
      "Skew:                           3.703   Prob(JB):                         0.00\n",
      "Kurtosis:                      49.997   Cond. No.                         589.\n",
      "==============================================================================\n",
      "\n",
      "Notes:\n",
      "[1] Standard Errors assume that the covariance matrix of the errors is correctly specified.\n"
     ]
    }
   ],
   "source": [
    "predictors_int = sm.add_constant(X1)\n",
    "model1 = sm.OLS(kc_df['price'],predictors_int).fit()\n",
    "print(model1.summary())"
   ]
  },
  {
   "cell_type": "code",
   "execution_count": null,
   "metadata": {},
   "outputs": [],
   "source": []
  },
  {
   "cell_type": "code",
   "execution_count": 72,
   "metadata": {},
   "outputs": [
    {
     "data": {
      "text/html": [
       "<div>\n",
       "<style scoped>\n",
       "    .dataframe tbody tr th:only-of-type {\n",
       "        vertical-align: middle;\n",
       "    }\n",
       "\n",
       "    .dataframe tbody tr th {\n",
       "        vertical-align: top;\n",
       "    }\n",
       "\n",
       "    .dataframe thead th {\n",
       "        text-align: right;\n",
       "    }\n",
       "</style>\n",
       "<table border=\"1\" class=\"dataframe\">\n",
       "  <thead>\n",
       "    <tr style=\"text-align: right;\">\n",
       "      <th></th>\n",
       "      <th>id</th>\n",
       "      <th>date</th>\n",
       "      <th>price</th>\n",
       "      <th>bedrooms</th>\n",
       "      <th>bathrooms</th>\n",
       "      <th>sqft_living</th>\n",
       "      <th>sqft_lot</th>\n",
       "      <th>floors</th>\n",
       "      <th>waterfront</th>\n",
       "      <th>view</th>\n",
       "      <th>condition</th>\n",
       "      <th>grade</th>\n",
       "      <th>sqft_above</th>\n",
       "      <th>sqft_basement</th>\n",
       "      <th>yr_built</th>\n",
       "      <th>yr_renovated</th>\n",
       "      <th>zipcode</th>\n",
       "      <th>lat</th>\n",
       "      <th>long</th>\n",
       "      <th>sqft_living15</th>\n",
       "      <th>sqft_lot15</th>\n",
       "      <th>renovated</th>\n",
       "      <th>basement</th>\n",
       "      <th>Age</th>\n",
       "      <th>sqftlot_lg</th>\n",
       "      <th>sqft15_lg</th>\n",
       "      <th>sqftabv_lg</th>\n",
       "      <th>sqftlv15_lg</th>\n",
       "      <th>price_lg</th>\n",
       "      <th>price_zipcode</th>\n",
       "    </tr>\n",
       "  </thead>\n",
       "  <tbody>\n",
       "    <tr>\n",
       "      <th>0</th>\n",
       "      <td>7129300520</td>\n",
       "      <td>10/13/2014</td>\n",
       "      <td>221900.0</td>\n",
       "      <td>3</td>\n",
       "      <td>1.00</td>\n",
       "      <td>1180</td>\n",
       "      <td>5650</td>\n",
       "      <td>1.0</td>\n",
       "      <td>0.0</td>\n",
       "      <td>0.0</td>\n",
       "      <td>3</td>\n",
       "      <td>7</td>\n",
       "      <td>1180</td>\n",
       "      <td>0.0</td>\n",
       "      <td>1955</td>\n",
       "      <td>0.0</td>\n",
       "      <td>98178</td>\n",
       "      <td>47.5112</td>\n",
       "      <td>-122.257</td>\n",
       "      <td>1340</td>\n",
       "      <td>5650</td>\n",
       "      <td>1</td>\n",
       "      <td>0</td>\n",
       "      <td>1</td>\n",
       "      <td>8.639411</td>\n",
       "      <td>8.639411</td>\n",
       "      <td>7.073270</td>\n",
       "      <td>7.073270</td>\n",
       "      <td>12.309982</td>\n",
       "      <td>310612.755725</td>\n",
       "    </tr>\n",
       "    <tr>\n",
       "      <th>1</th>\n",
       "      <td>6414100192</td>\n",
       "      <td>12/9/2014</td>\n",
       "      <td>538000.0</td>\n",
       "      <td>3</td>\n",
       "      <td>2.25</td>\n",
       "      <td>2570</td>\n",
       "      <td>7242</td>\n",
       "      <td>2.0</td>\n",
       "      <td>0.0</td>\n",
       "      <td>0.0</td>\n",
       "      <td>3</td>\n",
       "      <td>7</td>\n",
       "      <td>2170</td>\n",
       "      <td>400.0</td>\n",
       "      <td>1951</td>\n",
       "      <td>1991.0</td>\n",
       "      <td>98125</td>\n",
       "      <td>47.7210</td>\n",
       "      <td>-122.319</td>\n",
       "      <td>1690</td>\n",
       "      <td>7639</td>\n",
       "      <td>1</td>\n",
       "      <td>1</td>\n",
       "      <td>1</td>\n",
       "      <td>8.887653</td>\n",
       "      <td>8.941022</td>\n",
       "      <td>7.682482</td>\n",
       "      <td>7.851661</td>\n",
       "      <td>13.195614</td>\n",
       "      <td>469928.767726</td>\n",
       "    </tr>\n",
       "    <tr>\n",
       "      <th>2</th>\n",
       "      <td>5631500400</td>\n",
       "      <td>2/25/2015</td>\n",
       "      <td>180000.0</td>\n",
       "      <td>2</td>\n",
       "      <td>1.00</td>\n",
       "      <td>770</td>\n",
       "      <td>10000</td>\n",
       "      <td>1.0</td>\n",
       "      <td>0.0</td>\n",
       "      <td>0.0</td>\n",
       "      <td>3</td>\n",
       "      <td>6</td>\n",
       "      <td>770</td>\n",
       "      <td>0.0</td>\n",
       "      <td>1933</td>\n",
       "      <td>0.0</td>\n",
       "      <td>98028</td>\n",
       "      <td>47.7379</td>\n",
       "      <td>-122.233</td>\n",
       "      <td>2720</td>\n",
       "      <td>8062</td>\n",
       "      <td>1</td>\n",
       "      <td>0</td>\n",
       "      <td>1</td>\n",
       "      <td>9.210340</td>\n",
       "      <td>8.994917</td>\n",
       "      <td>6.646391</td>\n",
       "      <td>6.646391</td>\n",
       "      <td>12.100712</td>\n",
       "      <td>462488.869258</td>\n",
       "    </tr>\n",
       "    <tr>\n",
       "      <th>3</th>\n",
       "      <td>2487200875</td>\n",
       "      <td>12/9/2014</td>\n",
       "      <td>604000.0</td>\n",
       "      <td>4</td>\n",
       "      <td>3.00</td>\n",
       "      <td>1960</td>\n",
       "      <td>5000</td>\n",
       "      <td>1.0</td>\n",
       "      <td>0.0</td>\n",
       "      <td>0.0</td>\n",
       "      <td>5</td>\n",
       "      <td>7</td>\n",
       "      <td>1050</td>\n",
       "      <td>910.0</td>\n",
       "      <td>1965</td>\n",
       "      <td>0.0</td>\n",
       "      <td>98136</td>\n",
       "      <td>47.5208</td>\n",
       "      <td>-122.393</td>\n",
       "      <td>1360</td>\n",
       "      <td>5000</td>\n",
       "      <td>1</td>\n",
       "      <td>1</td>\n",
       "      <td>1</td>\n",
       "      <td>8.517193</td>\n",
       "      <td>8.517193</td>\n",
       "      <td>6.956545</td>\n",
       "      <td>7.580700</td>\n",
       "      <td>13.311329</td>\n",
       "      <td>551768.520913</td>\n",
       "    </tr>\n",
       "    <tr>\n",
       "      <th>4</th>\n",
       "      <td>1954400510</td>\n",
       "      <td>2/18/2015</td>\n",
       "      <td>510000.0</td>\n",
       "      <td>3</td>\n",
       "      <td>2.00</td>\n",
       "      <td>1680</td>\n",
       "      <td>8080</td>\n",
       "      <td>1.0</td>\n",
       "      <td>0.0</td>\n",
       "      <td>0.0</td>\n",
       "      <td>3</td>\n",
       "      <td>8</td>\n",
       "      <td>1680</td>\n",
       "      <td>0.0</td>\n",
       "      <td>1987</td>\n",
       "      <td>0.0</td>\n",
       "      <td>98074</td>\n",
       "      <td>47.6168</td>\n",
       "      <td>-122.045</td>\n",
       "      <td>1800</td>\n",
       "      <td>7503</td>\n",
       "      <td>1</td>\n",
       "      <td>0</td>\n",
       "      <td>1</td>\n",
       "      <td>8.997147</td>\n",
       "      <td>8.923058</td>\n",
       "      <td>7.426549</td>\n",
       "      <td>7.426549</td>\n",
       "      <td>13.142166</td>\n",
       "      <td>685675.843537</td>\n",
       "    </tr>\n",
       "    <tr>\n",
       "      <th>...</th>\n",
       "      <td>...</td>\n",
       "      <td>...</td>\n",
       "      <td>...</td>\n",
       "      <td>...</td>\n",
       "      <td>...</td>\n",
       "      <td>...</td>\n",
       "      <td>...</td>\n",
       "      <td>...</td>\n",
       "      <td>...</td>\n",
       "      <td>...</td>\n",
       "      <td>...</td>\n",
       "      <td>...</td>\n",
       "      <td>...</td>\n",
       "      <td>...</td>\n",
       "      <td>...</td>\n",
       "      <td>...</td>\n",
       "      <td>...</td>\n",
       "      <td>...</td>\n",
       "      <td>...</td>\n",
       "      <td>...</td>\n",
       "      <td>...</td>\n",
       "      <td>...</td>\n",
       "      <td>...</td>\n",
       "      <td>...</td>\n",
       "      <td>...</td>\n",
       "      <td>...</td>\n",
       "      <td>...</td>\n",
       "      <td>...</td>\n",
       "      <td>...</td>\n",
       "      <td>...</td>\n",
       "    </tr>\n",
       "    <tr>\n",
       "      <th>21592</th>\n",
       "      <td>263000018</td>\n",
       "      <td>5/21/2014</td>\n",
       "      <td>360000.0</td>\n",
       "      <td>3</td>\n",
       "      <td>2.50</td>\n",
       "      <td>1530</td>\n",
       "      <td>1131</td>\n",
       "      <td>3.0</td>\n",
       "      <td>0.0</td>\n",
       "      <td>0.0</td>\n",
       "      <td>3</td>\n",
       "      <td>8</td>\n",
       "      <td>1530</td>\n",
       "      <td>0.0</td>\n",
       "      <td>2009</td>\n",
       "      <td>0.0</td>\n",
       "      <td>98103</td>\n",
       "      <td>47.6993</td>\n",
       "      <td>-122.346</td>\n",
       "      <td>1530</td>\n",
       "      <td>1509</td>\n",
       "      <td>1</td>\n",
       "      <td>0</td>\n",
       "      <td>2</td>\n",
       "      <td>7.030857</td>\n",
       "      <td>7.319202</td>\n",
       "      <td>7.333023</td>\n",
       "      <td>7.333023</td>\n",
       "      <td>12.793859</td>\n",
       "      <td>585048.779070</td>\n",
       "    </tr>\n",
       "    <tr>\n",
       "      <th>21593</th>\n",
       "      <td>6600060120</td>\n",
       "      <td>2/23/2015</td>\n",
       "      <td>400000.0</td>\n",
       "      <td>4</td>\n",
       "      <td>2.50</td>\n",
       "      <td>2310</td>\n",
       "      <td>5813</td>\n",
       "      <td>2.0</td>\n",
       "      <td>0.0</td>\n",
       "      <td>0.0</td>\n",
       "      <td>3</td>\n",
       "      <td>8</td>\n",
       "      <td>2310</td>\n",
       "      <td>0.0</td>\n",
       "      <td>2014</td>\n",
       "      <td>0.0</td>\n",
       "      <td>98146</td>\n",
       "      <td>47.5107</td>\n",
       "      <td>-122.362</td>\n",
       "      <td>1830</td>\n",
       "      <td>7200</td>\n",
       "      <td>1</td>\n",
       "      <td>0</td>\n",
       "      <td>3</td>\n",
       "      <td>8.667852</td>\n",
       "      <td>8.881836</td>\n",
       "      <td>7.745003</td>\n",
       "      <td>7.745003</td>\n",
       "      <td>12.899220</td>\n",
       "      <td>359496.260417</td>\n",
       "    </tr>\n",
       "    <tr>\n",
       "      <th>21594</th>\n",
       "      <td>1523300141</td>\n",
       "      <td>6/23/2014</td>\n",
       "      <td>402101.0</td>\n",
       "      <td>2</td>\n",
       "      <td>0.75</td>\n",
       "      <td>1020</td>\n",
       "      <td>1350</td>\n",
       "      <td>2.0</td>\n",
       "      <td>0.0</td>\n",
       "      <td>0.0</td>\n",
       "      <td>3</td>\n",
       "      <td>7</td>\n",
       "      <td>1020</td>\n",
       "      <td>0.0</td>\n",
       "      <td>2009</td>\n",
       "      <td>0.0</td>\n",
       "      <td>98144</td>\n",
       "      <td>47.5944</td>\n",
       "      <td>-122.299</td>\n",
       "      <td>1020</td>\n",
       "      <td>2007</td>\n",
       "      <td>1</td>\n",
       "      <td>0</td>\n",
       "      <td>2</td>\n",
       "      <td>7.207860</td>\n",
       "      <td>7.604396</td>\n",
       "      <td>6.927558</td>\n",
       "      <td>6.927558</td>\n",
       "      <td>12.904459</td>\n",
       "      <td>594706.542274</td>\n",
       "    </tr>\n",
       "    <tr>\n",
       "      <th>21595</th>\n",
       "      <td>291310100</td>\n",
       "      <td>1/16/2015</td>\n",
       "      <td>400000.0</td>\n",
       "      <td>3</td>\n",
       "      <td>2.50</td>\n",
       "      <td>1600</td>\n",
       "      <td>2388</td>\n",
       "      <td>2.0</td>\n",
       "      <td>0.0</td>\n",
       "      <td>0.0</td>\n",
       "      <td>3</td>\n",
       "      <td>8</td>\n",
       "      <td>1600</td>\n",
       "      <td>0.0</td>\n",
       "      <td>2004</td>\n",
       "      <td>0.0</td>\n",
       "      <td>98027</td>\n",
       "      <td>47.5345</td>\n",
       "      <td>-122.069</td>\n",
       "      <td>1410</td>\n",
       "      <td>1287</td>\n",
       "      <td>1</td>\n",
       "      <td>0</td>\n",
       "      <td>2</td>\n",
       "      <td>7.778211</td>\n",
       "      <td>7.160069</td>\n",
       "      <td>7.377759</td>\n",
       "      <td>7.377759</td>\n",
       "      <td>12.899220</td>\n",
       "      <td>617053.966019</td>\n",
       "    </tr>\n",
       "    <tr>\n",
       "      <th>21596</th>\n",
       "      <td>1523300157</td>\n",
       "      <td>10/15/2014</td>\n",
       "      <td>325000.0</td>\n",
       "      <td>2</td>\n",
       "      <td>0.75</td>\n",
       "      <td>1020</td>\n",
       "      <td>1076</td>\n",
       "      <td>2.0</td>\n",
       "      <td>0.0</td>\n",
       "      <td>0.0</td>\n",
       "      <td>3</td>\n",
       "      <td>7</td>\n",
       "      <td>1020</td>\n",
       "      <td>0.0</td>\n",
       "      <td>2008</td>\n",
       "      <td>0.0</td>\n",
       "      <td>98144</td>\n",
       "      <td>47.5941</td>\n",
       "      <td>-122.299</td>\n",
       "      <td>1020</td>\n",
       "      <td>1357</td>\n",
       "      <td>1</td>\n",
       "      <td>0</td>\n",
       "      <td>2</td>\n",
       "      <td>6.981006</td>\n",
       "      <td>7.213032</td>\n",
       "      <td>6.927558</td>\n",
       "      <td>6.927558</td>\n",
       "      <td>12.691580</td>\n",
       "      <td>594706.542274</td>\n",
       "    </tr>\n",
       "  </tbody>\n",
       "</table>\n",
       "<p>21597 rows × 30 columns</p>\n",
       "</div>"
      ],
      "text/plain": [
       "               id        date     price  bedrooms  bathrooms  sqft_living  \\\n",
       "0      7129300520  10/13/2014  221900.0         3       1.00         1180   \n",
       "1      6414100192   12/9/2014  538000.0         3       2.25         2570   \n",
       "2      5631500400   2/25/2015  180000.0         2       1.00          770   \n",
       "3      2487200875   12/9/2014  604000.0         4       3.00         1960   \n",
       "4      1954400510   2/18/2015  510000.0         3       2.00         1680   \n",
       "...           ...         ...       ...       ...        ...          ...   \n",
       "21592   263000018   5/21/2014  360000.0         3       2.50         1530   \n",
       "21593  6600060120   2/23/2015  400000.0         4       2.50         2310   \n",
       "21594  1523300141   6/23/2014  402101.0         2       0.75         1020   \n",
       "21595   291310100   1/16/2015  400000.0         3       2.50         1600   \n",
       "21596  1523300157  10/15/2014  325000.0         2       0.75         1020   \n",
       "\n",
       "       sqft_lot  floors  waterfront  view  condition  grade  sqft_above  \\\n",
       "0          5650     1.0         0.0   0.0          3      7        1180   \n",
       "1          7242     2.0         0.0   0.0          3      7        2170   \n",
       "2         10000     1.0         0.0   0.0          3      6         770   \n",
       "3          5000     1.0         0.0   0.0          5      7        1050   \n",
       "4          8080     1.0         0.0   0.0          3      8        1680   \n",
       "...         ...     ...         ...   ...        ...    ...         ...   \n",
       "21592      1131     3.0         0.0   0.0          3      8        1530   \n",
       "21593      5813     2.0         0.0   0.0          3      8        2310   \n",
       "21594      1350     2.0         0.0   0.0          3      7        1020   \n",
       "21595      2388     2.0         0.0   0.0          3      8        1600   \n",
       "21596      1076     2.0         0.0   0.0          3      7        1020   \n",
       "\n",
       "       sqft_basement  yr_built  yr_renovated  zipcode      lat     long  \\\n",
       "0                0.0      1955           0.0    98178  47.5112 -122.257   \n",
       "1              400.0      1951        1991.0    98125  47.7210 -122.319   \n",
       "2                0.0      1933           0.0    98028  47.7379 -122.233   \n",
       "3              910.0      1965           0.0    98136  47.5208 -122.393   \n",
       "4                0.0      1987           0.0    98074  47.6168 -122.045   \n",
       "...              ...       ...           ...      ...      ...      ...   \n",
       "21592            0.0      2009           0.0    98103  47.6993 -122.346   \n",
       "21593            0.0      2014           0.0    98146  47.5107 -122.362   \n",
       "21594            0.0      2009           0.0    98144  47.5944 -122.299   \n",
       "21595            0.0      2004           0.0    98027  47.5345 -122.069   \n",
       "21596            0.0      2008           0.0    98144  47.5941 -122.299   \n",
       "\n",
       "       sqft_living15  sqft_lot15  renovated  basement  Age  sqftlot_lg  \\\n",
       "0               1340        5650          1         0    1    8.639411   \n",
       "1               1690        7639          1         1    1    8.887653   \n",
       "2               2720        8062          1         0    1    9.210340   \n",
       "3               1360        5000          1         1    1    8.517193   \n",
       "4               1800        7503          1         0    1    8.997147   \n",
       "...              ...         ...        ...       ...  ...         ...   \n",
       "21592           1530        1509          1         0    2    7.030857   \n",
       "21593           1830        7200          1         0    3    8.667852   \n",
       "21594           1020        2007          1         0    2    7.207860   \n",
       "21595           1410        1287          1         0    2    7.778211   \n",
       "21596           1020        1357          1         0    2    6.981006   \n",
       "\n",
       "       sqft15_lg  sqftabv_lg  sqftlv15_lg   price_lg  price_zipcode  \n",
       "0       8.639411    7.073270     7.073270  12.309982  310612.755725  \n",
       "1       8.941022    7.682482     7.851661  13.195614  469928.767726  \n",
       "2       8.994917    6.646391     6.646391  12.100712  462488.869258  \n",
       "3       8.517193    6.956545     7.580700  13.311329  551768.520913  \n",
       "4       8.923058    7.426549     7.426549  13.142166  685675.843537  \n",
       "...          ...         ...          ...        ...            ...  \n",
       "21592   7.319202    7.333023     7.333023  12.793859  585048.779070  \n",
       "21593   8.881836    7.745003     7.745003  12.899220  359496.260417  \n",
       "21594   7.604396    6.927558     6.927558  12.904459  594706.542274  \n",
       "21595   7.160069    7.377759     7.377759  12.899220  617053.966019  \n",
       "21596   7.213032    6.927558     6.927558  12.691580  594706.542274  \n",
       "\n",
       "[21597 rows x 30 columns]"
      ]
     },
     "execution_count": 72,
     "metadata": {},
     "output_type": "execute_result"
    }
   ],
   "source": [
    "kc_df['price_zipcode'] = kc_df.groupby(\"zipcode\")[\"price\"].transform('mean')\n",
    "kc_df"
   ]
  },
  {
   "cell_type": "code",
   "execution_count": 74,
   "metadata": {},
   "outputs": [
    {
     "data": {
      "text/html": [
       "<div>\n",
       "<style scoped>\n",
       "    .dataframe tbody tr th:only-of-type {\n",
       "        vertical-align: middle;\n",
       "    }\n",
       "\n",
       "    .dataframe tbody tr th {\n",
       "        vertical-align: top;\n",
       "    }\n",
       "\n",
       "    .dataframe thead th {\n",
       "        text-align: right;\n",
       "    }\n",
       "</style>\n",
       "<table border=\"1\" class=\"dataframe\">\n",
       "  <thead>\n",
       "    <tr style=\"text-align: right;\">\n",
       "      <th></th>\n",
       "      <th>id</th>\n",
       "      <th>date</th>\n",
       "      <th>price</th>\n",
       "      <th>bedrooms</th>\n",
       "      <th>bathrooms</th>\n",
       "      <th>sqft_living</th>\n",
       "      <th>sqft_lot</th>\n",
       "      <th>floors</th>\n",
       "      <th>waterfront</th>\n",
       "      <th>view</th>\n",
       "      <th>condition</th>\n",
       "      <th>grade</th>\n",
       "      <th>sqft_above</th>\n",
       "      <th>sqft_basement</th>\n",
       "      <th>yr_built</th>\n",
       "      <th>yr_renovated</th>\n",
       "      <th>zipcode</th>\n",
       "      <th>lat</th>\n",
       "      <th>long</th>\n",
       "      <th>sqft_living15</th>\n",
       "      <th>sqft_lot15</th>\n",
       "      <th>renovated</th>\n",
       "      <th>basement</th>\n",
       "      <th>Age</th>\n",
       "      <th>sqftlot_lg</th>\n",
       "      <th>sqft15_lg</th>\n",
       "      <th>sqftabv_lg</th>\n",
       "      <th>sqftlv15_lg</th>\n",
       "      <th>price_lg</th>\n",
       "      <th>price_zipcode</th>\n",
       "      <th>p_zipcode_Q</th>\n",
       "    </tr>\n",
       "  </thead>\n",
       "  <tbody>\n",
       "    <tr>\n",
       "      <th>0</th>\n",
       "      <td>7129300520</td>\n",
       "      <td>10/13/2014</td>\n",
       "      <td>221900.0</td>\n",
       "      <td>3</td>\n",
       "      <td>1.00</td>\n",
       "      <td>1180</td>\n",
       "      <td>5650</td>\n",
       "      <td>1.0</td>\n",
       "      <td>0.0</td>\n",
       "      <td>0.0</td>\n",
       "      <td>3</td>\n",
       "      <td>7</td>\n",
       "      <td>1180</td>\n",
       "      <td>0.0</td>\n",
       "      <td>1955</td>\n",
       "      <td>0.0</td>\n",
       "      <td>98178</td>\n",
       "      <td>47.5112</td>\n",
       "      <td>-122.257</td>\n",
       "      <td>1340</td>\n",
       "      <td>5650</td>\n",
       "      <td>1</td>\n",
       "      <td>0</td>\n",
       "      <td>1</td>\n",
       "      <td>8.639411</td>\n",
       "      <td>8.639411</td>\n",
       "      <td>7.073270</td>\n",
       "      <td>7.073270</td>\n",
       "      <td>12.309982</td>\n",
       "      <td>310612.755725</td>\n",
       "      <td>1</td>\n",
       "    </tr>\n",
       "    <tr>\n",
       "      <th>1</th>\n",
       "      <td>6414100192</td>\n",
       "      <td>12/9/2014</td>\n",
       "      <td>538000.0</td>\n",
       "      <td>3</td>\n",
       "      <td>2.25</td>\n",
       "      <td>2570</td>\n",
       "      <td>7242</td>\n",
       "      <td>2.0</td>\n",
       "      <td>0.0</td>\n",
       "      <td>0.0</td>\n",
       "      <td>3</td>\n",
       "      <td>7</td>\n",
       "      <td>2170</td>\n",
       "      <td>400.0</td>\n",
       "      <td>1951</td>\n",
       "      <td>1991.0</td>\n",
       "      <td>98125</td>\n",
       "      <td>47.7210</td>\n",
       "      <td>-122.319</td>\n",
       "      <td>1690</td>\n",
       "      <td>7639</td>\n",
       "      <td>1</td>\n",
       "      <td>1</td>\n",
       "      <td>1</td>\n",
       "      <td>8.887653</td>\n",
       "      <td>8.941022</td>\n",
       "      <td>7.682482</td>\n",
       "      <td>7.851661</td>\n",
       "      <td>13.195614</td>\n",
       "      <td>469928.767726</td>\n",
       "      <td>3</td>\n",
       "    </tr>\n",
       "    <tr>\n",
       "      <th>2</th>\n",
       "      <td>5631500400</td>\n",
       "      <td>2/25/2015</td>\n",
       "      <td>180000.0</td>\n",
       "      <td>2</td>\n",
       "      <td>1.00</td>\n",
       "      <td>770</td>\n",
       "      <td>10000</td>\n",
       "      <td>1.0</td>\n",
       "      <td>0.0</td>\n",
       "      <td>0.0</td>\n",
       "      <td>3</td>\n",
       "      <td>6</td>\n",
       "      <td>770</td>\n",
       "      <td>0.0</td>\n",
       "      <td>1933</td>\n",
       "      <td>0.0</td>\n",
       "      <td>98028</td>\n",
       "      <td>47.7379</td>\n",
       "      <td>-122.233</td>\n",
       "      <td>2720</td>\n",
       "      <td>8062</td>\n",
       "      <td>1</td>\n",
       "      <td>0</td>\n",
       "      <td>1</td>\n",
       "      <td>9.210340</td>\n",
       "      <td>8.994917</td>\n",
       "      <td>6.646391</td>\n",
       "      <td>6.646391</td>\n",
       "      <td>12.100712</td>\n",
       "      <td>462488.869258</td>\n",
       "      <td>3</td>\n",
       "    </tr>\n",
       "    <tr>\n",
       "      <th>3</th>\n",
       "      <td>2487200875</td>\n",
       "      <td>12/9/2014</td>\n",
       "      <td>604000.0</td>\n",
       "      <td>4</td>\n",
       "      <td>3.00</td>\n",
       "      <td>1960</td>\n",
       "      <td>5000</td>\n",
       "      <td>1.0</td>\n",
       "      <td>0.0</td>\n",
       "      <td>0.0</td>\n",
       "      <td>5</td>\n",
       "      <td>7</td>\n",
       "      <td>1050</td>\n",
       "      <td>910.0</td>\n",
       "      <td>1965</td>\n",
       "      <td>0.0</td>\n",
       "      <td>98136</td>\n",
       "      <td>47.5208</td>\n",
       "      <td>-122.393</td>\n",
       "      <td>1360</td>\n",
       "      <td>5000</td>\n",
       "      <td>1</td>\n",
       "      <td>1</td>\n",
       "      <td>1</td>\n",
       "      <td>8.517193</td>\n",
       "      <td>8.517193</td>\n",
       "      <td>6.956545</td>\n",
       "      <td>7.580700</td>\n",
       "      <td>13.311329</td>\n",
       "      <td>551768.520913</td>\n",
       "      <td>3</td>\n",
       "    </tr>\n",
       "    <tr>\n",
       "      <th>4</th>\n",
       "      <td>1954400510</td>\n",
       "      <td>2/18/2015</td>\n",
       "      <td>510000.0</td>\n",
       "      <td>3</td>\n",
       "      <td>2.00</td>\n",
       "      <td>1680</td>\n",
       "      <td>8080</td>\n",
       "      <td>1.0</td>\n",
       "      <td>0.0</td>\n",
       "      <td>0.0</td>\n",
       "      <td>3</td>\n",
       "      <td>8</td>\n",
       "      <td>1680</td>\n",
       "      <td>0.0</td>\n",
       "      <td>1987</td>\n",
       "      <td>0.0</td>\n",
       "      <td>98074</td>\n",
       "      <td>47.6168</td>\n",
       "      <td>-122.045</td>\n",
       "      <td>1800</td>\n",
       "      <td>7503</td>\n",
       "      <td>1</td>\n",
       "      <td>0</td>\n",
       "      <td>1</td>\n",
       "      <td>8.997147</td>\n",
       "      <td>8.923058</td>\n",
       "      <td>7.426549</td>\n",
       "      <td>7.426549</td>\n",
       "      <td>13.142166</td>\n",
       "      <td>685675.843537</td>\n",
       "      <td>5</td>\n",
       "    </tr>\n",
       "    <tr>\n",
       "      <th>...</th>\n",
       "      <td>...</td>\n",
       "      <td>...</td>\n",
       "      <td>...</td>\n",
       "      <td>...</td>\n",
       "      <td>...</td>\n",
       "      <td>...</td>\n",
       "      <td>...</td>\n",
       "      <td>...</td>\n",
       "      <td>...</td>\n",
       "      <td>...</td>\n",
       "      <td>...</td>\n",
       "      <td>...</td>\n",
       "      <td>...</td>\n",
       "      <td>...</td>\n",
       "      <td>...</td>\n",
       "      <td>...</td>\n",
       "      <td>...</td>\n",
       "      <td>...</td>\n",
       "      <td>...</td>\n",
       "      <td>...</td>\n",
       "      <td>...</td>\n",
       "      <td>...</td>\n",
       "      <td>...</td>\n",
       "      <td>...</td>\n",
       "      <td>...</td>\n",
       "      <td>...</td>\n",
       "      <td>...</td>\n",
       "      <td>...</td>\n",
       "      <td>...</td>\n",
       "      <td>...</td>\n",
       "      <td>...</td>\n",
       "    </tr>\n",
       "    <tr>\n",
       "      <th>21592</th>\n",
       "      <td>263000018</td>\n",
       "      <td>5/21/2014</td>\n",
       "      <td>360000.0</td>\n",
       "      <td>3</td>\n",
       "      <td>2.50</td>\n",
       "      <td>1530</td>\n",
       "      <td>1131</td>\n",
       "      <td>3.0</td>\n",
       "      <td>0.0</td>\n",
       "      <td>0.0</td>\n",
       "      <td>3</td>\n",
       "      <td>8</td>\n",
       "      <td>1530</td>\n",
       "      <td>0.0</td>\n",
       "      <td>2009</td>\n",
       "      <td>0.0</td>\n",
       "      <td>98103</td>\n",
       "      <td>47.6993</td>\n",
       "      <td>-122.346</td>\n",
       "      <td>1530</td>\n",
       "      <td>1509</td>\n",
       "      <td>1</td>\n",
       "      <td>0</td>\n",
       "      <td>2</td>\n",
       "      <td>7.030857</td>\n",
       "      <td>7.319202</td>\n",
       "      <td>7.333023</td>\n",
       "      <td>7.333023</td>\n",
       "      <td>12.793859</td>\n",
       "      <td>585048.779070</td>\n",
       "      <td>4</td>\n",
       "    </tr>\n",
       "    <tr>\n",
       "      <th>21593</th>\n",
       "      <td>6600060120</td>\n",
       "      <td>2/23/2015</td>\n",
       "      <td>400000.0</td>\n",
       "      <td>4</td>\n",
       "      <td>2.50</td>\n",
       "      <td>2310</td>\n",
       "      <td>5813</td>\n",
       "      <td>2.0</td>\n",
       "      <td>0.0</td>\n",
       "      <td>0.0</td>\n",
       "      <td>3</td>\n",
       "      <td>8</td>\n",
       "      <td>2310</td>\n",
       "      <td>0.0</td>\n",
       "      <td>2014</td>\n",
       "      <td>0.0</td>\n",
       "      <td>98146</td>\n",
       "      <td>47.5107</td>\n",
       "      <td>-122.362</td>\n",
       "      <td>1830</td>\n",
       "      <td>7200</td>\n",
       "      <td>1</td>\n",
       "      <td>0</td>\n",
       "      <td>3</td>\n",
       "      <td>8.667852</td>\n",
       "      <td>8.881836</td>\n",
       "      <td>7.745003</td>\n",
       "      <td>7.745003</td>\n",
       "      <td>12.899220</td>\n",
       "      <td>359496.260417</td>\n",
       "      <td>2</td>\n",
       "    </tr>\n",
       "    <tr>\n",
       "      <th>21594</th>\n",
       "      <td>1523300141</td>\n",
       "      <td>6/23/2014</td>\n",
       "      <td>402101.0</td>\n",
       "      <td>2</td>\n",
       "      <td>0.75</td>\n",
       "      <td>1020</td>\n",
       "      <td>1350</td>\n",
       "      <td>2.0</td>\n",
       "      <td>0.0</td>\n",
       "      <td>0.0</td>\n",
       "      <td>3</td>\n",
       "      <td>7</td>\n",
       "      <td>1020</td>\n",
       "      <td>0.0</td>\n",
       "      <td>2009</td>\n",
       "      <td>0.0</td>\n",
       "      <td>98144</td>\n",
       "      <td>47.5944</td>\n",
       "      <td>-122.299</td>\n",
       "      <td>1020</td>\n",
       "      <td>2007</td>\n",
       "      <td>1</td>\n",
       "      <td>0</td>\n",
       "      <td>2</td>\n",
       "      <td>7.207860</td>\n",
       "      <td>7.604396</td>\n",
       "      <td>6.927558</td>\n",
       "      <td>6.927558</td>\n",
       "      <td>12.904459</td>\n",
       "      <td>594706.542274</td>\n",
       "      <td>4</td>\n",
       "    </tr>\n",
       "    <tr>\n",
       "      <th>21595</th>\n",
       "      <td>291310100</td>\n",
       "      <td>1/16/2015</td>\n",
       "      <td>400000.0</td>\n",
       "      <td>3</td>\n",
       "      <td>2.50</td>\n",
       "      <td>1600</td>\n",
       "      <td>2388</td>\n",
       "      <td>2.0</td>\n",
       "      <td>0.0</td>\n",
       "      <td>0.0</td>\n",
       "      <td>3</td>\n",
       "      <td>8</td>\n",
       "      <td>1600</td>\n",
       "      <td>0.0</td>\n",
       "      <td>2004</td>\n",
       "      <td>0.0</td>\n",
       "      <td>98027</td>\n",
       "      <td>47.5345</td>\n",
       "      <td>-122.069</td>\n",
       "      <td>1410</td>\n",
       "      <td>1287</td>\n",
       "      <td>1</td>\n",
       "      <td>0</td>\n",
       "      <td>2</td>\n",
       "      <td>7.778211</td>\n",
       "      <td>7.160069</td>\n",
       "      <td>7.377759</td>\n",
       "      <td>7.377759</td>\n",
       "      <td>12.899220</td>\n",
       "      <td>617053.966019</td>\n",
       "      <td>4</td>\n",
       "    </tr>\n",
       "    <tr>\n",
       "      <th>21596</th>\n",
       "      <td>1523300157</td>\n",
       "      <td>10/15/2014</td>\n",
       "      <td>325000.0</td>\n",
       "      <td>2</td>\n",
       "      <td>0.75</td>\n",
       "      <td>1020</td>\n",
       "      <td>1076</td>\n",
       "      <td>2.0</td>\n",
       "      <td>0.0</td>\n",
       "      <td>0.0</td>\n",
       "      <td>3</td>\n",
       "      <td>7</td>\n",
       "      <td>1020</td>\n",
       "      <td>0.0</td>\n",
       "      <td>2008</td>\n",
       "      <td>0.0</td>\n",
       "      <td>98144</td>\n",
       "      <td>47.5941</td>\n",
       "      <td>-122.299</td>\n",
       "      <td>1020</td>\n",
       "      <td>1357</td>\n",
       "      <td>1</td>\n",
       "      <td>0</td>\n",
       "      <td>2</td>\n",
       "      <td>6.981006</td>\n",
       "      <td>7.213032</td>\n",
       "      <td>6.927558</td>\n",
       "      <td>6.927558</td>\n",
       "      <td>12.691580</td>\n",
       "      <td>594706.542274</td>\n",
       "      <td>4</td>\n",
       "    </tr>\n",
       "  </tbody>\n",
       "</table>\n",
       "<p>21597 rows × 31 columns</p>\n",
       "</div>"
      ],
      "text/plain": [
       "               id        date     price  bedrooms  bathrooms  sqft_living  \\\n",
       "0      7129300520  10/13/2014  221900.0         3       1.00         1180   \n",
       "1      6414100192   12/9/2014  538000.0         3       2.25         2570   \n",
       "2      5631500400   2/25/2015  180000.0         2       1.00          770   \n",
       "3      2487200875   12/9/2014  604000.0         4       3.00         1960   \n",
       "4      1954400510   2/18/2015  510000.0         3       2.00         1680   \n",
       "...           ...         ...       ...       ...        ...          ...   \n",
       "21592   263000018   5/21/2014  360000.0         3       2.50         1530   \n",
       "21593  6600060120   2/23/2015  400000.0         4       2.50         2310   \n",
       "21594  1523300141   6/23/2014  402101.0         2       0.75         1020   \n",
       "21595   291310100   1/16/2015  400000.0         3       2.50         1600   \n",
       "21596  1523300157  10/15/2014  325000.0         2       0.75         1020   \n",
       "\n",
       "       sqft_lot  floors  waterfront  view  condition  grade  sqft_above  \\\n",
       "0          5650     1.0         0.0   0.0          3      7        1180   \n",
       "1          7242     2.0         0.0   0.0          3      7        2170   \n",
       "2         10000     1.0         0.0   0.0          3      6         770   \n",
       "3          5000     1.0         0.0   0.0          5      7        1050   \n",
       "4          8080     1.0         0.0   0.0          3      8        1680   \n",
       "...         ...     ...         ...   ...        ...    ...         ...   \n",
       "21592      1131     3.0         0.0   0.0          3      8        1530   \n",
       "21593      5813     2.0         0.0   0.0          3      8        2310   \n",
       "21594      1350     2.0         0.0   0.0          3      7        1020   \n",
       "21595      2388     2.0         0.0   0.0          3      8        1600   \n",
       "21596      1076     2.0         0.0   0.0          3      7        1020   \n",
       "\n",
       "       sqft_basement  yr_built  yr_renovated  zipcode      lat     long  \\\n",
       "0                0.0      1955           0.0    98178  47.5112 -122.257   \n",
       "1              400.0      1951        1991.0    98125  47.7210 -122.319   \n",
       "2                0.0      1933           0.0    98028  47.7379 -122.233   \n",
       "3              910.0      1965           0.0    98136  47.5208 -122.393   \n",
       "4                0.0      1987           0.0    98074  47.6168 -122.045   \n",
       "...              ...       ...           ...      ...      ...      ...   \n",
       "21592            0.0      2009           0.0    98103  47.6993 -122.346   \n",
       "21593            0.0      2014           0.0    98146  47.5107 -122.362   \n",
       "21594            0.0      2009           0.0    98144  47.5944 -122.299   \n",
       "21595            0.0      2004           0.0    98027  47.5345 -122.069   \n",
       "21596            0.0      2008           0.0    98144  47.5941 -122.299   \n",
       "\n",
       "       sqft_living15  sqft_lot15  renovated  basement  Age  sqftlot_lg  \\\n",
       "0               1340        5650          1         0    1    8.639411   \n",
       "1               1690        7639          1         1    1    8.887653   \n",
       "2               2720        8062          1         0    1    9.210340   \n",
       "3               1360        5000          1         1    1    8.517193   \n",
       "4               1800        7503          1         0    1    8.997147   \n",
       "...              ...         ...        ...       ...  ...         ...   \n",
       "21592           1530        1509          1         0    2    7.030857   \n",
       "21593           1830        7200          1         0    3    8.667852   \n",
       "21594           1020        2007          1         0    2    7.207860   \n",
       "21595           1410        1287          1         0    2    7.778211   \n",
       "21596           1020        1357          1         0    2    6.981006   \n",
       "\n",
       "       sqft15_lg  sqftabv_lg  sqftlv15_lg   price_lg  price_zipcode  \\\n",
       "0       8.639411    7.073270     7.073270  12.309982  310612.755725   \n",
       "1       8.941022    7.682482     7.851661  13.195614  469928.767726   \n",
       "2       8.994917    6.646391     6.646391  12.100712  462488.869258   \n",
       "3       8.517193    6.956545     7.580700  13.311329  551768.520913   \n",
       "4       8.923058    7.426549     7.426549  13.142166  685675.843537   \n",
       "...          ...         ...          ...        ...            ...   \n",
       "21592   7.319202    7.333023     7.333023  12.793859  585048.779070   \n",
       "21593   8.881836    7.745003     7.745003  12.899220  359496.260417   \n",
       "21594   7.604396    6.927558     6.927558  12.904459  594706.542274   \n",
       "21595   7.160069    7.377759     7.377759  12.899220  617053.966019   \n",
       "21596   7.213032    6.927558     6.927558  12.691580  594706.542274   \n",
       "\n",
       "      p_zipcode_Q  \n",
       "0               1  \n",
       "1               3  \n",
       "2               3  \n",
       "3               3  \n",
       "4               5  \n",
       "...           ...  \n",
       "21592           4  \n",
       "21593           2  \n",
       "21594           4  \n",
       "21595           4  \n",
       "21596           4  \n",
       "\n",
       "[21597 rows x 31 columns]"
      ]
     },
     "execution_count": 74,
     "metadata": {},
     "output_type": "execute_result"
    }
   ],
   "source": [
    "quantiles = pd.qcut(kc_df['price_zipcode'], 5, labels=range(1,6))\n",
    "kc_df= kc_df.assign(p_zipcode_Q=quantiles.values)\n",
    "kc_df"
   ]
  },
  {
   "cell_type": "code",
   "execution_count": 88,
   "metadata": {},
   "outputs": [],
   "source": [
    "cat3 = ['view', 'waterfront','renovated', 'Age', 'basement', 'bedrooms','p_zipcode_Q']"
   ]
  },
  {
   "cell_type": "code",
   "execution_count": 89,
   "metadata": {},
   "outputs": [],
   "source": [
    "cat3_kc_df = kc_df[cat3].astype('category')\n",
    "dummies = pd.get_dummies(cat3_kc_df, prefix=cat3, drop_first=True)\n",
    "\n",
    "kc_p2 = kc_df.drop(cat3, axis=1)\n",
    "\n",
    "kc_p2 = pd.concat([kc_p2, dummies], axis=1)"
   ]
  },
  {
   "cell_type": "code",
   "execution_count": 92,
   "metadata": {},
   "outputs": [],
   "source": [
    "X4 = kc_p2.drop(['price','price_zipcode','sqftlot_lg','sqftlv15_lg','id', 'date', 'lat', 'long', 'yr_renovated', 'zipcode', 'sqft_living', 'sqft_lot', 'yr_built', 'sqft_living15', 'sqft_basement', 'sqft_above', 'price_lg', 'sqft_lot15'], axis = 1)"
   ]
  },
  {
   "cell_type": "code",
   "execution_count": 93,
   "metadata": {},
   "outputs": [
    {
     "name": "stdout",
     "output_type": "stream",
     "text": [
      "                            OLS Regression Results                            \n",
      "==============================================================================\n",
      "Dep. Variable:               price_lg   R-squared:                       0.810\n",
      "Model:                            OLS   Adj. R-squared:                  0.810\n",
      "Method:                 Least Squares   F-statistic:                     3675.\n",
      "Date:                Mon, 31 May 2021   Prob (F-statistic):               0.00\n",
      "Time:                        22:49:38   Log-Likelihood:                 1132.7\n",
      "No. Observations:               21597   AIC:                            -2213.\n",
      "Df Residuals:                   21571   BIC:                            -2006.\n",
      "Df Model:                          25                                         \n",
      "Covariance Type:            nonrobust                                         \n",
      "==================================================================================\n",
      "                     coef    std err          t      P>|t|      [0.025      0.975]\n",
      "----------------------------------------------------------------------------------\n",
      "const              8.6453      0.048    180.466      0.000       8.551       8.739\n",
      "bathrooms          0.0206      0.004      5.844      0.000       0.014       0.028\n",
      "floors            -0.0287      0.004     -6.492      0.000      -0.037      -0.020\n",
      "condition          0.0735      0.003     28.277      0.000       0.068       0.079\n",
      "grade              0.1147      0.002     49.193      0.000       0.110       0.119\n",
      "sqft15_lg         -0.0175      0.002     -7.146      0.000      -0.022      -0.013\n",
      "sqftabv_lg         0.4116      0.008     50.355      0.000       0.396       0.428\n",
      "view_1.0           0.1831      0.013     14.230      0.000       0.158       0.208\n",
      "view_2.0           0.1652      0.008     21.271      0.000       0.150       0.180\n",
      "view_3.0           0.2386      0.011     22.574      0.000       0.218       0.259\n",
      "view_4.0           0.3662      0.016     22.740      0.000       0.335       0.398\n",
      "waterfront_1.0     0.4020      0.023     17.254      0.000       0.356       0.448\n",
      "renovated_2        0.1906      0.015     12.352      0.000       0.160       0.221\n",
      "renovated_3        0.2008      0.019     10.595      0.000       0.164       0.238\n",
      "Age_2             -0.0277      0.005     -5.127      0.000      -0.038      -0.017\n",
      "Age_3              0.0382      0.008      5.008      0.000       0.023       0.053\n",
      "basement_1         0.1680      0.004     40.468      0.000       0.160       0.176\n",
      "bedrooms_2        -0.0521      0.017     -3.044      0.002      -0.086      -0.019\n",
      "bedrooms_3        -0.1242      0.017     -7.295      0.000      -0.158      -0.091\n",
      "bedrooms_4        -0.1058      0.018     -6.039      0.000      -0.140      -0.071\n",
      "bedrooms_5        -0.0850      0.018     -4.599      0.000      -0.121      -0.049\n",
      "bedrooms_6        -0.0875      0.022     -3.985      0.000      -0.131      -0.044\n",
      "p_zipcode_Q_2      0.2452      0.005     49.650      0.000       0.235       0.255\n",
      "p_zipcode_Q_3      0.4512      0.005     90.298      0.000       0.441       0.461\n",
      "p_zipcode_Q_4      0.5940      0.005    117.353      0.000       0.584       0.604\n",
      "p_zipcode_Q_5      0.7355      0.006    133.498      0.000       0.725       0.746\n",
      "==============================================================================\n",
      "Omnibus:                      571.099   Durbin-Watson:                   1.976\n",
      "Prob(Omnibus):                  0.000   Jarque-Bera (JB):             1258.249\n",
      "Skew:                           0.133   Prob(JB):                    5.95e-274\n",
      "Kurtosis:                       4.152   Cond. No.                         461.\n",
      "==============================================================================\n",
      "\n",
      "Notes:\n",
      "[1] Standard Errors assume that the covariance matrix of the errors is correctly specified.\n"
     ]
    }
   ],
   "source": [
    "predictors_int = sm.add_constant(X4)\n",
    "model4 = sm.OLS(kc_df['price_lg'],predictors_int).fit()\n",
    "print(model4.summary())"
   ]
  },
  {
   "cell_type": "code",
   "execution_count": null,
   "metadata": {},
   "outputs": [],
   "source": []
  },
  {
   "cell_type": "code",
   "execution_count": 94,
   "metadata": {},
   "outputs": [],
   "source": [
    " def getSeason(date):\n",
    "    month = int(date.split(\"/\")[0])\n",
    "    if (month > 11 or month <= 3):\n",
    "       return \"Winter\"\n",
    "    elif (month == 4 or month == 5):\n",
    "       return \"Spring\"\n",
    "    elif (month >=6 and month <= 9):\n",
    "       return \"Summer\"\n",
    "    else:\n",
    "       return \"Fall\""
   ]
  },
  {
   "cell_type": "code",
   "execution_count": 95,
   "metadata": {},
   "outputs": [
    {
     "data": {
      "text/plain": [
       "Summer    8099\n",
       "Winter    5570\n",
       "Spring    4643\n",
       "Fall      3285\n",
       "Name: season, dtype: int64"
      ]
     },
     "execution_count": 95,
     "metadata": {},
     "output_type": "execute_result"
    }
   ],
   "source": [
    "kc_df['season'] = kc_df.date.map(getSeason)\n",
    "kc_df['season'].value_counts()"
   ]
  },
  {
   "cell_type": "code",
   "execution_count": 96,
   "metadata": {},
   "outputs": [],
   "source": [
    "cat4 = ['view', 'waterfront','renovated', 'Age', 'basement', 'bedrooms','p_zipcode_Q', 'season']"
   ]
  },
  {
   "cell_type": "code",
   "execution_count": 97,
   "metadata": {},
   "outputs": [],
   "source": [
    "cat4_kc_df = kc_df[cat4].astype('category')\n",
    "dummies = pd.get_dummies(cat4_kc_df, prefix=cat4, drop_first=True)\n",
    "\n",
    "kc_p3 = kc_df.drop(cat4, axis=1)\n",
    "\n",
    "kc_p3 = pd.concat([kc_p3, dummies], axis=1)"
   ]
  },
  {
   "cell_type": "code",
   "execution_count": 98,
   "metadata": {},
   "outputs": [],
   "source": [
    "X5 = kc_p3.drop(['price','price_zipcode','sqftlot_lg','sqftlv15_lg','id', 'date', 'lat', 'long', 'yr_renovated', 'zipcode', 'sqft_living', 'sqft_lot', 'yr_built', 'sqft_living15', 'sqft_basement', 'sqft_above', 'price_lg', 'sqft_lot15'], axis = 1)"
   ]
  },
  {
   "cell_type": "code",
   "execution_count": 99,
   "metadata": {},
   "outputs": [
    {
     "name": "stdout",
     "output_type": "stream",
     "text": [
      "                            OLS Regression Results                            \n",
      "==============================================================================\n",
      "Dep. Variable:               price_lg   R-squared:                       0.811\n",
      "Model:                            OLS   Adj. R-squared:                  0.811\n",
      "Method:                 Least Squares   F-statistic:                     3308.\n",
      "Date:                Mon, 31 May 2021   Prob (F-statistic):               0.00\n",
      "Time:                        22:57:07   Log-Likelihood:                 1204.9\n",
      "No. Observations:               21597   AIC:                            -2352.\n",
      "Df Residuals:                   21568   BIC:                            -2120.\n",
      "Df Model:                          28                                         \n",
      "Covariance Type:            nonrobust                                         \n",
      "==================================================================================\n",
      "                     coef    std err          t      P>|t|      [0.025      0.975]\n",
      "----------------------------------------------------------------------------------\n",
      "const              8.6180      0.048    179.910      0.000       8.524       8.712\n",
      "bathrooms          0.0209      0.004      5.935      0.000       0.014       0.028\n",
      "floors            -0.0281      0.004     -6.382      0.000      -0.037      -0.019\n",
      "condition          0.0746      0.003     28.750      0.000       0.070       0.080\n",
      "grade              0.1145      0.002     49.246      0.000       0.110       0.119\n",
      "sqft15_lg         -0.0176      0.002     -7.190      0.000      -0.022      -0.013\n",
      "sqftabv_lg         0.4130      0.008     50.677      0.000       0.397       0.429\n",
      "view_1.0           0.1829      0.013     14.261      0.000       0.158       0.208\n",
      "view_2.0           0.1643      0.008     21.224      0.000       0.149       0.179\n",
      "view_3.0           0.2386      0.011     22.643      0.000       0.218       0.259\n",
      "view_4.0           0.3660      0.016     22.799      0.000       0.334       0.397\n",
      "waterfront_1.0     0.4028      0.023     17.342      0.000       0.357       0.448\n",
      "renovated_2        0.1889      0.015     12.278      0.000       0.159       0.219\n",
      "renovated_3        0.2014      0.019     10.656      0.000       0.164       0.238\n",
      "Age_2             -0.0284      0.005     -5.278      0.000      -0.039      -0.018\n",
      "Age_3              0.0389      0.008      5.109      0.000       0.024       0.054\n",
      "basement_1         0.1681      0.004     40.612      0.000       0.160       0.176\n",
      "bedrooms_2        -0.0539      0.017     -3.160      0.002      -0.087      -0.020\n",
      "bedrooms_3        -0.1261      0.017     -7.429      0.000      -0.159      -0.093\n",
      "bedrooms_4        -0.1081      0.017     -6.185      0.000      -0.142      -0.074\n",
      "bedrooms_5        -0.0879      0.018     -4.770      0.000      -0.124      -0.052\n",
      "bedrooms_6        -0.0907      0.022     -4.144      0.000      -0.134      -0.048\n",
      "p_zipcode_Q_2      0.2448      0.005     49.720      0.000       0.235       0.254\n",
      "p_zipcode_Q_3      0.4515      0.005     90.634      0.000       0.442       0.461\n",
      "p_zipcode_Q_4      0.5944      0.005    117.718      0.000       0.584       0.604\n",
      "p_zipcode_Q_5      0.7359      0.005    133.983      0.000       0.725       0.747\n",
      "season_Spring      0.0475      0.005      9.093      0.000       0.037       0.058\n",
      "season_Summer      0.0010      0.005      0.220      0.826      -0.008       0.010\n",
      "season_Winter      0.0240      0.005      4.767      0.000       0.014       0.034\n",
      "==============================================================================\n",
      "Omnibus:                      558.909   Durbin-Watson:                   1.974\n",
      "Prob(Omnibus):                  0.000   Jarque-Bera (JB):             1251.152\n",
      "Skew:                           0.117   Prob(JB):                    2.07e-272\n",
      "Kurtosis:                       4.156   Cond. No.                         462.\n",
      "==============================================================================\n",
      "\n",
      "Notes:\n",
      "[1] Standard Errors assume that the covariance matrix of the errors is correctly specified.\n"
     ]
    }
   ],
   "source": [
    "predictors_int = sm.add_constant(X5)\n",
    "model5 = sm.OLS(kc_df['price_lg'],predictors_int).fit()\n",
    "print(model5.summary())"
   ]
  },
  {
   "cell_type": "code",
   "execution_count": null,
   "metadata": {},
   "outputs": [],
   "source": []
  },
  {
   "cell_type": "markdown",
   "metadata": {},
   "source": [
    "## Interaction of House features with location"
   ]
  },
  {
   "cell_type": "markdown",
   "metadata": {},
   "source": [
    "Bedrooms and price zip code "
   ]
  },
  {
   "cell_type": "code",
   "execution_count": 109,
   "metadata": {},
   "outputs": [
    {
     "data": {
      "image/png": "[encoded data removed]",
      "text/plain": [
       "<Figure size 432x288 with 1 Axes>"
      ]
     },
     "metadata": {
      "needs_background": "light"
     },
     "output_type": "display_data"
    }
   ],
   "source": [
    "kc_df['P_zip_bdrm'] = kc_df['bedrooms']*kc_df['price_zipcode']\n",
    "plt.hist(kc_df['P_zip_bdrm'], bins=10)\n",
    "plt.show()"
   ]
  },
  {
   "cell_type": "code",
   "execution_count": 112,
   "metadata": {},
   "outputs": [
    {
     "data": {
      "image/png": "[encoded data removed]",
      "text/plain": [
       "<Figure size 432x288 with 1 Axes>"
      ]
     },
     "metadata": {
      "needs_background": "light"
     },
     "output_type": "display_data"
    }
   ],
   "source": [
    "kc_df['P_zip_bdrm_lg'] =np.log(kc_df['P_zip_bdrm'])\n",
    "plt.hist(kc_df['P_zip_bdrm_lg'], bins=10)\n",
    "plt.show()"
   ]
  },
  {
   "cell_type": "code",
   "execution_count": null,
   "metadata": {},
   "outputs": [],
   "source": []
  },
  {
   "cell_type": "code",
   "execution_count": null,
   "metadata": {},
   "outputs": [],
   "source": []
  },
  {
   "cell_type": "code",
   "execution_count": null,
   "metadata": {},
   "outputs": [],
   "source": []
  },
  {
   "cell_type": "code",
   "execution_count": null,
   "metadata": {},
   "outputs": [],
   "source": []
  },
  {
   "cell_type": "code",
   "execution_count": null,
   "metadata": {},
   "outputs": [],
   "source": []
  },
  {
   "cell_type": "code",
   "execution_count": null,
   "metadata": {},
   "outputs": [],
   "source": []
  },
  {
   "cell_type": "code",
   "execution_count": null,
   "metadata": {},
   "outputs": [],
   "source": []
  },
  {
   "cell_type": "code",
   "execution_count": null,
   "metadata": {},
   "outputs": [],
   "source": []
  },
  {
   "cell_type": "code",
   "execution_count": null,
   "metadata": {},
   "outputs": [],
   "source": []
  },
  {
   "cell_type": "code",
   "execution_count": null,
   "metadata": {},
   "outputs": [],
   "source": []
  },
  {
   "cell_type": "code",
   "execution_count": null,
   "metadata": {},
   "outputs": [],
   "source": []
  },
  {
   "cell_type": "code",
   "execution_count": null,
   "metadata": {},
   "outputs": [],
   "source": []
  },
  {
   "cell_type": "code",
   "execution_count": 104,
   "metadata": {},
   "outputs": [],
   "source": [
    "cat4 = ['view', 'waterfront','renovated', 'Age', 'basement', 'bedrooms','p_zipcode_Q', 'season']"
   ]
  },
  {
   "cell_type": "code",
   "execution_count": 105,
   "metadata": {},
   "outputs": [],
   "source": [
    "cat4_kc_df = kc_df[cat4].astype('category')\n",
    "dummies = pd.get_dummies(cat4_kc_df, prefix=cat4, drop_first=True)\n",
    "\n",
    "kc_p3 = kc_df.drop(cat4, axis=1)\n",
    "\n",
    "kc_p3 = pd.concat([kc_p3, dummies], axis=1)"
   ]
  },
  {
   "cell_type": "code",
   "execution_count": 106,
   "metadata": {},
   "outputs": [],
   "source": [
    "X6 = kc_p3.drop(['price','price_zipcode','sqftlot_lg','sqftlv15_lg','id', 'date', 'lat', 'long', 'yr_renovated', 'zipcode', 'sqft_living', 'sqft_lot', 'yr_built', 'sqft_living15', 'sqft_basement', 'sqft_above', 'price_lg', 'sqft_lot15'], axis = 1)"
   ]
  },
  {
   "cell_type": "code",
   "execution_count": 107,
   "metadata": {},
   "outputs": [
    {
     "name": "stdout",
     "output_type": "stream",
     "text": [
      "                            OLS Regression Results                            \n",
      "==============================================================================\n",
      "Dep. Variable:               price_lg   R-squared:                       0.829\n",
      "Model:                            OLS   Adj. R-squared:                  0.829\n",
      "Method:                 Least Squares   F-statistic:                     3610.\n",
      "Date:                Mon, 31 May 2021   Prob (F-statistic):               0.00\n",
      "Time:                        23:11:20   Log-Likelihood:                 2291.7\n",
      "No. Observations:               21597   AIC:                            -4523.\n",
      "Df Residuals:                   21567   BIC:                            -4284.\n",
      "Df Model:                          29                                         \n",
      "Covariance Type:            nonrobust                                         \n",
      "==================================================================================\n",
      "                     coef    std err          t      P>|t|      [0.025      0.975]\n",
      "----------------------------------------------------------------------------------\n",
      "const              8.7006      0.046    190.867      0.000       8.611       8.790\n",
      "bathrooms          0.0160      0.003      4.789      0.000       0.009       0.023\n",
      "floors            -0.0167      0.004     -3.969      0.000      -0.025      -0.008\n",
      "condition          0.0681      0.002     27.536      0.000       0.063       0.073\n",
      "grade              0.1080      0.002     48.745      0.000       0.104       0.112\n",
      "sqft15_lg         -0.0153      0.002     -6.573      0.000      -0.020      -0.011\n",
      "sqftabv_lg         0.4086      0.008     52.719      0.000       0.393       0.424\n",
      "P_zip_bdrm      1.542e-07   3.23e-09     47.787      0.000    1.48e-07    1.61e-07\n",
      "view_1.0           0.1592      0.012     13.044      0.000       0.135       0.183\n",
      "view_2.0           0.1611      0.007     21.884      0.000       0.147       0.176\n",
      "view_3.0           0.2407      0.010     24.018      0.000       0.221       0.260\n",
      "view_4.0           0.3641      0.015     23.853      0.000       0.334       0.394\n",
      "waterfront_1.0     0.4065      0.022     18.406      0.000       0.363       0.450\n",
      "renovated_2        0.1430      0.015      9.759      0.000       0.114       0.172\n",
      "renovated_3        0.1917      0.018     10.669      0.000       0.157       0.227\n",
      "Age_2             -0.0261      0.005     -5.086      0.000      -0.036      -0.016\n",
      "Age_3              0.0446      0.007      6.174      0.000       0.030       0.059\n",
      "basement_1         0.1695      0.004     43.051      0.000       0.162       0.177\n",
      "bedrooms_2        -0.1132      0.016     -6.954      0.000      -0.145      -0.081\n",
      "bedrooms_3        -0.2565      0.016    -15.663      0.000      -0.289      -0.224\n",
      "bedrooms_4        -0.3178      0.017    -18.495      0.000      -0.351      -0.284\n",
      "bedrooms_5        -0.4080      0.019    -21.740      0.000      -0.445      -0.371\n",
      "bedrooms_6        -0.4995      0.023    -22.192      0.000      -0.544      -0.455\n",
      "p_zipcode_Q_2      0.1960      0.005     40.904      0.000       0.187       0.205\n",
      "p_zipcode_Q_3      0.3413      0.005     64.760      0.000       0.331       0.352\n",
      "p_zipcode_Q_4      0.4284      0.006     72.284      0.000       0.417       0.440\n",
      "p_zipcode_Q_5      0.4111      0.009     47.959      0.000       0.394       0.428\n",
      "season_Spring      0.0472      0.005      9.509      0.000       0.037       0.057\n",
      "season_Summer      0.0023      0.005      0.503      0.615      -0.007       0.011\n",
      "season_Winter      0.0244      0.005      5.094      0.000       0.015       0.034\n",
      "==============================================================================\n",
      "Omnibus:                      621.372   Durbin-Watson:                   1.993\n",
      "Prob(Omnibus):                  0.000   Jarque-Bera (JB):             1623.626\n",
      "Skew:                           0.012   Prob(JB):                         0.00\n",
      "Kurtosis:                       4.343   Cond. No.                     6.73e+07\n",
      "==============================================================================\n",
      "\n",
      "Notes:\n",
      "[1] Standard Errors assume that the covariance matrix of the errors is correctly specified.\n",
      "[2] The condition number is large, 6.73e+07. This might indicate that there are\n",
      "strong multicollinearity or other numerical problems.\n"
     ]
    }
   ],
   "source": [
    "predictors_int = sm.add_constant(X6)\n",
    "model6 = sm.OLS(kc_df['price_lg'],predictors_int).fit()\n",
    "print(model6.summary())"
   ]
  },
  {
   "cell_type": "code",
   "execution_count": null,
   "metadata": {},
   "outputs": [],
   "source": []
  },
  {
   "cell_type": "code",
   "execution_count": null,
   "metadata": {},
   "outputs": [],
   "source": []
  },
  {
   "cell_type": "code",
   "execution_count": null,
   "metadata": {},
   "outputs": [],
   "source": []
  },
  {
   "cell_type": "code",
   "execution_count": 127,
   "metadata": {},
   "outputs": [],
   "source": [
    "cat4 = ['view', 'waterfront','renovated', 'Age', 'basement', 'bedrooms','p_zipcode_Q','season']"
   ]
  },
  {
   "cell_type": "code",
   "execution_count": 128,
   "metadata": {},
   "outputs": [],
   "source": [
    "cat4_kc_df = kc_df[cat4].astype('category')\n",
    "dummies = pd.get_dummies(cat4_kc_df, prefix=cat4, drop_first=True)\n",
    "\n",
    "kc_p3 = kc_df.drop(cat4, axis=1)\n",
    "\n",
    "kc_p3 = pd.concat([kc_p3, dummies], axis=1)"
   ]
  },
  {
   "cell_type": "code",
   "execution_count": 129,
   "metadata": {},
   "outputs": [],
   "source": [
    "X7 = kc_p3.drop(['price','P_zip_bdrm', 'price_zipcode','sqftlot_lg','sqftlv15_lg','id', 'date', 'lat', 'long', 'yr_renovated', 'zipcode', 'sqft_living', 'sqft_lot', 'yr_built', 'sqft_living15', 'sqft_basement', 'sqft_above', 'price_lg', 'sqft_lot15'], axis = 1)"
   ]
  },
  {
   "cell_type": "code",
   "execution_count": 130,
   "metadata": {},
   "outputs": [
    {
     "name": "stdout",
     "output_type": "stream",
     "text": [
      "                            OLS Regression Results                            \n",
      "==============================================================================\n",
      "Dep. Variable:               price_lg   R-squared:                       0.841\n",
      "Model:                            OLS   Adj. R-squared:                  0.841\n",
      "Method:                 Least Squares   F-statistic:                     3944.\n",
      "Date:                Mon, 31 May 2021   Prob (F-statistic):               0.00\n",
      "Time:                        23:25:40   Log-Likelihood:                 3088.2\n",
      "No. Observations:               21597   AIC:                            -6116.\n",
      "Df Residuals:                   21567   BIC:                            -5877.\n",
      "Df Model:                          29                                         \n",
      "Covariance Type:            nonrobust                                         \n",
      "==================================================================================\n",
      "                     coef    std err          t      P>|t|      [0.025      0.975]\n",
      "----------------------------------------------------------------------------------\n",
      "const             -1.3650      0.162     -8.436      0.000      -1.682      -1.048\n",
      "bathrooms          0.0190      0.003      5.902      0.000       0.013       0.025\n",
      "floors            -0.0161      0.004     -3.975      0.000      -0.024      -0.008\n",
      "condition          0.0648      0.002     27.173      0.000       0.060       0.069\n",
      "grade              0.1068      0.002     50.020      0.000       0.103       0.111\n",
      "sqft15_lg         -0.0054      0.002     -2.405      0.016      -0.010      -0.001\n",
      "sqftabv_lg         0.4073      0.007     54.525      0.000       0.393       0.422\n",
      "P_zip_bdrm_lg      0.7928      0.012     64.104      0.000       0.769       0.817\n",
      "view_1.0           0.1484      0.012     12.615      0.000       0.125       0.172\n",
      "view_2.0           0.1518      0.007     21.396      0.000       0.138       0.166\n",
      "view_3.0           0.2387      0.010     24.721      0.000       0.220       0.258\n",
      "view_4.0           0.3611      0.015     24.546      0.000       0.332       0.390\n",
      "waterfront_1.0     0.4090      0.021     19.215      0.000       0.367       0.451\n",
      "renovated_2        0.1416      0.014     10.029      0.000       0.114       0.169\n",
      "renovated_3        0.1829      0.017     10.559      0.000       0.149       0.217\n",
      "Age_2             -0.0306      0.005     -6.203      0.000      -0.040      -0.021\n",
      "Age_3              0.0443      0.007      6.362      0.000       0.031       0.058\n",
      "basement_1         0.1607      0.004     42.332      0.000       0.153       0.168\n",
      "bedrooms_2        -0.5969      0.018    -33.561      0.000      -0.632      -0.562\n",
      "bedrooms_3        -0.9767      0.020    -47.760      0.000      -1.017      -0.937\n",
      "bedrooms_4        -1.1840      0.023    -51.042      0.000      -1.230      -1.139\n",
      "bedrooms_5        -1.3578      0.026    -52.149      0.000      -1.409      -1.307\n",
      "bedrooms_6        -1.4987      0.030    -50.377      0.000      -1.557      -1.440\n",
      "p_zipcode_Q_2      0.0202      0.006      3.528      0.000       0.009       0.031\n",
      "p_zipcode_Q_3      0.0086      0.008      1.043      0.297      -0.008       0.025\n",
      "p_zipcode_Q_4     -0.0006      0.010     -0.060      0.952      -0.021       0.020\n",
      "p_zipcode_Q_5     -0.1305      0.014     -9.046      0.000      -0.159      -0.102\n",
      "season_Spring      0.0475      0.005      9.928      0.000       0.038       0.057\n",
      "season_Summer      0.0022      0.004      0.510      0.610      -0.006       0.011\n",
      "season_Winter      0.0233      0.005      5.045      0.000       0.014       0.032\n",
      "==============================================================================\n",
      "Omnibus:                      713.996   Durbin-Watson:                   1.996\n",
      "Prob(Omnibus):                  0.000   Jarque-Bera (JB):             2007.992\n",
      "Skew:                           0.039   Prob(JB):                         0.00\n",
      "Kurtosis:                       4.492   Cond. No.                     2.40e+03\n",
      "==============================================================================\n",
      "\n",
      "Notes:\n",
      "[1] Standard Errors assume that the covariance matrix of the errors is correctly specified.\n",
      "[2] The condition number is large, 2.4e+03. This might indicate that there are\n",
      "strong multicollinearity or other numerical problems.\n"
     ]
    }
   ],
   "source": [
    "predictors_int = sm.add_constant(X7)\n",
    "model7 = sm.OLS(kc_df['price_lg'],predictors_int).fit()\n",
    "print(model7.summary())"
   ]
  },
  {
   "cell_type": "code",
   "execution_count": null,
   "metadata": {},
   "outputs": [],
   "source": []
  },
  {
   "cell_type": "code",
   "execution_count": null,
   "metadata": {},
   "outputs": [],
   "source": [
    "#Removing Price_zipcode"
   ]
  },
  {
   "cell_type": "code",
   "execution_count": 132,
   "metadata": {},
   "outputs": [],
   "source": [
    "cat5 = ['view', 'waterfront','renovated', 'Age', 'basement', 'bedrooms','season']"
   ]
  },
  {
   "cell_type": "code",
   "execution_count": 133,
   "metadata": {},
   "outputs": [],
   "source": [
    "cat5_kc_df = kc_df[cat5].astype('category')\n",
    "dummies = pd.get_dummies(cat5_kc_df, prefix=cat5, drop_first=True)\n",
    "\n",
    "kc_p4 = kc_df.drop(cat5, axis=1)\n",
    "\n",
    "kc_p4 = pd.concat([kc_p4, dummies], axis=1)"
   ]
  },
  {
   "cell_type": "code",
   "execution_count": 138,
   "metadata": {},
   "outputs": [],
   "source": [
    "X8 = kc_p4.drop(['price','P_zip_bdrm', 'price_zipcode','p_zipcode_Q','sqftlot_lg','sqftlv15_lg','id', 'date', 'lat', 'long', 'yr_renovated', 'zipcode', 'sqft_living', 'sqft_lot', 'yr_built', 'sqft_living15', 'sqft_basement', 'sqft_above', 'price_lg', 'sqft_lot15'], axis = 1)"
   ]
  },
  {
   "cell_type": "code",
   "execution_count": 139,
   "metadata": {},
   "outputs": [
    {
     "name": "stdout",
     "output_type": "stream",
     "text": [
      "                            OLS Regression Results                            \n",
      "==============================================================================\n",
      "Dep. Variable:               price_lg   R-squared:                       0.836\n",
      "Model:                            OLS   Adj. R-squared:                  0.836\n",
      "Method:                 Least Squares   F-statistic:                     4405.\n",
      "Date:                Mon, 31 May 2021   Prob (F-statistic):               0.00\n",
      "Time:                        23:29:56   Log-Likelihood:                 2743.8\n",
      "No. Observations:               21597   AIC:                            -5436.\n",
      "Df Residuals:                   21571   BIC:                            -5228.\n",
      "Df Model:                          25                                         \n",
      "Covariance Type:            nonrobust                                         \n",
      "==================================================================================\n",
      "                     coef    std err          t      P>|t|      [0.025      0.975]\n",
      "----------------------------------------------------------------------------------\n",
      "const             -0.1529      0.067     -2.280      0.023      -0.284      -0.021\n",
      "bathrooms          0.0178      0.003      5.448      0.000       0.011       0.024\n",
      "floors            -0.0117      0.004     -2.852      0.004      -0.020      -0.004\n",
      "condition          0.0644      0.002     26.611      0.000       0.060       0.069\n",
      "grade              0.1010      0.002     46.903      0.000       0.097       0.105\n",
      "sqft15_lg         -0.0066      0.002     -2.901      0.004      -0.011      -0.002\n",
      "sqftabv_lg         0.4063      0.008     53.545      0.000       0.391       0.421\n",
      "P_zip_bdrm_lg      0.7033      0.004    171.474      0.000       0.695       0.711\n",
      "view_1.0           0.1492      0.012     12.497      0.000       0.126       0.173\n",
      "view_2.0           0.1547      0.007     21.474      0.000       0.141       0.169\n",
      "view_3.0           0.2374      0.010     24.201      0.000       0.218       0.257\n",
      "view_4.0           0.3752      0.015     25.123      0.000       0.346       0.404\n",
      "waterfront_1.0     0.4029      0.022     18.637      0.000       0.360       0.445\n",
      "renovated_2        0.1451      0.014     10.124      0.000       0.117       0.173\n",
      "renovated_3        0.1860      0.018     10.570      0.000       0.151       0.220\n",
      "Age_2             -0.0196      0.005     -3.915      0.000      -0.029      -0.010\n",
      "Age_3              0.0515      0.007      7.282      0.000       0.038       0.065\n",
      "basement_1         0.1637      0.004     42.479      0.000       0.156       0.171\n",
      "bedrooms_2        -0.5328      0.016    -33.101      0.000      -0.564      -0.501\n",
      "bedrooms_3        -0.8802      0.016    -54.196      0.000      -0.912      -0.848\n",
      "bedrooms_4        -1.0638      0.017    -62.656      0.000      -1.097      -1.031\n",
      "bedrooms_5        -1.2171      0.018    -66.896      0.000      -1.253      -1.181\n",
      "bedrooms_6        -1.3422      0.021    -62.464      0.000      -1.384      -1.300\n",
      "season_Spring      0.0485      0.005      9.966      0.000       0.039       0.058\n",
      "season_Summer      0.0026      0.004      0.589      0.556      -0.006       0.011\n",
      "season_Winter      0.0222      0.005      4.735      0.000       0.013       0.031\n",
      "==============================================================================\n",
      "Omnibus:                      637.975   Durbin-Watson:                   1.995\n",
      "Prob(Omnibus):                  0.000   Jarque-Bera (JB):             1679.735\n",
      "Skew:                           0.035   Prob(JB):                         0.00\n",
      "Kurtosis:                       4.364   Cond. No.                         955.\n",
      "==============================================================================\n",
      "\n",
      "Notes:\n",
      "[1] Standard Errors assume that the covariance matrix of the errors is correctly specified.\n"
     ]
    }
   ],
   "source": [
    "predictors_int = sm.add_constant(X8)\n",
    "model8 = sm.OLS(kc_df['price_lg'],predictors_int).fit()\n",
    "print(model8.summary())"
   ]
  },
  {
   "cell_type": "code",
   "execution_count": null,
   "metadata": {},
   "outputs": [],
   "source": []
  },
  {
   "cell_type": "code",
   "execution_count": null,
   "metadata": {},
   "outputs": [],
   "source": [
    "## Normality"
   ]
  },
  {
   "cell_type": "code",
   "execution_count": 145,
   "metadata": {},
   "outputs": [
    {
     "name": "stderr",
     "output_type": "stream",
     "text": [
      "/Users/brianm/opt/anaconda3/envs/learn-env/lib/python3.8/site-packages/seaborn/distributions.py:2551: FutureWarning: `distplot` is a deprecated function and will be removed in a future version. Please adapt your code to use either `displot` (a figure-level function with similar flexibility) or `histplot` (an axes-level function for histograms).\n",
      "  warnings.warn(msg, FutureWarning)\n"
     ]
    },
    {
     "data": {
      "text/plain": [
       "Text(0.5, 1.0, 'Residuals Distribution Plot')"
      ]
     },
     "execution_count": 145,
     "metadata": {},
     "output_type": "execute_result"
    },
    {
     "data": {
      "image/png": "[encoded data removed]",
      "text/plain": [
       "<Figure size 1296x432 with 2 Axes>"
      ]
     },
     "metadata": {
      "needs_background": "light"
     },
     "output_type": "display_data"
    }
   ],
   "source": [
    "fig, axs = plt.subplots(ncols=2, figsize = (18,6))\n",
    "\n",
    "residuals = model8.resid\n",
    "sm.graphics.qqplot(residuals, dist = stats.norm, line='45', fit=True, ax=axs[0])\n",
    "axs[0].set_title('Residuals Q-Q Plot')\n",
    "sns.distplot(residuals, ax=axs[1])\n",
    "axs[1].set_title('Residuals Distribution Plot')"
   ]
  },
  {
   "cell_type": "code",
   "execution_count": null,
   "metadata": {},
   "outputs": [],
   "source": []
  },
  {
   "cell_type": "code",
   "execution_count": 147,
   "metadata": {},
   "outputs": [
    {
     "data": {
      "text/plain": [
       "Text(0.5, 1.0, 'Residuals Scatterplot')"
      ]
     },
     "execution_count": 147,
     "metadata": {},
     "output_type": "execute_result"
    },
    {
     "data": {
      "image/png": "[encoded data removed]",
      "text/plain": [
       "<Figure size 648x432 with 1 Axes>"
      ]
     },
     "metadata": {
      "needs_background": "light"
     },
     "output_type": "display_data"
    }
   ],
   "source": [
    "plt.figure(figsize=(9,6))\n",
    "sns.regplot(x=model8.predict(), y=model8.resid, lowess=True, line_kws={'color': 'red'})\n",
    "plt.title('Residuals Scatterplot')"
   ]
  },
  {
   "cell_type": "code",
   "execution_count": null,
   "metadata": {},
   "outputs": [],
   "source": []
  },
  {
   "cell_type": "code",
   "execution_count": null,
   "metadata": {},
   "outputs": [],
   "source": []
  },
  {
   "cell_type": "code",
   "execution_count": null,
   "metadata": {},
   "outputs": [],
   "source": []
  },
  {
   "cell_type": "code",
   "execution_count": null,
   "metadata": {},
   "outputs": [],
   "source": []
  },
  {
   "cell_type": "code",
   "execution_count": null,
   "metadata": {},
   "outputs": [],
   "source": []
  },
  {
   "cell_type": "code",
   "execution_count": null,
   "metadata": {},
   "outputs": [],
   "source": []
  },
  {
   "cell_type": "code",
   "execution_count": null,
   "metadata": {},
   "outputs": [],
   "source": [
    "\n",
    "# demonstration of the power transform on data with a skew\n",
    "from numpy import exp\n",
    "from numpy.random import randn\n",
    "from sklearn.preprocessing import PowerTransformer\n",
    "from matplotlib import pyplot\n",
    "# generate normal data sample\n",
    "d_set = randn(5000)\n",
    "# add a skew to the data distribution\n",
    "d_set = exp(d_set)\n",
    "# histogram of the raw data with a skew\n",
    "pyplot.hist(d_set, bins=50)\n",
    "pyplot.show()\n",
    "# reshape data to have rows and columns\n",
    "d_set = d_set.reshape((len(d_set),1))\n",
    "# power transform the raw data\n",
    "power = PowerTransformer(method='yeo-johnson', standardize=True)\n",
    "d_set_transformed = power.fit_transform(d_set)\n",
    "# histogram of the transformed data\n",
    "pyplot.hist(data_trans, bins=25)\n",
    "pyplot.show()"
   ]
  },
  {
   "cell_type": "markdown",
   "metadata": {},
   "source": [
    "## Binning Categorical Variables\n"
   ]
  },
  {
   "cell_type": "code",
   "execution_count": null,
   "metadata": {},
   "outputs": [],
   "source": []
  },
  {
   "cell_type": "markdown",
   "metadata": {},
   "source": [
    "For categorical variables that contain many values, it will make more sense to bin these features before we convert them into dummy variables. Before we apply this technique to various features in our dataset, let's start by exploring how we would bin the feature \"yr_renovated\" into binned categories."
   ]
  },
  {
   "cell_type": "markdown",
   "metadata": {},
   "source": [
    "### Sale year"
   ]
  },
  {
   "cell_type": "code",
   "execution_count": null,
   "metadata": {},
   "outputs": [],
   "source": [
    "#We will begin by looking at yr_renovated and determine how to manipulate this variable\n",
    "kc_df.yr_renovated.sort_values().unique()"
   ]
  },
  {
   "cell_type": "code",
   "execution_count": null,
   "metadata": {},
   "outputs": [],
   "source": [
    "#adding a new feature \"renovated\" that breaks down properties that were renovated in the 2010s, 2000s, or\n",
    "#not at all if they were renovated over 20 years ago. \n",
    "kc_df['renovated'] = kc_df['yr_renovated'].apply(lambda x: 1 if x <= 1999 else 2 if x >= 2000 and x < 2010 else 3)\n",
    "kc_df.head()"
   ]
  },
  {
   "cell_type": "code",
   "execution_count": null,
   "metadata": {},
   "outputs": [],
   "source": [
    "#checking totals for each type of renovated unit:\n",
    "kc_df.renovated.value_counts()"
   ]
  },
  {
   "cell_type": "code",
   "execution_count": null,
   "metadata": {},
   "outputs": [],
   "source": []
  },
  {
   "cell_type": "markdown",
   "metadata": {},
   "source": [
    "## Property Value by Zipcode"
   ]
  },
  {
   "cell_type": "markdown",
   "metadata": {},
   "source": [
    "What neighborhood contains most valuable properties?"
   ]
  },
  {
   "cell_type": "markdown",
   "metadata": {},
   "source": [
    "We see here that several variable-pairs are correlated with one another. We will consider dropping variables that are highly correlated with one another in order to prevent multicollinearity in our model."
   ]
  },
  {
   "cell_type": "markdown",
   "metadata": {},
   "source": [
    "Analyzing the average property values per zipcode results in Medina, Belleve, Mercer Island, Madison Park, and Capitol Hill area to be neighborhood with the highest average property values. Most properties in these neighborhood doubles the average property value of King County with average property value of Medina quadrupling that of King County. It seems that the proximity to the Lake Washington and large parks are driving the value of these properties higher.\n"
   ]
  },
  {
   "cell_type": "code",
   "execution_count": null,
   "metadata": {},
   "outputs": [],
   "source": [
    "kc_df['price_zipcode'] = kc_df.groupby(\"zipcode\")[\"price\"].transform('mean')\n",
    "kc_df\n",
    "#catergrizin price by zipzone in percentiles"
   ]
  },
  {
   "cell_type": "code",
   "execution_count": null,
   "metadata": {},
   "outputs": [],
   "source": [
    "quantiles = pd.qcut(kc_df['price_zipcode'], 5, labels=range(1,6))\n",
    "kc_df= kc_df.assign(p_zipcode_Q=quartiles.values)\n",
    "kc_df"
   ]
  },
  {
   "cell_type": "code",
   "execution_count": null,
   "metadata": {},
   "outputs": [],
   "source": [
    "plt.scatter(kc_df['p_zipcode_Q'], kc_df['price'])"
   ]
  },
  {
   "cell_type": "code",
   "execution_count": null,
   "metadata": {},
   "outputs": [],
   "source": [
    "#property values by zipcode calculation\n",
    "kc_top5_price = kc_df.groupby(\"zipcode\")[\"price\"].mean().sort_values(ascending = False)[:5]\n",
    "kc_mean_price = kc_df.price.mean()\n",
    "#top5 neighborhood label for plot\n",
    "area_labels = [\"Medina\", \"Bellevue\", \"Mercer Island\", \n",
    "               \"Madison Park\", \"Capitol Hill\"]\n",
    "\n",
    "#plotting the data\n",
    "plt.subplots(figsize=(8,4))\n",
    "sns.barplot(x=kc_top5_price.index, y=kc_top5_price, order=kc_top5_price.index, palette=\"Blues_d\") #blue for seahawks!\n",
    "plt.xticks(np.arange(5), area_labels, rotation=75, size=8) #relabel x with list above\n",
    "plt.hlines(kc_mean_price, -.5 ,4.5, colors=\"darkgoldenrod\", label=\"Average Price\") #plot average price horizontal line\n",
    "\n",
    "#prettify graph\n",
    "plt.xlabel(\"Neighborhoods\", size=14)\n",
    "plt.ylabel(\"Prices ($1mil)\", size=14)\n",
    "plt.title(\"Neighborhoods with Highest Property Price\", size=16, y=1.08)\n",
    "plt.legend() #show legend\n",
    "\n",
    "#uncomment line below to export image\n",
    "# plt.savefig(\"images/high_price_neighborhood.png\",bbox_inches = \"tight\")\n",
    "plt.show();"
   ]
  },
  {
   "cell_type": "code",
   "execution_count": null,
   "metadata": {},
   "outputs": [],
   "source": [
    "kc_zip_price = kc_df.groupby(\"zipcode\")[\"price\"].count()"
   ]
  },
  {
   "cell_type": "code",
   "execution_count": null,
   "metadata": {},
   "outputs": [],
   "source": [
    "len(kc_zip_price)\n"
   ]
  },
  {
   "cell_type": "code",
   "execution_count": null,
   "metadata": {},
   "outputs": [],
   "source": []
  },
  {
   "cell_type": "code",
   "execution_count": null,
   "metadata": {},
   "outputs": [],
   "source": [
    "#property values by zipcode calculation\n",
    "kc_zip_price = kc_df.groupby(\"zipcode\")[\"price\"].mean().sort_values(ascending = False)\n",
    "kc_mean_price = kc_df.price.mean()\n",
    "#top5 neighborhood label for plot\n",
    "area_labels = [\"Medina\", \"Bellevue\", \"Mercer Island\", \n",
    "               \"Madison Park\", \"Capitol Hill\"]\n",
    "\n",
    "#plotting the data\n",
    "plt.subplots(figsize=(8,4))\n",
    "sns.barplot(x=kc_top5_price.index, y=kc_top5_price, order=kc_top5_price.index, palette=\"Blues_d\") #blue for seahawks!\n",
    "plt.xticks(np.arange(5), area_labels, rotation=75, size=8) #relabel x with list above\n",
    "plt.hlines(kc_mean_price, -.5 ,4.5, colors=\"darkgoldenrod\", label=\"Average Price\") #plot average price horizontal line\n",
    "\n",
    "#prettify graph\n",
    "plt.xlabel(\"Neighborhoods\", size=14)\n",
    "plt.ylabel(\"Prices ($1mil)\", size=14)\n",
    "plt.title(\"Neighborhoods with Highest Property Price\", size=16, y=1.08)\n",
    "plt.legend() #show legend\n",
    "\n",
    "#uncomment line below to export image\n",
    "# plt.savefig(\"images/high_price_neighborhood.png\",bbox_inches = \"tight\")\n",
    "plt.show();"
   ]
  },
  {
   "cell_type": "code",
   "execution_count": null,
   "metadata": {},
   "outputs": [],
   "source": [
    "#shapefile data setup\n",
    "king_county = gpd.read_file(\"data/zipcode_shape/Zipcodes_for_King_County_and_Surrounding_Area___zipcode_area.shp\")\n",
    "king_county[\"zipcode\"] = king_county[\"ZIP\"] #set up column for merge\n",
    "\n",
    "#kc_df price setup\n",
    "zip_price = kc_df.groupby(\"zipcode\").price.mean()\n",
    "\n",
    "#plotting data setup\n",
    "zip_plot_df = king_county.join(zip_price, on=\"zipcode\", how=\"inner\")"
   ]
  },
  {
   "cell_type": "markdown",
   "metadata": {},
   "source": [
    "## Property Value by Date"
   ]
  },
  {
   "cell_type": "code",
   "execution_count": null,
   "metadata": {},
   "outputs": [],
   "source": [
    " def getSeason(date):\n",
    "    month = int(date.split(\"/\")[0])\n",
    "    if (month > 11 or month <= 3):\n",
    "       return \"Winter\"\n",
    "    elif (month == 4 or month == 5):\n",
    "       return \"Spring\"\n",
    "    elif (month >=6 and month <= 9):\n",
    "       return \"Summer\"\n",
    "    else:\n",
    "       return \"Fall\""
   ]
  },
  {
   "cell_type": "code",
   "execution_count": null,
   "metadata": {},
   "outputs": [],
   "source": [
    "kc_df['season'] = kc_df.date.map(getSeason)\n",
    "kc_df['season'].value_counts()"
   ]
  },
  {
   "cell_type": "code",
   "execution_count": null,
   "metadata": {},
   "outputs": [],
   "source": [
    "#Next, let's plot scatter plots that will further help us identify outliers and categorical variables \n",
    "#fig, axes = plt.subplots()\n",
    "x=kc_df['season']\n",
    "y=kc_df['price']\n",
    "#for ax, column in zip(axes.flatten(), kc_df.season):\n",
    "#ax.scatter(x,y)\n",
    "plt.scatter(x, y)\n",
    "    #ax.set_title(f'Price vs {column}')\n",
    "    #ax.set_xlabel(column)\n",
    "    #ax.set_ylabel('Price in $100,000')\n",
    "\n",
    "#fig.tight_layout()"
   ]
  },
  {
   "cell_type": "markdown",
   "metadata": {},
   "source": [
    "## Bathroooms and Floors"
   ]
  },
  {
   "cell_type": "code",
   "execution_count": null,
   "metadata": {},
   "outputs": [],
   "source": [
    "outlier_bedrooms = kc_df[kc_df['bedrooms'] == kc_df['bedrooms'].max()]\n"
   ]
  },
  {
   "cell_type": "code",
   "execution_count": null,
   "metadata": {},
   "outputs": [],
   "source": [
    "kc_df.head()"
   ]
  },
  {
   "cell_type": "markdown",
   "metadata": {},
   "source": [
    "This outlier house with 33 bedrooms, 1.75 bathrooms and 1 floor seems to have data entry issues that can not be imputed. This entry will thus be dropped."
   ]
  },
  {
   "cell_type": "code",
   "execution_count": null,
   "metadata": {},
   "outputs": [],
   "source": [
    "kc_df.drop(kc_df[kc_df['bedrooms'] == 33].index, inplace=True)"
   ]
  },
  {
   "cell_type": "code",
   "execution_count": null,
   "metadata": {},
   "outputs": [],
   "source": [
    "plt.scatter(kc_df['bedrooms'], kc_df['price'])"
   ]
  },
  {
   "cell_type": "code",
   "execution_count": null,
   "metadata": {},
   "outputs": [],
   "source": []
  },
  {
   "cell_type": "markdown",
   "metadata": {},
   "source": [
    "## ANOVA of Property Prices using Top 5 Neighborhoods"
   ]
  },
  {
   "cell_type": "code",
   "execution_count": null,
   "metadata": {},
   "outputs": [],
   "source": [
    "alpha = 0.05 \n",
    "#ANOVA Test Setup\n",
    "kc_top5 = kc_df[kc_df.zipcode.isin(kc_top5_price.index)]\n",
    "formula = 'price~C(zipcode)'\n",
    "lm_top5 = smf.ols(formula, kc_top5).fit()\n",
    "anova_top5_table = sm.stats.anova_lm(lm_top5, typ=2)\n",
    "\n",
    "if anova_top5_table[\"PR(>F)\"][0] < alpha:\n",
    "    print(\"Top 5 ranked zipcode have a statistically significant impact on average property value\")\n",
    "    print(\"Zipcdoe ANOVA F-statisic Probability: \", anova_top5_table[\"PR(>F)\"][0])"
   ]
  },
  {
   "cell_type": "markdown",
   "metadata": {},
   "source": [
    "## Property Value per Condition"
   ]
  },
  {
   "cell_type": "markdown",
   "metadata": {},
   "source": [
    "Does Condition Affect Property Value?"
   ]
  },
  {
   "cell_type": "code",
   "execution_count": null,
   "metadata": {
    "scrolled": true
   },
   "outputs": [],
   "source": [
    "#-------------------Conditions Calculation--------------------------------#\n",
    "condition_mean = kc_df.groupby(\"condition\")[\"price\"].mean()\n",
    "condition_median = kc_df.groupby(\"condition\")[\"price\"].median()\n",
    "condition_score = np.arange(1,6)\n",
    "\n",
    "#--------------------------Bar Plots--------------------------------------#\n",
    "#set subplot data\n",
    "fig, ax = plt.subplots(figsize=(8,4))\n",
    "ax2 = ax.twinx() #set ax2 on same x axis as ax\n",
    "ax3 = ax.twinx() #same as above, for hline\n",
    "width = 0.5\n",
    "\n",
    "#barplots \n",
    "ax.bar(x=condition_score, height=condition_median, width=width,\n",
    "       label=\"Median Price\", color=\"midnightblue\", alpha=0.8)\n",
    "ax2.bar(x=condition_score, height=condition_mean, width=width,\n",
    "        label=\"Mean Price\", color=\"royalblue\", alpha=0.8)\n",
    "\n",
    "#horizontal line for mean price\n",
    "ax3.hlines(kc_mean_price, .7 ,5.3, colors=\"red\", label=\"Average Price\")\n",
    "\n",
    "#set ylimit to the same scale and display only 1\n",
    "ax.set_ylim(0,1.2*condition_mean.max())\n",
    "ax2.set_ylim(0,1.2*condition_mean.max())\n",
    "ax3.set_ylim(0,1.2*condition_mean.max())\n",
    "ax2.yaxis.set_visible(False) #hide the 2nd axis\n",
    "ax3.yaxis.set_visible(False)\n",
    "\n",
    "#set legend positions\n",
    "ax.legend(bbox_to_anchor=(0,0,1,1), loc=\"upper left\")\n",
    "ax2.legend(bbox_to_anchor=(0,-.1,1,1), loc=\"upper left\")\n",
    "ax3.legend(bbox_to_anchor=(0,0,1,1), loc=\"upper right\")\n",
    "\n",
    "#prettify graph\n",
    "ax.set_ylabel(\"Average Prices ($)\", size=14)\n",
    "ax.set_xlabel(\"Condition Score\", size=14)\n",
    "plt.title(\"Average Property Value per Condition\", size=16, y=1.08)\n",
    "\n",
    "#uncomment line below to export image\n",
    "# plt.savefig(\"images/condition_value.png\",bbox_inches = \"tight\")\n",
    "plt.legend()\n",
    "plt.show();"
   ]
  },
  {
   "cell_type": "markdown",
   "metadata": {},
   "source": [
    "## ANOVA of Property Prices using Conditions"
   ]
  },
  {
   "cell_type": "code",
   "execution_count": null,
   "metadata": {},
   "outputs": [],
   "source": [
    "alpha = 0.05 \n",
    "#ANOVA Test Setup\n",
    "formula = 'price~C(condition)'\n",
    "lm_condition = smf.ols(formula, kc_df).fit()\n",
    "anova_condition = sm.stats.anova_lm(lm_condition, typ=2)\n",
    "\n",
    "if anova_condition[\"PR(>F)\"][0] < alpha:\n",
    "    print(\"The property condition have a statistically significant impact on average property value\")\n",
    "    print(\"Conditions F-statisic Probability: \", anova_condition[\"PR(>F)\"][0])"
   ]
  },
  {
   "cell_type": "markdown",
   "metadata": {},
   "source": [
    "Property Conditions Statistical Analysis 𝛼 = 0.05\n",
    "Null-Hypothesis: There are no significant difference in average property value between different conditions. \n",
    "Alternative Hypothesis: There no significant difference in average property value between different conditions.\n",
    "Property condition have significant affect on the value of the property. Both mean and median property prices are in upward trends as the condition increases. However, a slight dip in both aspects can be found on condition 4/5 compared to 3/5. This is most likely due to apartments/coop, which may have maintenance separete from the property itself. Therefore, the property value could be lower, due to smaller size, but have higher condition."
   ]
  },
  {
   "cell_type": "markdown",
   "metadata": {},
   "source": [
    "## Features and Upgrades of Property"
   ]
  },
  {
   "cell_type": "markdown",
   "metadata": {},
   "source": [
    "Does a house having a basement add value to the property"
   ]
  },
  {
   "cell_type": "code",
   "execution_count": null,
   "metadata": {},
   "outputs": [],
   "source": [
    "Does a renovation add value to the property?"
   ]
  },
  {
   "cell_type": "code",
   "execution_count": null,
   "metadata": {},
   "outputs": [],
   "source": [
    "Does a renovation add value to the property"
   ]
  },
  {
   "cell_type": "code",
   "execution_count": null,
   "metadata": {},
   "outputs": [],
   "source": [
    "Does a renovation add value to the property"
   ]
  },
  {
   "cell_type": "code",
   "execution_count": null,
   "metadata": {},
   "outputs": [],
   "source": [
    "#--------------------------Property Feature Calculation---------------------------------------#\n",
    "basement = kc_df[(kc_df[\"sqft_basement\"] > 0)]\n",
    "basement_mean = basement.price.mean()\n",
    "no_basement = kc_df[(kc_df[\"sqft_basement\"] == 0)]\n",
    "no_basement_mean = no_basement.price.mean()\n",
    "\n",
    "#mean values to plot\n",
    "renovated = kc_df[(kc_df[\"yr_renovated\"] > 0)]\n",
    "renovated_mean = renovated.price.mean()\n",
    "not_renovated = kc_df[(kc_df[\"yr_renovated\"] == 0)]\n",
    "not_renovated_mean = not_renovated.price.mean()\n",
    "\n",
    "#prepare plot labels\n",
    "label_basement = [\"Basement\", \"No basement\"]\n",
    "values_basement = [basement_mean, no_basement_mean]\n",
    "label_renovation = [\"Renovated\", \"No Renovation\"]\n",
    "values_renovation = [renovated_mean, not_renovated_mean]\n",
    "\n",
    "#--------------------------Bar Plots--------------------------------------#\n",
    "fig, ax = plt.subplots(1, 2, figsize=(14,4))\n",
    "\n",
    "sns.barplot(ax=ax[0], x=label_basement, y=values_basement, palette=\"Blues_r\")\n",
    "sns.barplot(ax=ax[1], x=label_renovation, y=values_renovation, palette=\"Blues_r\")\n",
    "ax[0].hlines(kc_mean_price, -.5 ,1.5, colors=\"coral\", label=\"Average Price\") #plot average price horizontal line\n",
    "ax[1].hlines(kc_mean_price, -.5 ,1.5, colors=\"coral\", label=\"Average Price\") #plot average price horizontal line\n",
    "\n",
    "#prettify graph\n",
    "ax[0].set_ylabel(\"Average Prices ($)\", size=12)\n",
    "ax[0].set_title(\"Average Property Value\", size=14)\n",
    "ax[0].set_ylim(0,1.1*renovated_mean)\n",
    "ax[0].legend()\n",
    "\n",
    "ax[1].set_ylabel(\"Average Prices ($)\", size=12)\n",
    "ax[1].set_title(\"Average Property Value\", size=14)\n",
    "ax[1].set_ylim(0,1.1*renovated_mean)\n",
    "ax[1].legend()\n",
    "\n",
    "plt.suptitle(\"Affect of Basement and Renovation on Property Value\", size=16, y=1.02)\n",
    "\n",
    "#uncomment below to export image\n",
    "# plt.savefig(\"images/basement_renovation_value.png\",bbox_inches = \"tight\")\n",
    "plt.show();"
   ]
  },
  {
   "cell_type": "markdown",
   "metadata": {},
   "source": [
    "## Linear Regression Model"
   ]
  },
  {
   "cell_type": "code",
   "execution_count": null,
   "metadata": {},
   "outputs": [],
   "source": [
    "formula = 'price ~' + \"+\" .join(kc_df.columns)\n",
    "all_mod = ols(formula, kc_df).fit()\n",
    "all_mod_summ = all_mod.summary()"
   ]
  },
  {
   "cell_type": "code",
   "execution_count": null,
   "metadata": {},
   "outputs": [],
   "source": [
    "kc1 = kc_df[features]"
   ]
  },
  {
   "cell_type": "code",
   "execution_count": null,
   "metadata": {},
   "outputs": [],
   "source": [
    "kc1"
   ]
  },
  {
   "cell_type": "code",
   "execution_count": null,
   "metadata": {},
   "outputs": [],
   "source": [
    "formula = 'price ~' + \"+\" .join(kc1.columns[1:])\n",
    "all_mod = ols(formula, kc1).fit()\n",
    "all_mod_summ = all_mod.summary()"
   ]
  },
  {
   "cell_type": "code",
   "execution_count": null,
   "metadata": {},
   "outputs": [],
   "source": [
    "print(all_mod_summ)"
   ]
  },
  {
   "cell_type": "markdown",
   "metadata": {},
   "source": [
    "## Creating Dummy Variables "
   ]
  },
  {
   "cell_type": "code",
   "execution_count": null,
   "metadata": {},
   "outputs": [],
   "source": [
    "#List categorical variables\n",
    "categoricals = [ 'view', 'floors', 'waterfront', 'condition',\n",
    "                'grade','renovated', 'season', 'p_zipcode_Q']\n",
    "categoricals"
   ]
  },
  {
   "cell_type": "code",
   "execution_count": null,
   "metadata": {},
   "outputs": [],
   "source": [
    "# Create bar plots\n",
    "fig, axes = plt.subplots(nrows=2, ncols=3, figsize=(18,15), sharey=True)\n",
    "\n",
    "for col, ax in zip(categoricals, axes.flatten()):\n",
    "    (kc_df.groupby(col)               # group values together by column of interest\n",
    "         .mean()['price']        # take the mean of the saleprice for each group\n",
    "         .sort_values()              # sort the groups in ascending order\n",
    "         .plot\n",
    "         .bar(ax=ax))                # create a bar graph on the ax\n",
    "    \n",
    "    ax.set_title(col)                # Make the title the name of the column\n",
    "    \n",
    "fig.tight_layout()"
   ]
  },
  {
   "cell_type": "code",
   "execution_count": null,
   "metadata": {},
   "outputs": [],
   "source": []
  },
  {
   "cell_type": "code",
   "execution_count": null,
   "metadata": {},
   "outputs": [],
   "source": []
  },
  {
   "cell_type": "code",
   "execution_count": null,
   "metadata": {},
   "outputs": [],
   "source": []
  },
  {
   "cell_type": "code",
   "execution_count": null,
   "metadata": {},
   "outputs": [],
   "source": []
  },
  {
   "cell_type": "code",
   "execution_count": null,
   "metadata": {},
   "outputs": [],
   "source": []
  },
  {
   "cell_type": "code",
   "execution_count": null,
   "metadata": {},
   "outputs": [],
   "source": []
  },
  {
   "cell_type": "code",
   "execution_count": null,
   "metadata": {},
   "outputs": [],
   "source": [
    "\n"
   ]
  },
  {
   "cell_type": "code",
   "execution_count": null,
   "metadata": {},
   "outputs": [],
   "source": [
    "# Create dummy variables for your six categorical features\n",
    "\n",
    "# Create dummy variables for your six categorical features\n",
    "\n",
    "cat_kc_df = kc_df[categoricals].astype('category')\n",
    "dummies = pd.get_dummies(cat_kc_df, prefix=categoricals, drop_first=True)\n",
    "\n",
    "kc_preprocessed = kc_df.drop(categoricals, axis=1)\n",
    "\n",
    "kc_preprocessed = pd.concat([kc_preprocessed, dummies], axis=1)\n",
    "\n",
    "kc_preprocess"
   ]
  },
  {
   "cell_type": "code",
   "execution_count": null,
   "metadata": {},
   "outputs": [],
   "source": [
    "kc_preprocessed=kc_preprocessed.drop(['id', 'date', 'lat', 'long', 'yr_renovated', 'zipcode', 'price_zipcode'], axis=1)"
   ]
  },
  {
   "cell_type": "code",
   "execution_count": null,
   "metadata": {},
   "outputs": [],
   "source": [
    "X = kc_preprocessed.drop(['price'], axis = 1)\n",
    "y = kc_preprocessed['price']"
   ]
  },
  {
   "cell_type": "code",
   "execution_count": null,
   "metadata": {},
   "outputs": [],
   "source": [
    "predictors_int = sm.add_constant(X)\n",
    "model1 = sm.OLS(kc_preprocessed['price'],predictors_int).fit()"
   ]
  },
  {
   "cell_type": "code",
   "execution_count": null,
   "metadata": {},
   "outputs": [],
   "source": [
    "print(model1.summary())"
   ]
  },
  {
   "cell_type": "code",
   "execution_count": null,
   "metadata": {},
   "outputs": [],
   "source": [
    "from statsmodels.stats.outliers_influence import variance_inflation_factor"
   ]
  },
  {
   "cell_type": "code",
   "execution_count": null,
   "metadata": {},
   "outputs": [],
   "source": [
    "from patsy import dmatrices\n",
    "%%capture\n",
    "#gather features\n",
    "features = \"+\".join(kc_preprocessed.columns - [\"price\"])\n",
    "y, X = dmatrices('price ~' + features, kc_preprocessed, return_type='dataframe')"
   ]
  },
  {
   "cell_type": "code",
   "execution_count": null,
   "metadata": {},
   "outputs": [],
   "source": [
    "vif = pd.DataFrame()\n",
    "vif[\"VIF Factor\"] = [variance_inflation_factor(X.values, i) for i in range(X.shape[1])]\n",
    "vif[\"features\"] = X.columns"
   ]
  },
  {
   "cell_type": "code",
   "execution_count": null,
   "metadata": {},
   "outputs": [],
   "source": [
    "vif.round(1)"
   ]
  },
  {
   "cell_type": "code",
   "execution_count": null,
   "metadata": {},
   "outputs": [],
   "source": []
  },
  {
   "cell_type": "code",
   "execution_count": null,
   "metadata": {},
   "outputs": [],
   "source": [
    "# Removed the condition and grade because the VIF shows high collinaerity among these groups.\n",
    "cat2 = ['view', 'floors', 'waterfront','renovated', 'season', 'p_zipcode_Q']"
   ]
  },
  {
   "cell_type": "code",
   "execution_count": null,
   "metadata": {},
   "outputs": [],
   "source": [
    "cat2_kc_df = kc_df[cat2].astype('category')\n",
    "dummies = pd.get_dummies(cat2_kc_df, prefix=cat2, drop_first=True)\n",
    "\n",
    "kc_preprocessed2 = kc_df.drop(cat2, axis=1)\n",
    "\n",
    "kc_preprocessed2 = pd.concat([kc_preprocessed2, dummies], axis=1)"
   ]
  },
  {
   "cell_type": "code",
   "execution_count": null,
   "metadata": {},
   "outputs": [],
   "source": [
    "kc_preprocessed2=kc_preprocessed2.drop(['id', 'date', 'lat', 'long', 'yr_renovated', 'zipcode', 'price_zipcode'], axis=1)"
   ]
  },
  {
   "cell_type": "code",
   "execution_count": null,
   "metadata": {},
   "outputs": [],
   "source": [
    "X1 = kc_preprocessed2.drop(['price'], axis = 1)\n",
    "y1 = kc_preprocessed2['price']"
   ]
  },
  {
   "cell_type": "code",
   "execution_count": null,
   "metadata": {},
   "outputs": [],
   "source": [
    "predictors_int = sm.add_constant(X1)\n",
    "model2 = sm.OLS(kc_preprocessed2['price'],predictors_int).fit()\n",
    "print(model2.summary())"
   ]
  },
  {
   "cell_type": "code",
   "execution_count": null,
   "metadata": {},
   "outputs": [],
   "source": [
    "%%capture\n",
    "#gather features\n",
    "features2 = \"+\".join(kc_preprocessed2.columns - [\"price\"])\n",
    "y1, X1 = dmatrices('price ~' + features2, kc_preprocessed2, return_type='dataframe')\n",
    "vif = pd.DataFrame()\n",
    "vif[\"VIF Factor\"] = [variance_inflation_factor(X1.values, i) for i in range(X1.shape[1])]\n",
    "vif[\"features\"] = X1.columns\n",
    "vif.round(1)"
   ]
  },
  {
   "cell_type": "code",
   "execution_count": null,
   "metadata": {},
   "outputs": [],
   "source": [
    "kc_preprocessed2.corr()"
   ]
  },
  {
   "cell_type": "code",
   "execution_count": null,
   "metadata": {},
   "outputs": [],
   "source": [
    "#Look at which features are highly correlated with our y-variable, price.\n",
    "kc_preprocessed2.corr()[abs(kc_preprocessed2.corr()['price']) > 0.3]"
   ]
  },
  {
   "cell_type": "markdown",
   "metadata": {},
   "source": [
    "sqft_living seems to be strongly collilerated with price and other predictors. This will be dropped for now."
   ]
  },
  {
   "cell_type": "code",
   "execution_count": null,
   "metadata": {},
   "outputs": [],
   "source": [
    "kc_preprocessed3=kc_preprocessed2.drop(['sqft_living','grade', 'sqft_above'\n",
    "                                       ], axis=1)"
   ]
  },
  {
   "cell_type": "code",
   "execution_count": null,
   "metadata": {},
   "outputs": [],
   "source": [
    "X2 = kc_preprocessed3.drop(['price'], axis = 1)\n",
    "y2 = kc_preprocessed3['price']"
   ]
  },
  {
   "cell_type": "code",
   "execution_count": null,
   "metadata": {},
   "outputs": [],
   "source": [
    "predictors_int = sm.add_constant(X2)\n",
    "model3 = sm.OLS(kc_preprocessed3['price'],predictors_int).fit()\n",
    "print(model3.summary())"
   ]
  },
  {
   "cell_type": "code",
   "execution_count": null,
   "metadata": {},
   "outputs": [],
   "source": [
    "alpha = 0.05 \n",
    "#ANOVA Test Setup\n",
    "formula = 'price~C(condition)'\n",
    "lm_condition = smf.ols(formula, kc_df).fit()\n",
    "anova_condition = sm.stats.anova_lm(lm_condition, typ=2)\n",
    "\n",
    "if anova_condition[\"PR(>F)\"][0] < alpha:\n",
    "    print(\"The property condition have a statistically significant impact on average property value\")\n",
    "    print(\"Conditions F-statisic Probability: \", anova_condition[\"PR(>F)\"][0])"
   ]
  },
  {
   "cell_type": "code",
   "execution_count": null,
   "metadata": {},
   "outputs": [],
   "source": []
  },
  {
   "cell_type": "code",
   "execution_count": null,
   "metadata": {},
   "outputs": [],
   "source": []
  }
 ],
 "metadata": {
  "kernelspec": {
   "display_name": "Python 3",
   "language": "python",
   "name": "python3"
  },
  "language_info": {
   "codemirror_mode": {
    "name": "ipython",
    "version": 3
   },
   "file_extension": ".py",
   "mimetype": "text/x-python",
   "name": "python",
   "nbconvert_exporter": "python",
   "pygments_lexer": "ipython3",
   "version": "3.8.5"
  }
 },
 "nbformat": 4,
 "nbformat_minor": 2
}
