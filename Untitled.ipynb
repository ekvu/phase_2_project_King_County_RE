{
 "cells": [
  {
   "cell_type": "markdown",
   "metadata": {},
   "source": [
    "# King County Real Estate Predictions\n",
    "Authors: Brian Matsiko, Erin Vu"
   ]
  },
  {
   "cell_type": "markdown",
   "metadata": {},
   "source": [
    "## Table of Contents\n",
    "\n",
    "1. Overview\n",
    "2. Business Problem\n",
    "3. Data\n",
    "4. Recommendation\n",
    "5. Conclusion\n",
    "6. For More Information"
   ]
  },
  {
   "cell_type": "markdown",
   "metadata": {},
   "source": [
    "## 1. Overview\n",
    "\n",
    "In this notebook, we will be exploring the Kings County real estate sales data to identify key features that drive prices up in housing sales in order to maximize the market value of a home to sell for the highest profit margin. In identifying these key features, we can recommend to remodel houses or multifamily units, and focus on these features in new developments to increase their value to rent and sell at higher prices, maximizing profits. We used Python to clean and preprocess the data, execute exploratory data analysis, and build simple linear regression models."
   ]
  },
  {
   "cell_type": "markdown",
   "metadata": {},
   "source": [
    "## 2. Business Problem"
   ]
  },
  {
   "cell_type": "markdown",
   "metadata": {},
   "source": [
    "Our stakeholders at Seattle Rental Group offers services for not only property owners but also to renters and buyers. Their property owner service side will help you lease or sell your home or multifamily property. We want to know how we can advise Seattle Rental Group to apply features to their properties and new developments and advise property owners who use their services to remodel and upgrade their properties to maximize the market value of the property to sell or rent out. Our initial features that we believe have an impact on prices are square feet of the property, the age of the property, and whether or not the property is waterfront."
   ]
  },
  {
   "cell_type": "markdown",
   "metadata": {},
   "source": [
    "## The Data\n",
    "- The source for this data is from the official government website of King's County for housing sales in 2014-2015.\n",
    "- The data is relevant for our analysis because we are focusing in the King's County area and this set has information about housing sales in King's County. \n",
    "- The data set includes 21,597 records 21 features\n",
    "- Features included: \n",
    "        -house id, \n",
    "        -sale date, \n",
    "        -sale price, \n",
    "        -bedrooms, \n",
    "        -bathrooms, \n",
    "        -square footage of home, square footage of the lot, \n",
    "        -how many floors, \n",
    "        -waterfront or not, \n",
    "        -view rating, grade of house, \n",
    "        -square footage above the basement, \n",
    "        -square footage of the basement, \n",
    "        -the year the house was built,\n",
    "        -the year the house was renovated, \n",
    "        -the zip code of the house, \n",
    "        -the latitude and longitude, \n",
    "        -square footage of the living space for the nearest 15 neighbors\n",
    "        -square footage of lot for the nearest 15 neighbors\n",
    "- https://info.kingcounty.gov/assessor/esales/Residential.aspx"
   ]
  },
  {
   "cell_type": "markdown",
   "metadata": {},
   "source": [
    "## Methods"
   ]
  },
  {
   "cell_type": "markdown",
   "metadata": {},
   "source": [
    "- We started off by importing the data and looked at the data \n",
    "- We then identified our numerical/continuous variables and our categorical variables. \n",
    "- We cleaned up our data using Python and then visualized histograms and correlations with Seaborne and MatPlotLib\n",
    "- We then used Stats Models and ScikitLearn to build a first simple model\n",
    "    - First simple model: Target was price and our variable was square feet of living area as it had the highest correlation to price\n",
    "- After our first model, we added, transformed, and engineered new features to see how they impacted our model.\n",
    "\n",
    "We believe that this approach is appropriate as our goal of our analysis is to see what features drive sale price up so we can focus on remodelling or upgrading to those features. "
   ]
  },
  {
   "cell_type": "markdown",
   "metadata": {},
   "source": [
    "## Results"
   ]
  },
  {
   "cell_type": "code",
   "execution_count": null,
   "metadata": {},
   "outputs": [],
   "source": []
  },
  {
   "cell_type": "code",
   "execution_count": null,
   "metadata": {},
   "outputs": [],
   "source": []
  },
  {
   "cell_type": "code",
   "execution_count": null,
   "metadata": {},
   "outputs": [],
   "source": []
  },
  {
   "cell_type": "code",
   "execution_count": null,
   "metadata": {},
   "outputs": [],
   "source": []
  },
  {
   "cell_type": "markdown",
   "metadata": {},
   "source": [
    "## Conclusions"
   ]
  },
  {
   "cell_type": "markdown",
   "metadata": {},
   "source": [
    "We found that these features had the greatest impact on sale price of houses in King County of Washington. We recommend that our stakeholder remodel, upgrade, and develop properties to have these features as they increase the sale price. Our stakeholder can also communicate these findings to property owners who use their services to lease or sell their own properties. Our model might not fully solve the business problem as our data might only include home sales and not multifamily buildings. We also lack a full understanding of the neighborhoods and how they are perceived. Other ways our model might be incomplete are the other amenities a house might have not included in the data, such as ac/heater systems, appliances, type of flooring, or attics. In the future, we can add to our model by adding data on mutlifamily building sales as well as trying to find out more information on specific housing amenities and neighborhood perception that might impact the sale price. "
   ]
  },
  {
   "cell_type": "markdown",
   "metadata": {},
   "source": [
    "## For More Information\n",
    "Please review our full analysis in our Jupyter Notebook and our Presentation.\n",
    "\n",
    "For additional questions, please contact:\n",
    "\n",
    "Brian Matsiko at \n",
    "\n",
    "Erin Vu at erin.vu94@gmail.com"
   ]
  },
  {
   "cell_type": "code",
   "execution_count": null,
   "metadata": {},
   "outputs": [],
   "source": []
  }
 ],
 "metadata": {
  "kernelspec": {
   "display_name": "Python (learn-env)",
   "language": "python",
   "name": "learn-env"
  },
  "language_info": {
   "codemirror_mode": {
    "name": "ipython",
    "version": 3
   },
   "file_extension": ".py",
   "mimetype": "text/x-python",
   "name": "python",
   "nbconvert_exporter": "python",
   "pygments_lexer": "ipython3",
   "version": "3.8.5"
  }
 },
 "nbformat": 4,
 "nbformat_minor": 4
}
